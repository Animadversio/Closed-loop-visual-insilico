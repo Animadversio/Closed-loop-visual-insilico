{
 "cells": [
  {
   "cell_type": "code",
   "execution_count": 1,
   "metadata": {},
   "outputs": [],
   "source": [
    "import sys\n",
    "import os\n",
    "from os.path import join\n",
    "import time\n",
    "import torch\n",
    "import cupy as cp\n",
    "from cuml.decomposition import PCA, TruncatedSVD\n",
    "from sklearn.decomposition import PCA as PCA_sklearn\n",
    "# Suppose your tensor is already on the GPU\n",
    "# x = torch.randn(1110, 256, 56, 56, device='cpu')\n",
    "# x = feat_dict_lyrswp['.layer1.Bottleneck0'] # shape: [1110, 256, 56, 56]\n",
    "# torch.save(x, join(dataroot, \"temp_data_layer1_bottleneck0.pt\"))\n",
    "dataroot = r\"/n/holylfs06/LABS/kempner_fellow_binxuwang/Users/binxuwang/Projects/VVS_Accentuation\"\n",
    "x = torch.load(join(dataroot, \"temp_data_layer1_bottleneck0.pt\"))"
   ]
  },
  {
   "cell_type": "code",
   "execution_count": 2,
   "metadata": {},
   "outputs": [],
   "source": [
    "# Flatten the tensor from dim 1 onward\n",
    "x_flat = x.view(x.size(0), -1)  # shape: (1110, 802816)\n",
    "n_components = 1000"
   ]
  },
  {
   "cell_type": "code",
   "execution_count": 3,
   "metadata": {},
   "outputs": [
    {
     "name": "stdout",
     "output_type": "stream",
     "text": [
      "Time taken: 1.6050195693969727 seconds\n"
     ]
    },
    {
     "ename": "MemoryError",
     "evalue": "std::bad_alloc: out_of_memory: CUDA error at: /n/home12/binxuwang/.conda/envs/torch2/include/rmm/mr/device/cuda_memory_resource.hpp:62: cudaErrorMemoryAllocation out of memory",
     "output_type": "error",
     "traceback": [
      "\u001b[0;31m---------------------------------------------------------------------------\u001b[0m",
      "\u001b[0;31mMemoryError\u001b[0m                               Traceback (most recent call last)",
      "Cell \u001b[0;32mIn[3], line 12\u001b[0m\n\u001b[1;32m     10\u001b[0m pca \u001b[38;5;241m=\u001b[39m PCA(n_components \u001b[38;5;241m=\u001b[39m n_components)\n\u001b[1;32m     11\u001b[0m \u001b[38;5;66;03m# Fit and transform the data using PCA\u001b[39;00m\n\u001b[0;32m---> 12\u001b[0m x_pca \u001b[38;5;241m=\u001b[39m \u001b[43mpca\u001b[49m\u001b[38;5;241;43m.\u001b[39;49m\u001b[43mfit_transform\u001b[49m\u001b[43m(\u001b[49m\u001b[43mx_cupy\u001b[49m\u001b[43m)\u001b[49m\n\u001b[1;32m     13\u001b[0m \u001b[38;5;28mprint\u001b[39m(\u001b[38;5;124m\"\u001b[39m\u001b[38;5;124mTransformed shape:\u001b[39m\u001b[38;5;124m\"\u001b[39m, x_pca\u001b[38;5;241m.\u001b[39mshape)  \u001b[38;5;66;03m# Should be (1110, n_components)\u001b[39;00m\n\u001b[1;32m     14\u001b[0m t2 \u001b[38;5;241m=\u001b[39m time\u001b[38;5;241m.\u001b[39mtime()\n",
      "File \u001b[0;32m~/.conda/envs/torch2/lib/python3.10/site-packages/cuml/internals/api_decorators.py:188\u001b[0m, in \u001b[0;36m_make_decorator_function.<locals>.decorator_function.<locals>.decorator_closure.<locals>.wrapper\u001b[0;34m(*args, **kwargs)\u001b[0m\n\u001b[1;32m    185\u001b[0m     set_api_output_dtype(output_dtype)\n\u001b[1;32m    187\u001b[0m \u001b[38;5;28;01mif\u001b[39;00m process_return:\n\u001b[0;32m--> 188\u001b[0m     ret \u001b[38;5;241m=\u001b[39m \u001b[43mfunc\u001b[49m\u001b[43m(\u001b[49m\u001b[38;5;241;43m*\u001b[39;49m\u001b[43margs\u001b[49m\u001b[43m,\u001b[49m\u001b[43m \u001b[49m\u001b[38;5;241;43m*\u001b[39;49m\u001b[38;5;241;43m*\u001b[39;49m\u001b[43mkwargs\u001b[49m\u001b[43m)\u001b[49m\n\u001b[1;32m    189\u001b[0m \u001b[38;5;28;01melse\u001b[39;00m:\n\u001b[1;32m    190\u001b[0m     \u001b[38;5;28;01mreturn\u001b[39;00m func(\u001b[38;5;241m*\u001b[39margs, \u001b[38;5;241m*\u001b[39m\u001b[38;5;241m*\u001b[39mkwargs)\n",
      "File \u001b[0;32m~/.conda/envs/torch2/lib/python3.10/site-packages/cuml/internals/api_decorators.py:393\u001b[0m, in \u001b[0;36menable_device_interop.<locals>.dispatch\u001b[0;34m(self, *args, **kwargs)\u001b[0m\n\u001b[1;32m    391\u001b[0m \u001b[38;5;28;01mif\u001b[39;00m \u001b[38;5;28mhasattr\u001b[39m(\u001b[38;5;28mself\u001b[39m, \u001b[38;5;124m\"\u001b[39m\u001b[38;5;124mdispatch_func\u001b[39m\u001b[38;5;124m\"\u001b[39m):\n\u001b[1;32m    392\u001b[0m     func_name \u001b[38;5;241m=\u001b[39m gpu_func\u001b[38;5;241m.\u001b[39m\u001b[38;5;18m__name__\u001b[39m\n\u001b[0;32m--> 393\u001b[0m     \u001b[38;5;28;01mreturn\u001b[39;00m \u001b[38;5;28;43mself\u001b[39;49m\u001b[38;5;241;43m.\u001b[39;49m\u001b[43mdispatch_func\u001b[49m\u001b[43m(\u001b[49m\u001b[43mfunc_name\u001b[49m\u001b[43m,\u001b[49m\u001b[43m \u001b[49m\u001b[43mgpu_func\u001b[49m\u001b[43m,\u001b[49m\u001b[43m \u001b[49m\u001b[38;5;241;43m*\u001b[39;49m\u001b[43margs\u001b[49m\u001b[43m,\u001b[49m\u001b[43m \u001b[49m\u001b[38;5;241;43m*\u001b[39;49m\u001b[38;5;241;43m*\u001b[39;49m\u001b[43mkwargs\u001b[49m\u001b[43m)\u001b[49m\n\u001b[1;32m    394\u001b[0m \u001b[38;5;28;01melse\u001b[39;00m:\n\u001b[1;32m    395\u001b[0m     \u001b[38;5;28;01mreturn\u001b[39;00m gpu_func(\u001b[38;5;28mself\u001b[39m, \u001b[38;5;241m*\u001b[39margs, \u001b[38;5;241m*\u001b[39m\u001b[38;5;241m*\u001b[39mkwargs)\n",
      "File \u001b[0;32m~/.conda/envs/torch2/lib/python3.10/site-packages/cuml/internals/api_decorators.py:190\u001b[0m, in \u001b[0;36m_make_decorator_function.<locals>.decorator_function.<locals>.decorator_closure.<locals>.wrapper\u001b[0;34m(*args, **kwargs)\u001b[0m\n\u001b[1;32m    188\u001b[0m         ret \u001b[38;5;241m=\u001b[39m func(\u001b[38;5;241m*\u001b[39margs, \u001b[38;5;241m*\u001b[39m\u001b[38;5;241m*\u001b[39mkwargs)\n\u001b[1;32m    189\u001b[0m     \u001b[38;5;28;01melse\u001b[39;00m:\n\u001b[0;32m--> 190\u001b[0m         \u001b[38;5;28;01mreturn\u001b[39;00m \u001b[43mfunc\u001b[49m\u001b[43m(\u001b[49m\u001b[38;5;241;43m*\u001b[39;49m\u001b[43margs\u001b[49m\u001b[43m,\u001b[49m\u001b[43m \u001b[49m\u001b[38;5;241;43m*\u001b[39;49m\u001b[38;5;241;43m*\u001b[39;49m\u001b[43mkwargs\u001b[49m\u001b[43m)\u001b[49m\n\u001b[1;32m    192\u001b[0m \u001b[38;5;28;01mreturn\u001b[39;00m cm\u001b[38;5;241m.\u001b[39mprocess_return(ret)\n",
      "File \u001b[0;32mbase.pyx:687\u001b[0m, in \u001b[0;36mcuml.internals.base.UniversalBase.dispatch_func\u001b[0;34m()\u001b[0m\n",
      "File \u001b[0;32mpca.pyx:510\u001b[0m, in \u001b[0;36mcuml.decomposition.pca.PCA.fit_transform\u001b[0;34m()\u001b[0m\n",
      "File \u001b[0;32m~/.conda/envs/torch2/lib/python3.10/site-packages/cuml/internals/api_decorators.py:188\u001b[0m, in \u001b[0;36m_make_decorator_function.<locals>.decorator_function.<locals>.decorator_closure.<locals>.wrapper\u001b[0;34m(*args, **kwargs)\u001b[0m\n\u001b[1;32m    185\u001b[0m     set_api_output_dtype(output_dtype)\n\u001b[1;32m    187\u001b[0m \u001b[38;5;28;01mif\u001b[39;00m process_return:\n\u001b[0;32m--> 188\u001b[0m     ret \u001b[38;5;241m=\u001b[39m \u001b[43mfunc\u001b[49m\u001b[43m(\u001b[49m\u001b[38;5;241;43m*\u001b[39;49m\u001b[43margs\u001b[49m\u001b[43m,\u001b[49m\u001b[43m \u001b[49m\u001b[38;5;241;43m*\u001b[39;49m\u001b[38;5;241;43m*\u001b[39;49m\u001b[43mkwargs\u001b[49m\u001b[43m)\u001b[49m\n\u001b[1;32m    189\u001b[0m \u001b[38;5;28;01melse\u001b[39;00m:\n\u001b[1;32m    190\u001b[0m     \u001b[38;5;28;01mreturn\u001b[39;00m func(\u001b[38;5;241m*\u001b[39margs, \u001b[38;5;241m*\u001b[39m\u001b[38;5;241m*\u001b[39mkwargs)\n",
      "File \u001b[0;32m~/.conda/envs/torch2/lib/python3.10/site-packages/cuml/internals/api_decorators.py:393\u001b[0m, in \u001b[0;36menable_device_interop.<locals>.dispatch\u001b[0;34m(self, *args, **kwargs)\u001b[0m\n\u001b[1;32m    391\u001b[0m \u001b[38;5;28;01mif\u001b[39;00m \u001b[38;5;28mhasattr\u001b[39m(\u001b[38;5;28mself\u001b[39m, \u001b[38;5;124m\"\u001b[39m\u001b[38;5;124mdispatch_func\u001b[39m\u001b[38;5;124m\"\u001b[39m):\n\u001b[1;32m    392\u001b[0m     func_name \u001b[38;5;241m=\u001b[39m gpu_func\u001b[38;5;241m.\u001b[39m\u001b[38;5;18m__name__\u001b[39m\n\u001b[0;32m--> 393\u001b[0m     \u001b[38;5;28;01mreturn\u001b[39;00m \u001b[38;5;28;43mself\u001b[39;49m\u001b[38;5;241;43m.\u001b[39;49m\u001b[43mdispatch_func\u001b[49m\u001b[43m(\u001b[49m\u001b[43mfunc_name\u001b[49m\u001b[43m,\u001b[49m\u001b[43m \u001b[49m\u001b[43mgpu_func\u001b[49m\u001b[43m,\u001b[49m\u001b[43m \u001b[49m\u001b[38;5;241;43m*\u001b[39;49m\u001b[43margs\u001b[49m\u001b[43m,\u001b[49m\u001b[43m \u001b[49m\u001b[38;5;241;43m*\u001b[39;49m\u001b[38;5;241;43m*\u001b[39;49m\u001b[43mkwargs\u001b[49m\u001b[43m)\u001b[49m\n\u001b[1;32m    394\u001b[0m \u001b[38;5;28;01melse\u001b[39;00m:\n\u001b[1;32m    395\u001b[0m     \u001b[38;5;28;01mreturn\u001b[39;00m gpu_func(\u001b[38;5;28mself\u001b[39m, \u001b[38;5;241m*\u001b[39margs, \u001b[38;5;241m*\u001b[39m\u001b[38;5;241m*\u001b[39mkwargs)\n",
      "File \u001b[0;32m~/.conda/envs/torch2/lib/python3.10/site-packages/cuml/internals/api_decorators.py:190\u001b[0m, in \u001b[0;36m_make_decorator_function.<locals>.decorator_function.<locals>.decorator_closure.<locals>.wrapper\u001b[0;34m(*args, **kwargs)\u001b[0m\n\u001b[1;32m    188\u001b[0m         ret \u001b[38;5;241m=\u001b[39m func(\u001b[38;5;241m*\u001b[39margs, \u001b[38;5;241m*\u001b[39m\u001b[38;5;241m*\u001b[39mkwargs)\n\u001b[1;32m    189\u001b[0m     \u001b[38;5;28;01melse\u001b[39;00m:\n\u001b[0;32m--> 190\u001b[0m         \u001b[38;5;28;01mreturn\u001b[39;00m \u001b[43mfunc\u001b[49m\u001b[43m(\u001b[49m\u001b[38;5;241;43m*\u001b[39;49m\u001b[43margs\u001b[49m\u001b[43m,\u001b[49m\u001b[43m \u001b[49m\u001b[38;5;241;43m*\u001b[39;49m\u001b[38;5;241;43m*\u001b[39;49m\u001b[43mkwargs\u001b[49m\u001b[43m)\u001b[49m\n\u001b[1;32m    192\u001b[0m \u001b[38;5;28;01mreturn\u001b[39;00m cm\u001b[38;5;241m.\u001b[39mprocess_return(ret)\n",
      "File \u001b[0;32mbase.pyx:687\u001b[0m, in \u001b[0;36mcuml.internals.base.UniversalBase.dispatch_func\u001b[0;34m()\u001b[0m\n",
      "File \u001b[0;32mpca.pyx:471\u001b[0m, in \u001b[0;36mcuml.decomposition.pca.PCA.fit\u001b[0;34m()\u001b[0m\n",
      "\u001b[0;31mMemoryError\u001b[0m: std::bad_alloc: out_of_memory: CUDA error at: /n/home12/binxuwang/.conda/envs/torch2/include/rmm/mr/device/cuda_memory_resource.hpp:62: cudaErrorMemoryAllocation out of memory"
     ]
    }
   ],
   "source": [
    "# Option 1: Using DLPack to convert to CuPy array (efficient, avoids extra copies)\n",
    "# x_cupy = cp.fromDlpack(torch.utils.dlpack.to_dlpack(x_flat))\n",
    "# Option 2: Alternatively, if you don't use DLPack (this moves data to CPU then to GPU memory)\n",
    "t0 = time.time()\n",
    "x_cupy = cp.asarray(x_flat.cpu().numpy())\n",
    "t1 = time.time()\n",
    "print(f\"Time taken: {t1 - t0} seconds\")\n",
    "# Define the number of principal components you want\n",
    "# Initialize cuML's PCA\n",
    "pca = PCA(n_components = n_components)\n",
    "# Fit and transform the data using PCA\n",
    "x_pca = pca.fit_transform(x_cupy)\n",
    "print(\"Transformed shape:\", x_pca.shape)  # Should be (1110, n_components)\n",
    "t2 = time.time()\n",
    "print(f\"Time taken: {t2 - t1} seconds\")"
   ]
  },
  {
   "cell_type": "code",
   "execution_count": 6,
   "metadata": {},
   "outputs": [
    {
     "name": "stdout",
     "output_type": "stream",
     "text": [
      "Time taken: 0.3794596195220947 seconds\n"
     ]
    },
    {
     "ename": "MemoryError",
     "evalue": "std::bad_alloc: out_of_memory: CUDA error at: /n/home12/binxuwang/.conda/envs/torch2/include/rmm/mr/device/cuda_memory_resource.hpp:62: cudaErrorMemoryAllocation out of memory",
     "output_type": "error",
     "traceback": [
      "\u001b[0;31m---------------------------------------------------------------------------\u001b[0m",
      "\u001b[0;31mMemoryError\u001b[0m                               Traceback (most recent call last)",
      "Cell \u001b[0;32mIn[6], line 12\u001b[0m\n\u001b[1;32m     10\u001b[0m pca \u001b[38;5;241m=\u001b[39m PCA(n_components \u001b[38;5;241m=\u001b[39m n_components, svd_solver\u001b[38;5;241m=\u001b[39m\u001b[38;5;124m'\u001b[39m\u001b[38;5;124mjacobi\u001b[39m\u001b[38;5;124m'\u001b[39m)\n\u001b[1;32m     11\u001b[0m \u001b[38;5;66;03m# Fit and transform the data using PCA\u001b[39;00m\n\u001b[0;32m---> 12\u001b[0m x_pca \u001b[38;5;241m=\u001b[39m \u001b[43mpca\u001b[49m\u001b[38;5;241;43m.\u001b[39;49m\u001b[43mfit_transform\u001b[49m\u001b[43m(\u001b[49m\u001b[43mx_cupy\u001b[49m\u001b[43m,\u001b[49m\u001b[43m)\u001b[49m\n\u001b[1;32m     13\u001b[0m \u001b[38;5;28mprint\u001b[39m(\u001b[38;5;124m\"\u001b[39m\u001b[38;5;124mTransformed shape:\u001b[39m\u001b[38;5;124m\"\u001b[39m, x_pca\u001b[38;5;241m.\u001b[39mshape)  \u001b[38;5;66;03m# Should be (1110, n_components)\u001b[39;00m\n\u001b[1;32m     14\u001b[0m t2 \u001b[38;5;241m=\u001b[39m time\u001b[38;5;241m.\u001b[39mtime()\n",
      "File \u001b[0;32m~/.conda/envs/torch2/lib/python3.10/site-packages/cuml/internals/api_decorators.py:188\u001b[0m, in \u001b[0;36m_make_decorator_function.<locals>.decorator_function.<locals>.decorator_closure.<locals>.wrapper\u001b[0;34m(*args, **kwargs)\u001b[0m\n\u001b[1;32m    185\u001b[0m     set_api_output_dtype(output_dtype)\n\u001b[1;32m    187\u001b[0m \u001b[38;5;28;01mif\u001b[39;00m process_return:\n\u001b[0;32m--> 188\u001b[0m     ret \u001b[38;5;241m=\u001b[39m \u001b[43mfunc\u001b[49m\u001b[43m(\u001b[49m\u001b[38;5;241;43m*\u001b[39;49m\u001b[43margs\u001b[49m\u001b[43m,\u001b[49m\u001b[43m \u001b[49m\u001b[38;5;241;43m*\u001b[39;49m\u001b[38;5;241;43m*\u001b[39;49m\u001b[43mkwargs\u001b[49m\u001b[43m)\u001b[49m\n\u001b[1;32m    189\u001b[0m \u001b[38;5;28;01melse\u001b[39;00m:\n\u001b[1;32m    190\u001b[0m     \u001b[38;5;28;01mreturn\u001b[39;00m func(\u001b[38;5;241m*\u001b[39margs, \u001b[38;5;241m*\u001b[39m\u001b[38;5;241m*\u001b[39mkwargs)\n",
      "File \u001b[0;32m~/.conda/envs/torch2/lib/python3.10/site-packages/cuml/internals/api_decorators.py:393\u001b[0m, in \u001b[0;36menable_device_interop.<locals>.dispatch\u001b[0;34m(self, *args, **kwargs)\u001b[0m\n\u001b[1;32m    391\u001b[0m \u001b[38;5;28;01mif\u001b[39;00m \u001b[38;5;28mhasattr\u001b[39m(\u001b[38;5;28mself\u001b[39m, \u001b[38;5;124m\"\u001b[39m\u001b[38;5;124mdispatch_func\u001b[39m\u001b[38;5;124m\"\u001b[39m):\n\u001b[1;32m    392\u001b[0m     func_name \u001b[38;5;241m=\u001b[39m gpu_func\u001b[38;5;241m.\u001b[39m\u001b[38;5;18m__name__\u001b[39m\n\u001b[0;32m--> 393\u001b[0m     \u001b[38;5;28;01mreturn\u001b[39;00m \u001b[38;5;28;43mself\u001b[39;49m\u001b[38;5;241;43m.\u001b[39;49m\u001b[43mdispatch_func\u001b[49m\u001b[43m(\u001b[49m\u001b[43mfunc_name\u001b[49m\u001b[43m,\u001b[49m\u001b[43m \u001b[49m\u001b[43mgpu_func\u001b[49m\u001b[43m,\u001b[49m\u001b[43m \u001b[49m\u001b[38;5;241;43m*\u001b[39;49m\u001b[43margs\u001b[49m\u001b[43m,\u001b[49m\u001b[43m \u001b[49m\u001b[38;5;241;43m*\u001b[39;49m\u001b[38;5;241;43m*\u001b[39;49m\u001b[43mkwargs\u001b[49m\u001b[43m)\u001b[49m\n\u001b[1;32m    394\u001b[0m \u001b[38;5;28;01melse\u001b[39;00m:\n\u001b[1;32m    395\u001b[0m     \u001b[38;5;28;01mreturn\u001b[39;00m gpu_func(\u001b[38;5;28mself\u001b[39m, \u001b[38;5;241m*\u001b[39margs, \u001b[38;5;241m*\u001b[39m\u001b[38;5;241m*\u001b[39mkwargs)\n",
      "File \u001b[0;32m~/.conda/envs/torch2/lib/python3.10/site-packages/cuml/internals/api_decorators.py:190\u001b[0m, in \u001b[0;36m_make_decorator_function.<locals>.decorator_function.<locals>.decorator_closure.<locals>.wrapper\u001b[0;34m(*args, **kwargs)\u001b[0m\n\u001b[1;32m    188\u001b[0m         ret \u001b[38;5;241m=\u001b[39m func(\u001b[38;5;241m*\u001b[39margs, \u001b[38;5;241m*\u001b[39m\u001b[38;5;241m*\u001b[39mkwargs)\n\u001b[1;32m    189\u001b[0m     \u001b[38;5;28;01melse\u001b[39;00m:\n\u001b[0;32m--> 190\u001b[0m         \u001b[38;5;28;01mreturn\u001b[39;00m \u001b[43mfunc\u001b[49m\u001b[43m(\u001b[49m\u001b[38;5;241;43m*\u001b[39;49m\u001b[43margs\u001b[49m\u001b[43m,\u001b[49m\u001b[43m \u001b[49m\u001b[38;5;241;43m*\u001b[39;49m\u001b[38;5;241;43m*\u001b[39;49m\u001b[43mkwargs\u001b[49m\u001b[43m)\u001b[49m\n\u001b[1;32m    192\u001b[0m \u001b[38;5;28;01mreturn\u001b[39;00m cm\u001b[38;5;241m.\u001b[39mprocess_return(ret)\n",
      "File \u001b[0;32mbase.pyx:687\u001b[0m, in \u001b[0;36mcuml.internals.base.UniversalBase.dispatch_func\u001b[0;34m()\u001b[0m\n",
      "File \u001b[0;32mpca.pyx:510\u001b[0m, in \u001b[0;36mcuml.decomposition.pca.PCA.fit_transform\u001b[0;34m()\u001b[0m\n",
      "File \u001b[0;32m~/.conda/envs/torch2/lib/python3.10/site-packages/cuml/internals/api_decorators.py:188\u001b[0m, in \u001b[0;36m_make_decorator_function.<locals>.decorator_function.<locals>.decorator_closure.<locals>.wrapper\u001b[0;34m(*args, **kwargs)\u001b[0m\n\u001b[1;32m    185\u001b[0m     set_api_output_dtype(output_dtype)\n\u001b[1;32m    187\u001b[0m \u001b[38;5;28;01mif\u001b[39;00m process_return:\n\u001b[0;32m--> 188\u001b[0m     ret \u001b[38;5;241m=\u001b[39m \u001b[43mfunc\u001b[49m\u001b[43m(\u001b[49m\u001b[38;5;241;43m*\u001b[39;49m\u001b[43margs\u001b[49m\u001b[43m,\u001b[49m\u001b[43m \u001b[49m\u001b[38;5;241;43m*\u001b[39;49m\u001b[38;5;241;43m*\u001b[39;49m\u001b[43mkwargs\u001b[49m\u001b[43m)\u001b[49m\n\u001b[1;32m    189\u001b[0m \u001b[38;5;28;01melse\u001b[39;00m:\n\u001b[1;32m    190\u001b[0m     \u001b[38;5;28;01mreturn\u001b[39;00m func(\u001b[38;5;241m*\u001b[39margs, \u001b[38;5;241m*\u001b[39m\u001b[38;5;241m*\u001b[39mkwargs)\n",
      "File \u001b[0;32m~/.conda/envs/torch2/lib/python3.10/site-packages/cuml/internals/api_decorators.py:393\u001b[0m, in \u001b[0;36menable_device_interop.<locals>.dispatch\u001b[0;34m(self, *args, **kwargs)\u001b[0m\n\u001b[1;32m    391\u001b[0m \u001b[38;5;28;01mif\u001b[39;00m \u001b[38;5;28mhasattr\u001b[39m(\u001b[38;5;28mself\u001b[39m, \u001b[38;5;124m\"\u001b[39m\u001b[38;5;124mdispatch_func\u001b[39m\u001b[38;5;124m\"\u001b[39m):\n\u001b[1;32m    392\u001b[0m     func_name \u001b[38;5;241m=\u001b[39m gpu_func\u001b[38;5;241m.\u001b[39m\u001b[38;5;18m__name__\u001b[39m\n\u001b[0;32m--> 393\u001b[0m     \u001b[38;5;28;01mreturn\u001b[39;00m \u001b[38;5;28;43mself\u001b[39;49m\u001b[38;5;241;43m.\u001b[39;49m\u001b[43mdispatch_func\u001b[49m\u001b[43m(\u001b[49m\u001b[43mfunc_name\u001b[49m\u001b[43m,\u001b[49m\u001b[43m \u001b[49m\u001b[43mgpu_func\u001b[49m\u001b[43m,\u001b[49m\u001b[43m \u001b[49m\u001b[38;5;241;43m*\u001b[39;49m\u001b[43margs\u001b[49m\u001b[43m,\u001b[49m\u001b[43m \u001b[49m\u001b[38;5;241;43m*\u001b[39;49m\u001b[38;5;241;43m*\u001b[39;49m\u001b[43mkwargs\u001b[49m\u001b[43m)\u001b[49m\n\u001b[1;32m    394\u001b[0m \u001b[38;5;28;01melse\u001b[39;00m:\n\u001b[1;32m    395\u001b[0m     \u001b[38;5;28;01mreturn\u001b[39;00m gpu_func(\u001b[38;5;28mself\u001b[39m, \u001b[38;5;241m*\u001b[39margs, \u001b[38;5;241m*\u001b[39m\u001b[38;5;241m*\u001b[39mkwargs)\n",
      "File \u001b[0;32m~/.conda/envs/torch2/lib/python3.10/site-packages/cuml/internals/api_decorators.py:190\u001b[0m, in \u001b[0;36m_make_decorator_function.<locals>.decorator_function.<locals>.decorator_closure.<locals>.wrapper\u001b[0;34m(*args, **kwargs)\u001b[0m\n\u001b[1;32m    188\u001b[0m         ret \u001b[38;5;241m=\u001b[39m func(\u001b[38;5;241m*\u001b[39margs, \u001b[38;5;241m*\u001b[39m\u001b[38;5;241m*\u001b[39mkwargs)\n\u001b[1;32m    189\u001b[0m     \u001b[38;5;28;01melse\u001b[39;00m:\n\u001b[0;32m--> 190\u001b[0m         \u001b[38;5;28;01mreturn\u001b[39;00m \u001b[43mfunc\u001b[49m\u001b[43m(\u001b[49m\u001b[38;5;241;43m*\u001b[39;49m\u001b[43margs\u001b[49m\u001b[43m,\u001b[49m\u001b[43m \u001b[49m\u001b[38;5;241;43m*\u001b[39;49m\u001b[38;5;241;43m*\u001b[39;49m\u001b[43mkwargs\u001b[49m\u001b[43m)\u001b[49m\n\u001b[1;32m    192\u001b[0m \u001b[38;5;28;01mreturn\u001b[39;00m cm\u001b[38;5;241m.\u001b[39mprocess_return(ret)\n",
      "File \u001b[0;32mbase.pyx:687\u001b[0m, in \u001b[0;36mcuml.internals.base.UniversalBase.dispatch_func\u001b[0;34m()\u001b[0m\n",
      "File \u001b[0;32mpca.pyx:471\u001b[0m, in \u001b[0;36mcuml.decomposition.pca.PCA.fit\u001b[0;34m()\u001b[0m\n",
      "\u001b[0;31mMemoryError\u001b[0m: std::bad_alloc: out_of_memory: CUDA error at: /n/home12/binxuwang/.conda/envs/torch2/include/rmm/mr/device/cuda_memory_resource.hpp:62: cudaErrorMemoryAllocation out of memory"
     ]
    }
   ],
   "source": [
    "# Option 1: Using DLPack to convert to CuPy array (efficient, avoids extra copies)\n",
    "# x_cupy = cp.fromDlpack(torch.utils.dlpack.to_dlpack(x_flat))\n",
    "# Option 2: Alternatively, if you don't use DLPack (this moves data to CPU then to GPU memory)\n",
    "t0 = time.time()\n",
    "x_cupy = cp.asarray(x_flat.cpu().numpy())\n",
    "t1 = time.time()\n",
    "print(f\"Time taken: {t1 - t0} seconds\")\n",
    "# Define the number of principal components you want\n",
    "# Initialize cuML's PCA\n",
    "pca = PCA(n_components = n_components, svd_solver='jacobi')\n",
    "# Fit and transform the data using PCA\n",
    "x_pca = pca.fit_transform(x_cupy,)\n",
    "print(\"Transformed shape:\", x_pca.shape)  # Should be (1110, n_components)\n",
    "t2 = time.time()\n",
    "print(f\"Time taken: {t2 - t1} seconds\")"
   ]
  },
  {
   "cell_type": "code",
   "execution_count": 4,
   "metadata": {},
   "outputs": [
    {
     "name": "stdout",
     "output_type": "stream",
     "text": [
      "Time taken: 0.23645663261413574 seconds\n",
      "Transformed shape: (802816, 1000)\n",
      "Time taken: 0.47155237197875977 seconds\n"
     ]
    }
   ],
   "source": [
    "# Option 1: Using DLPack to convert to CuPy array (efficient, avoids extra copies)\n",
    "# x_cupy = cp.fromDlpack(torch.utils.dlpack.to_dlpack(x_flat))\n",
    "# Option 2: Alternatively, if you don't use DLPack (this moves data to CPU then to GPU memory)\n",
    "t0 = time.time()\n",
    "x_cupy = cp.asarray(x_flat.cpu().numpy())\n",
    "t1 = time.time()\n",
    "print(f\"Time taken: {t1 - t0} seconds\")\n",
    "# Define the number of principal components you want\n",
    "# Initialize cuML's PCA\n",
    "pca = PCA(n_components = n_components)\n",
    "# Fit and transform the data using PCA\n",
    "x_pca = pca.fit_transform(x_cupy.T)\n",
    "print(\"Transformed shape:\", x_pca.shape)  # Should be (1110, n_components)\n",
    "t2 = time.time()\n",
    "print(f\"Time taken: {t2 - t1} seconds\")"
   ]
  },
  {
   "cell_type": "code",
   "execution_count": null,
   "metadata": {},
   "outputs": [],
   "source": [
    "t2 = time.time()\n",
    "pca_sklearn = PCA_sklearn(n_components=n_components, svd_solver='randomized', random_state=42)\n",
    "x_pca_sklearn = pca_sklearn.fit_transform(x_flat.cpu().numpy().T)\n",
    "print(\"Transformed shape:\", x_pca_sklearn.shape)  # Should be (1110, n_components)\n",
    "t3 = time.time()\n",
    "print(f\"Time taken: {t3 - t2} seconds\")"
   ]
  },
  {
   "cell_type": "markdown",
   "metadata": {},
   "source": [
    "\n",
    "* Sklearn PCA transpose matrix 329.28 seconds\n",
    "* cuml PCA transpose matrix 0.32 seconds\n",
    "* cuml PCA original matrix -- CUDA Out of Memory"
   ]
  },
  {
   "cell_type": "code",
   "execution_count": null,
   "metadata": {},
   "outputs": [],
   "source": [
    "# cuml TruncatedSVD\n",
    "t3 = time.time()\n",
    "svd = TruncatedSVD(n_components=n_components, algorithm='full', random_state=42)\n",
    "x_svd = svd.fit_transform(x_cupy.T)\n",
    "t4 = time.time()\n",
    "print(\"Transformed shape:\", x_svd.shape)  # Should be (1110, n_components)\n",
    "print(f\"Time taken: {t4 - t3} seconds\")"
   ]
  },
  {
   "cell_type": "code",
   "execution_count": 79,
   "metadata": {},
   "outputs": [],
   "source": [
    "import torch\n",
    "\n",
    "def pca_dual_torch(X, n_components=None, device='cuda'):\n",
    "    \"\"\"\n",
    "    Perform PCA using the dual (Gram matrix) method in PyTorch.\n",
    "\n",
    "    Parameters\n",
    "    ----------\n",
    "    X : torch.Tensor, shape (n, d)\n",
    "        The input data. Rows are samples, columns are features.\n",
    "    n_components : int or None\n",
    "        Number of principal components to keep. If None, uses n_components = n.\n",
    "\n",
    "    Returns\n",
    "    -------\n",
    "    X_proj : torch.Tensor, shape (n, k)\n",
    "        The data projected onto the top k principal components.\n",
    "    PC_axes : torch.Tensor, shape (k, d)\n",
    "        The principal component axes (loadings). Row i is the i-th principal axis.\n",
    "    explained_variance : torch.Tensor, shape (k,)\n",
    "        The variance explained by each of the top k principal components.\n",
    "    explained_variance_ratio : torch.Tensor, shape (k,)\n",
    "        The fraction of the total variance explained by each of the top k components.\n",
    "\n",
    "    Notes\n",
    "    -----\n",
    "    - This method is most helpful when n << d (many more features than samples).\n",
    "    - Be mindful of numerical stability if some eigenvalues are very small or zero.\n",
    "    \"\"\"\n",
    "\n",
    "    # X shape: (n, d)\n",
    "    n, d = X.shape\n",
    "    # 1) Center the data by subtracting the mean of each feature\n",
    "    X_mean = X.mean(dim=0, keepdim=True)  # shape (1, d)\n",
    "    X_centered = X - X_mean               # shape (n, d)\n",
    "    X_centered = X_centered.to(device)\n",
    "    # 2) Form the Gram matrix G = X_centered @ X_centered.T, which is (n, n)\n",
    "    G = X_centered @ X_centered.T       # shape (n, n)\n",
    "    # 3) Compute the eigen-decomposition of G\n",
    "    #    torch.linalg.eigh returns eigenvalues in ascending order,\n",
    "    #    so we'll flip them to descending order.\n",
    "    eigenvalues, eigenvectors = torch.linalg.eigh(G)        # shapes: (n,), (n,n)\n",
    "    eigenvalues = torch.flip(eigenvalues, dims=[0])         # descending\n",
    "    eigenvectors = torch.flip(eigenvectors, dims=[1])       # match ordering\n",
    "    # 4) If n_components is not set, or is larger than n, clamp it to n\n",
    "    if (n_components is None) or (n_components > n):\n",
    "        n_components = n\n",
    "    # Take the top k eigenvalues/vectors\n",
    "    lam_top = eigenvalues[:n_components]       # shape (k,)\n",
    "    V_top = eigenvectors[:, :n_components]     # shape (n, k)\n",
    "    # 5) Back-project eigenvectors to get principal components in feature space:\n",
    "    #    PC_axes_i = X_centered.T @ v_i / sqrt(lam_i)\n",
    "    #    This yields an array of shape (d, k)\n",
    "    #    where each column is one principal axis (component).\n",
    "    #    We'll do a safe division by sqrt(lambda) with broadcasting.\n",
    "    denom = torch.sqrt(lam_top).unsqueeze(0)   # shape (1, k)\n",
    "    W = (X_centered.T @ V_top) / denom         # shape (d, k)\n",
    "    # 6) We often store principal axes as (k, d), so transpose W\n",
    "    PC_axes = W.T                              # shape (k, d)\n",
    "    # 7) Project the data onto these top components => shape (n, k)\n",
    "    X_proj = X_centered @ W                    # shape (n, k)\n",
    "    # 8) Compute explained variance and ratio\n",
    "    #    - The total variance = sum of all eigenvalues / (n-1).\n",
    "    #    - The variance explained by component i = lam_top[i] / (n-1).\n",
    "    #    - The ratio is (lam_top[i] / sum of all lam) after scaling.\n",
    "    total_var = eigenvalues.sum() / (n - 1)\n",
    "    explained_variance = lam_top / (n - 1)\n",
    "    explained_variance_ratio = explained_variance / total_var\n",
    "    del X_centered, G, eigenvalues, eigenvectors, lam_top, V_top, W\n",
    "    return X_proj.cpu(), PC_axes.cpu(), explained_variance.cpu(), explained_variance_ratio.cpu(), X_mean.cpu()"
   ]
  },
  {
   "cell_type": "code",
   "execution_count": 80,
   "metadata": {},
   "outputs": [
    {
     "name": "stdout",
     "output_type": "stream",
     "text": [
      "Time taken: 2.8930020332336426 seconds\n"
     ]
    }
   ],
   "source": [
    "t0 = time.time()\n",
    "X_proj, PC_axes, explained_variance, explained_variance_ratio, X_mean = pca_dual_torch(x_flat, n_components=1000, device='cuda')\n",
    "t1 = time.time()\n",
    "print(f\"Time taken: {t1 - t0} seconds\")"
   ]
  },
  {
   "cell_type": "code",
   "execution_count": null,
   "metadata": {},
   "outputs": [
    {
     "name": "stdout",
     "output_type": "stream",
     "text": [
      "Time taken: 1.906965970993042 seconds\n"
     ]
    }
   ],
   "source": [
    "# check the results are the same with sklearn cuml pca \n",
    "t1 = time.time()\n",
    "tmp_x = x_flat.cpu().numpy()[:, :5000]\n",
    "pca = PCA(n_components=1000, svd_solver='auto', random_state=42)\n",
    "x_pca = pca.fit_transform(tmp_x)\n",
    "t2 = time.time()\n",
    "print(f\"Time taken: {t2 - t1} seconds\")\n"
   ]
  },
  {
   "cell_type": "code",
   "execution_count": 82,
   "metadata": {},
   "outputs": [],
   "source": [
    "import numpy as np\n",
    "\n",
    "def compare_pca_results(\n",
    "    x_pca_sklearn,         # shape (n, k): projection from sklearn's PCA\n",
    "    components_sklearn,    # shape (k, d): principal axes from sklearn's PCA\n",
    "    explained_var_sklearn, # shape (k,): explained variance from sklearn's PCA\n",
    "    \n",
    "    X_proj_torch,          # shape (n, k): projection from pca_dual_torch\n",
    "    PC_axes_torch,         # shape (k, d): principal axes from pca_dual_torch\n",
    "    explained_var_torch,   # shape (k,): explained variance from pca_dual_torch\n",
    "    \n",
    "    rtol=1e-5, atol=1e-8\n",
    "):\n",
    "    \"\"\"\n",
    "    Check consistency between sklearn PCA output and custom torch-based dual-PCA output.\n",
    "\n",
    "    Parameters\n",
    "    ----------\n",
    "    x_pca_sklearn : np.ndarray, shape (n, k)\n",
    "        Projection of data onto top k PCs from sklearn.\n",
    "    components_sklearn : np.ndarray, shape (k, d)\n",
    "        PCA axes (each row is a principal axis) from sklearn.\n",
    "    explained_var_sklearn : np.ndarray, shape (k,)\n",
    "        Explained variance per component from sklearn (not the ratio).\n",
    "    X_proj_torch : np.ndarray, shape (n, k)\n",
    "        Projection of data from pca_dual_torch.\n",
    "    PC_axes_torch : np.ndarray, shape (k, d)\n",
    "        PCA axes from pca_dual_torch (each row is one axis).\n",
    "    explained_var_torch : np.ndarray, shape (k,)\n",
    "        Explained variance per component from pca_dual_torch (not the ratio).\n",
    "    rtol : float\n",
    "        Relative tolerance for np.allclose checks.\n",
    "    atol : float\n",
    "        Absolute tolerance for np.allclose checks.\n",
    "\n",
    "    Returns\n",
    "    -------\n",
    "    None. Prints out whether each portion is matching within tolerance.\n",
    "\n",
    "    Notes\n",
    "    -----\n",
    "    - PCA components are only determined up to a sign flip. We fix that by aligning\n",
    "      each corresponding pair of components so their dot product is positive.\n",
    "    - The same sign flip is applied to the corresponding projected scores.\n",
    "    \"\"\"\n",
    "\n",
    "    # Make copies so as not to mutate the originals\n",
    "    PC_axes = PC_axes_torch.copy()\n",
    "    X_proj = X_proj_torch.copy()\n",
    "\n",
    "    # 1) Align signs of the principal axes and projected data\n",
    "    k = min(components_sklearn.shape[0], PC_axes.shape[0])\n",
    "    proj_mismatch = []\n",
    "    axis_mismatch = []\n",
    "    for i in range(k):\n",
    "        axis_match = np.allclose(components_sklearn[i], PC_axes[i], rtol=rtol, atol=atol)\n",
    "        axis_match_neg = np.allclose(components_sklearn[i], - PC_axes[i], rtol=rtol, atol=atol)\n",
    "        proj_match = np.allclose(x_pca_sklearn[:, i], X_proj[:, i], rtol=rtol, atol=atol)\n",
    "        proj_match_neg = np.allclose(x_pca_sklearn[:, i], - X_proj[:, i], rtol=rtol, atol=atol)\n",
    "        if axis_match or axis_match_neg:\n",
    "            pass\n",
    "        else:\n",
    "            # print(f\"PC {i} does not match\")\n",
    "            proj_mismatch.append(i)\n",
    "        if proj_match or proj_match_neg:\n",
    "            pass\n",
    "        else:\n",
    "            # print(f\"PC projected data {i} does not match\")\n",
    "            proj_mismatch.append(i)\n",
    "    # for i in range(k):\n",
    "    #     dotval = np.dot(components_sklearn[i], PC_axes[i])\n",
    "    #     if dotval < 0:\n",
    "    #         # Flip sign of the i-th PC axis in torch's result\n",
    "    #         PC_axes[i] = -PC_axes[i]\n",
    "    #         # Also flip sign of the i-th dimension in the projection\n",
    "    #         X_proj[:, i] = -X_proj[:, i]\n",
    "\n",
    "    # # 2) Check axes\n",
    "    # axes_match = np.allclose(components_sklearn[:k], PC_axes[:k], rtol=rtol, atol=atol)\n",
    "    # print(\"Principal Axes match (up to sign):\", axes_match)\n",
    "\n",
    "    # # 3) Check projection\n",
    "    # # Since we only aligned signs for the top k, let's compare them as well\n",
    "    # proj_match = np.allclose(x_pca_sklearn[:, :k], X_proj[:, :k], rtol=rtol, atol=atol)\n",
    "    # print(\"Projected data match (up to sign):\", proj_match)\n",
    "\n",
    "    # 4) Check explained variance\n",
    "    # We compare only the top k if one is bigger\n",
    "    var_sk = explained_var_sklearn[:k]\n",
    "    var_torch = explained_var_torch[:k]\n",
    "    var_match = np.allclose(var_sk, var_torch, rtol=rtol, atol=atol)\n",
    "    print(\"Explained variance match:\", var_match)\n",
    "    print(f\"PCs mismatch: {proj_mismatch}\")\n",
    "    print(f\"PCs mismatch: {axis_mismatch}\")\n",
    "    print(\"Differences found above tolerance.\")\n",
    "    return proj_mismatch, axis_mismatch"
   ]
  },
  {
   "cell_type": "code",
   "execution_count": 102,
   "metadata": {},
   "outputs": [],
   "source": [
    "import numpy as np\n",
    "from sklearn.decomposition import PCA\n",
    "\n",
    "def create_sklearn_pca_from_torch(\n",
    "    PC_axes_torch, \n",
    "    var_torch, \n",
    "    var_ratio_torch, \n",
    "    mean_vector_torch, \n",
    "    n_samples\n",
    "):\n",
    "    \"\"\"\n",
    "    Construct and return a scikit-learn PCA object whose attributes\n",
    "    are initialized from the results of a torch-based PCA.\n",
    "\n",
    "    Parameters\n",
    "    ----------\n",
    "    PC_axes_torch : torch.Tensor\n",
    "        Principal component axes of shape (n_features, n_components).\n",
    "    var_torch : torch.Tensor\n",
    "        Explained variance of shape (n_components,).\n",
    "    var_ratio_torch : torch.Tensor\n",
    "        Explained variance ratio of shape (n_components,).\n",
    "    mean_vector_torch : torch.Tensor\n",
    "        Mean vector that was subtracted out, of shape (n_features,).\n",
    "    n_samples : int\n",
    "        Number of samples used in the PCA.\n",
    "\n",
    "    Returns\n",
    "    -------\n",
    "    pca : sklearn.decomposition.PCA\n",
    "        A PCA object that can be used for transform, inverse_transform, etc.\n",
    "    \"\"\"\n",
    "\n",
    "    # Bring everything back to CPU as NumPy arrays\n",
    "    # Convert tensors to numpy arrays, handling both torch tensors and numpy arrays\n",
    "    PC_axes = PC_axes_torch.cpu().numpy() if hasattr(PC_axes_torch, 'cpu') else PC_axes_torch        # shape (n_components, n_features)\n",
    "    var = var_torch.cpu().numpy() if hasattr(var_torch, 'cpu') else var_torch                        # shape (n_components,)\n",
    "    var_ratio = var_ratio_torch.cpu().numpy() if hasattr(var_ratio_torch, 'cpu') else var_ratio_torch    # shape (n_components,)\n",
    "    mean_vector = mean_vector_torch.cpu().numpy() if hasattr(mean_vector_torch, 'cpu') else mean_vector_torch # shape (n_features,)\n",
    "\n",
    "    # Infer shapes\n",
    "    n_components, n_features = PC_axes.shape\n",
    "    \n",
    "    # Instantiate PCA with the correct number of components\n",
    "    pca = PCA(n_components=n_components)\n",
    "\n",
    "    # Assign the core PCA attributes\n",
    "    pca.components_ = PC_axes                     # shape -> (n_components, n_features)\n",
    "    pca.explained_variance_ = var                   # (n_components,)\n",
    "    pca.explained_variance_ratio_ = var_ratio       # (n_components,)\n",
    "    pca.mean_ = mean_vector                         # (n_features,)\n",
    "\n",
    "    # Compute singular values using the standard relationship:\n",
    "    # singular_values_ = sqrt(explained_variance_ * (n_samples - 1))\n",
    "    pca.singular_values_ = np.sqrt(var * (n_samples - 1))\n",
    "\n",
    "    # Additional attributes required by newer sklearn versions\n",
    "    pca.n_samples_seen_ = n_samples\n",
    "    pca.n_features_in_ = n_features\n",
    "    pca.n_components_ = n_components\n",
    "\n",
    "    return pca"
   ]
  },
  {
   "cell_type": "code",
   "execution_count": 68,
   "metadata": {},
   "outputs": [],
   "source": [
    "import matplotlib.pyplot as plt"
   ]
  },
  {
   "cell_type": "code",
   "execution_count": 72,
   "metadata": {},
   "outputs": [
    {
     "data": {
      "image/png": "[encoded data removed]",
      "text/plain": [
       "<Figure size 640x480 with 1 Axes>"
      ]
     },
     "metadata": {},
     "output_type": "display_data"
    }
   ],
   "source": [
    "col_idx = np.random.choice(x_flat.shape[1], size=5000, replace=False)\n",
    "tmp_x = x_flat.cpu().numpy()[:, col_idx]\n",
    "plt.imshow(tmp_x)\n",
    "plt.show()\n"
   ]
  },
  {
   "cell_type": "markdown",
   "metadata": {},
   "source": [
    "### Check the results match for randn data"
   ]
  },
  {
   "cell_type": "code",
   "execution_count": 83,
   "metadata": {},
   "outputs": [
    {
     "name": "stdout",
     "output_type": "stream",
     "text": [
      "Time taken: 16.32219624519348 seconds\n",
      "Time taken: 16.927454233169556 seconds\n",
      "Time taken: 0.2155911922454834 seconds\n",
      "Explained variance match: True\n",
      "PCs mismatch: []\n",
      "PCs mismatch: []\n",
      "Differences found above tolerance.\n",
      "Explained variance match: True\n",
      "PCs mismatch: []\n",
      "PCs mismatch: []\n",
      "Differences found above tolerance.\n"
     ]
    },
    {
     "data": {
      "text/plain": [
       "([], [])"
      ]
     },
     "execution_count": 83,
     "metadata": {},
     "output_type": "execute_result"
    }
   ],
   "source": [
    "# random select columns\n",
    "# col_idx = np.random.choice(x_flat.shape[1], size=1000, replace=False)\n",
    "# tmp_x = x_flat.cpu().numpy()[:, col_idx]\n",
    "tmp_x = np.random.randn(1100, 20000)\n",
    "# sklearn's PCA\n",
    "pca = PCA_sklearn(n_components=1000, svd_solver='auto', )\n",
    "t0 = time.time()\n",
    "x_pca_sklearn = pca.fit_transform(tmp_x)            # (n, k)\n",
    "t1 = time.time()\n",
    "print(f\"Time taken: {t1 - t0} seconds\")\n",
    "components_sklearn = pca.components_               # (k, d)\n",
    "explained_var_sklearn = pca.explained_variance_    # (k,)\n",
    "\n",
    "# sklearn cuml PCA (use CUDA compute)\n",
    "t0 = time.time()\n",
    "pca_cuml = PCA(n_components=1000, svd_solver='auto', )\n",
    "x_pca_cuml = pca_cuml.fit_transform(tmp_x)\n",
    "t1 = time.time()\n",
    "print(f\"Time taken: {t1 - t0} seconds\")\n",
    "components_cuml = pca_cuml.components_\n",
    "explained_var_cuml = pca_cuml.explained_variance_\n",
    "\n",
    "# torch dual PCA\n",
    "t0 = time.time()\n",
    "X_proj_torch, PC_axes_torch, var_torch, var_ratio_torch, X_mean_torch = pca_dual_torch(\n",
    "    torch.from_numpy(tmp_x), n_components=1000, device='cuda'\n",
    ")\n",
    "t1 = time.time()\n",
    "print(f\"Time taken: {t1 - t0} seconds\")\n",
    "X_proj_torch = X_proj_torch.cpu().numpy()          # bring back to CPU if needed\n",
    "PC_axes_torch = PC_axes_torch.cpu().numpy()\n",
    "var_torch = var_torch.cpu().numpy()\n",
    "pca_reconstructed = create_sklearn_pca_from_torch(\n",
    "    PC_axes_torch, var_torch, var_ratio_torch, X_mean_torch, tmp_x.shape[0]\n",
    ")\n",
    "# Compare\n",
    "compare_pca_results(\n",
    "    x_pca_sklearn, \n",
    "    components_sklearn, \n",
    "    explained_var_sklearn,\n",
    "    X_proj_torch, \n",
    "    PC_axes_torch, \n",
    "    var_torch,\n",
    "    rtol=1e-4,\n",
    "    atol=1e-4\n",
    ")\n",
    "compare_pca_results(\n",
    "    x_pca_cuml, \n",
    "    components_cuml, \n",
    "    explained_var_cuml,\n",
    "    X_proj_torch, \n",
    "    PC_axes_torch, \n",
    "    var_torch,\n",
    "    rtol=1e-4,\n",
    "    atol=1e-4\n",
    ")"
   ]
  },
  {
   "cell_type": "code",
   "execution_count": 90,
   "metadata": {},
   "outputs": [
    {
     "data": {
      "text/plain": [
       "1100"
      ]
     },
     "execution_count": 90,
     "metadata": {},
     "output_type": "execute_result"
    }
   ],
   "source": [
    "tmp_x.shape[0]"
   ]
  },
  {
   "cell_type": "code",
   "execution_count": 111,
   "metadata": {},
   "outputs": [
    {
     "name": "stdout",
     "output_type": "stream",
     "text": [
      "Reconstructed PCA matches the original PCA\n"
     ]
    },
    {
     "ename": "",
     "evalue": "",
     "output_type": "error",
     "traceback": [
      "\u001b[1;31mThe Kernel crashed while executing code in the current cell or a previous cell. \n",
      "\u001b[1;31mPlease review the code in the cell(s) to identify a possible cause of the failure. \n",
      "\u001b[1;31mClick <a href='https://aka.ms/vscodeJupyterKernelCrash'>here</a> for more info. \n",
      "\u001b[1;31mView Jupyter <a href='command:jupyter.viewOutput'>log</a> for further details."
     ]
    }
   ],
   "source": [
    "X_proj_torch, PC_axes_torch, var_torch, var_ratio_torch, X_mean_torch = pca_dual_torch(\n",
    "    torch.from_numpy(tmp_x), n_components=1000, device='cuda'\n",
    ")\n",
    "pca_reconstructed = create_sklearn_pca_from_torch(\n",
    "    PC_axes_torch, var_torch, var_ratio_torch, X_mean_torch, tmp_x.shape[0]\n",
    ")\n",
    "X_transformed_pca_reconstructed = pca_reconstructed.transform(tmp_x)\n",
    "assert np.allclose(X_transformed_pca_reconstructed, X_proj_torch)\n",
    "print(\"Reconstructed PCA matches the original PCA\")"
   ]
  },
  {
   "cell_type": "code",
   "execution_count": 104,
   "metadata": {},
   "outputs": [
    {
     "data": {
      "text/plain": [
       "(1000, 20000)"
      ]
     },
     "execution_count": 104,
     "metadata": {},
     "output_type": "execute_result"
    }
   ],
   "source": [
    "pca_reconstructed.components_.shape"
   ]
  },
  {
   "cell_type": "markdown",
   "metadata": {},
   "source": [
    "Even just with 20000 features \n",
    "* sklearn PCA\n",
    "    * 16.357911109924316 seconds\n",
    "* sklearn cuml PCA (use CUDA memory)\n",
    "    * 16.90485119819641 seconds\n",
    "* dual formulation, torch. \n",
    "    * 0.21915674209594727 seconds"
   ]
  },
  {
   "cell_type": "code",
   "execution_count": 38,
   "metadata": {},
   "outputs": [],
   "source": [
    "torch.cuda.empty_cache()"
   ]
  },
  {
   "cell_type": "code",
   "execution_count": 5,
   "metadata": {},
   "outputs": [
    {
     "name": "stdout",
     "output_type": "stream",
     "text": [
      "Time taken: 37.77032947540283 seconds\n"
     ]
    }
   ],
   "source": [
    "t0 = time.time()\n",
    "X_proj, PC_axes, explained_variance, explained_variance_ratio = pca_dual_torch(x_flat, n_components=1000)\n",
    "t1 = time.time()\n",
    "print(f\"Time taken: {t1 - t0} seconds\")"
   ]
  },
  {
   "cell_type": "code",
   "execution_count": 10,
   "metadata": {},
   "outputs": [],
   "source": [
    "torch.cuda.empty_cache()"
   ]
  },
  {
   "cell_type": "markdown",
   "metadata": {},
   "source": [
    "### 1100x2000\n",
    "* PCA Sklearn Time taken: 1.0328459739685059 seconds\n",
    "* PCA Cuml Time taken: 0.5198838710784912 seconds\n",
    "* PCA Dual Torch eigen decomposition Time taken: 0.15224599838256836 seconds\n",
    "* Reconstructed PCA matches the original PCA\n",
    "Explained variance match: True\n",
    "PCs mismatch: []\n",
    "PCs mismatch: []\n",
    "Differences found above tolerance.\n",
    "Explained variance match: True\n",
    "PCs mismatch: []\n",
    "PCs mismatch: []\n",
    "Differences found above tolerance.\n",
    "\n",
    "### 1100x5000\n",
    "* PCA Sklearn Time taken: 2.931845188140869 seconds\n",
    "* PCA Cuml Time taken: 0.4969480037689209 seconds\n",
    "* PCA Dual Torch eigen decomposition Time taken: 0.054297685623168945 seconds\n",
    "* Reconstructed PCA matches the original PCA\n",
    "Explained variance match: True\n",
    "PCs mismatch: []\n",
    "PCs mismatch: []\n",
    "Differences found above tolerance.\n",
    "Explained variance match: True\n",
    "PCs mismatch: []\n",
    "PCs mismatch: []\n",
    "Differences found above tolerance.\n",
    "\n",
    "### 1100x10000\n",
    "* PCA Sklearn Time taken: 6.9776530265808105 seconds\n",
    "* PCA Cuml Time taken: 2.681550979614258 seconds\n",
    "* PCA Dual Torch eigen decomposition Time taken: 0.11720681190490723 seconds\n",
    "* Reconstructed PCA matches the original PCA\n",
    "Explained variance match: True\n",
    "PCs mismatch: []\n",
    "PCs mismatch: []\n",
    "Differences found above tolerance.\n",
    "Explained variance match: True\n",
    "PCs mismatch: []\n",
    "PCs mismatch: []\n",
    "Differences found above tolerance.\n",
    "\n",
    "### 1100x20000\n",
    "* PCA Sklearn Time taken: 16.780861854553223 seconds\n",
    "* PCA Cuml Time taken: 16.964520692825317 seconds\n",
    "* PCA Dual Torch eigen decomposition Time taken: 0.2207474708557129 seconds\n",
    "* Reconstructed PCA matches the original PCA\n",
    "Explained variance match: True\n",
    "PCs mismatch: []\n",
    "PCs mismatch: []\n",
    "Differences found above tolerance.\n",
    "Explained variance match: True\n",
    "PCs mismatch: []\n",
    "PCs mismatch: []\n",
    "Differences found above tolerance.\n",
    "\n",
    "### 1100x30000\n",
    "* PCA Sklearn Time taken: 7.8800365924835205 seconds\n",
    "* PCA Cuml Time taken: 53.59654116630554 seconds\n",
    "* PCA Dual Torch eigen decomposition Time taken: 0.32802557945251465 seconds\n",
    "* Reconstructed PCA matches the original PCA\n",
    "Explained variance match: True\n",
    "PCs mismatch: []\n",
    "PCs mismatch: []\n",
    "Differences found above tolerance.\n",
    "Explained variance match: True\n",
    "PCs mismatch: []\n",
    "PCs mismatch: []\n",
    "Differences found above tolerance."
   ]
  },
  {
   "cell_type": "markdown",
   "metadata": {},
   "source": []
  }
 ],
 "metadata": {
  "kernelspec": {
   "display_name": "torch2",
   "language": "python",
   "name": "python3"
  },
  "language_info": {
   "codemirror_mode": {
    "name": "ipython",
    "version": 3
   },
   "file_extension": ".py",
   "mimetype": "text/x-python",
   "name": "python",
   "nbconvert_exporter": "python",
   "pygments_lexer": "ipython3",
   "version": "3.10.14"
  }
 },
 "nbformat": 4,
 "nbformat_minor": 2
}
