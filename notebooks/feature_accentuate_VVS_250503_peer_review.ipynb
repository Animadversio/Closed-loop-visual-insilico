{
 "cells": [
  {
   "cell_type": "code",
   "execution_count": 1,
   "metadata": {},
   "outputs": [],
   "source": [
    "%load_ext autoreload\n",
    "%autoreload 2"
   ]
  },
  {
   "cell_type": "code",
   "execution_count": 2,
   "metadata": {},
   "outputs": [],
   "source": [
    "import os\n",
    "import sys\n",
    "sys.path.append(\"/n/home12/binxuwang/Github/Closed-loop-visual-insilico\")\n",
    "import timm\n",
    "import torch\n",
    "import torch as th\n",
    "import torch.nn as nn\n",
    "from tqdm.auto import tqdm\n",
    "from os.path import join\n",
    "import pickle as pkl\n",
    "import numpy as np\n",
    "import seaborn as sns\n",
    "import pandas as pd\n",
    "import matplotlib.pyplot as plt\n",
    "from horama import maco, plot_maco\n",
    "from torch.utils.data import DataLoader\n",
    "from torchvision.models import resnet50\n",
    "from torchvision.models.feature_extraction import create_feature_extractor\n",
    "import torchvision.transforms as T\n",
    "from torchvision.transforms import ToPILImage, ToTensor, Normalize, Resize\n",
    "from circuit_toolkit.CNN_scorers import TorchScorer\n",
    "from circuit_toolkit.GAN_utils import upconvGAN, Caffenet\n",
    "from circuit_toolkit.plot_utils import to_imgrid, show_imgrid, save_imgrid, saveallforms\n",
    "from circuit_toolkit.layer_hook_utils import featureFetcher_module, featureFetcher, get_module_names\n",
    "from circuit_toolkit.dataset_utils import ImagePathDataset"
   ]
  },
  {
   "cell_type": "code",
   "execution_count": 3,
   "metadata": {},
   "outputs": [],
   "source": [
    "from neural_regress.regress_lib import sweep_regressors, perform_regression_sweeplayer_RidgeCV, perform_regression_sweeplayer, record_features\n",
    "from neural_regress.sklearn_torchify_lib import SRP_torch, PCA_torch, LinearRegression_torch, SpatialAvg_torch, LinearLayer_from_sklearn\n",
    "from core.data_utils import load_neural_data, load_from_hdf5, load_neural_trial_resp_tensor, create_response_tensor, parse_image_fullpaths\n",
    "from core.model_load_utils import load_model_transform"
   ]
  },
  {
   "cell_type": "markdown",
   "metadata": {},
   "source": [
    "### Set up paths for data loading"
   ]
  },
  {
   "cell_type": "code",
   "execution_count": 5,
   "metadata": {},
   "outputs": [],
   "source": [
    "import yaml\n",
    "import glob"
   ]
  },
  {
   "cell_type": "code",
   "execution_count": null,
   "metadata": {},
   "outputs": [
    {
     "data": {
      "text/plain": [
       "['/n/holylabs/LABS/alvarez_lab/Everyone/Accentuate_VVS/accentuation_configs/red_20250428-20250430/red_20250428-20250430_AlexNet_training_seed_01_Ch0_accentuation_config.yaml',\n",
       " '/n/holylabs/LABS/alvarez_lab/Everyone/Accentuate_VVS/accentuation_configs/red_20250428-20250430/red_20250428-20250430_AlexNet_training_seed_01_Ch15_accentuation_config.yaml',\n",
       " '/n/holylabs/LABS/alvarez_lab/Everyone/Accentuate_VVS/accentuation_configs/red_20250428-20250430/red_20250428-20250430_AlexNet_training_seed_01_Ch19_accentuation_config.yaml',\n",
       " '/n/holylabs/LABS/alvarez_lab/Everyone/Accentuate_VVS/accentuation_configs/red_20250428-20250430/red_20250428-20250430_AlexNet_training_seed_01_Ch2_accentuation_config.yaml',\n",
       " '/n/holylabs/LABS/alvarez_lab/Everyone/Accentuate_VVS/accentuation_configs/red_20250428-20250430/red_20250428-20250430_AlexNet_training_seed_01_Ch9_accentuation_config.yaml',\n",
       " '/n/holylabs/LABS/alvarez_lab/Everyone/Accentuate_VVS/accentuation_configs/red_20250428-20250430/red_20250428-20250430_clipag_vitb32_Ch0_accentuation_config.yaml',\n",
       " '/n/holylabs/LABS/alvarez_lab/Everyone/Accentuate_VVS/accentuation_configs/red_20250428-20250430/red_20250428-20250430_clipag_vitb32_Ch15_accentuation_config.yaml',\n",
       " '/n/holylabs/LABS/alvarez_lab/Everyone/Accentuate_VVS/accentuation_configs/red_20250428-20250430/red_20250428-20250430_clipag_vitb32_Ch19_accentuation_config.yaml',\n",
       " '/n/holylabs/LABS/alvarez_lab/Everyone/Accentuate_VVS/accentuation_configs/red_20250428-20250430/red_20250428-20250430_clipag_vitb32_Ch2_accentuation_config.yaml',\n",
       " '/n/holylabs/LABS/alvarez_lab/Everyone/Accentuate_VVS/accentuation_configs/red_20250428-20250430/red_20250428-20250430_clipag_vitb32_Ch9_accentuation_config.yaml',\n",
       " '/n/holylabs/LABS/alvarez_lab/Everyone/Accentuate_VVS/accentuation_configs/red_20250428-20250430/red_20250428-20250430_dinov2_vitb14_reg_Ch0_accentuation_config.yaml',\n",
       " '/n/holylabs/LABS/alvarez_lab/Everyone/Accentuate_VVS/accentuation_configs/red_20250428-20250430/red_20250428-20250430_dinov2_vitb14_reg_Ch15_accentuation_config.yaml',\n",
       " '/n/holylabs/LABS/alvarez_lab/Everyone/Accentuate_VVS/accentuation_configs/red_20250428-20250430/red_20250428-20250430_dinov2_vitb14_reg_Ch19_accentuation_config.yaml',\n",
       " '/n/holylabs/LABS/alvarez_lab/Everyone/Accentuate_VVS/accentuation_configs/red_20250428-20250430/red_20250428-20250430_dinov2_vitb14_reg_Ch2_accentuation_config.yaml',\n",
       " '/n/holylabs/LABS/alvarez_lab/Everyone/Accentuate_VVS/accentuation_configs/red_20250428-20250430/red_20250428-20250430_dinov2_vitb14_reg_Ch9_accentuation_config.yaml',\n",
       " '/n/holylabs/LABS/alvarez_lab/Everyone/Accentuate_VVS/accentuation_configs/red_20250428-20250430/red_20250428-20250430_radio_v2.5-b_Ch0_accentuation_config.yaml',\n",
       " '/n/holylabs/LABS/alvarez_lab/Everyone/Accentuate_VVS/accentuation_configs/red_20250428-20250430/red_20250428-20250430_radio_v2.5-b_Ch15_accentuation_config.yaml',\n",
       " '/n/holylabs/LABS/alvarez_lab/Everyone/Accentuate_VVS/accentuation_configs/red_20250428-20250430/red_20250428-20250430_radio_v2.5-b_Ch19_accentuation_config.yaml',\n",
       " '/n/holylabs/LABS/alvarez_lab/Everyone/Accentuate_VVS/accentuation_configs/red_20250428-20250430/red_20250428-20250430_radio_v2.5-b_Ch2_accentuation_config.yaml',\n",
       " '/n/holylabs/LABS/alvarez_lab/Everyone/Accentuate_VVS/accentuation_configs/red_20250428-20250430/red_20250428-20250430_radio_v2.5-b_Ch9_accentuation_config.yaml',\n",
       " '/n/holylabs/LABS/alvarez_lab/Everyone/Accentuate_VVS/accentuation_configs/red_20250428-20250430/red_20250428-20250430_regnety_640_Ch0_accentuation_config.yaml',\n",
       " '/n/holylabs/LABS/alvarez_lab/Everyone/Accentuate_VVS/accentuation_configs/red_20250428-20250430/red_20250428-20250430_regnety_640_Ch15_accentuation_config.yaml',\n",
       " '/n/holylabs/LABS/alvarez_lab/Everyone/Accentuate_VVS/accentuation_configs/red_20250428-20250430/red_20250428-20250430_regnety_640_Ch19_accentuation_config.yaml',\n",
       " '/n/holylabs/LABS/alvarez_lab/Everyone/Accentuate_VVS/accentuation_configs/red_20250428-20250430/red_20250428-20250430_regnety_640_Ch2_accentuation_config.yaml',\n",
       " '/n/holylabs/LABS/alvarez_lab/Everyone/Accentuate_VVS/accentuation_configs/red_20250428-20250430/red_20250428-20250430_regnety_640_Ch9_accentuation_config.yaml',\n",
       " '/n/holylabs/LABS/alvarez_lab/Everyone/Accentuate_VVS/accentuation_configs/red_20250428-20250430/red_20250428-20250430_resnet50_Ch0_accentuation_config.yaml',\n",
       " '/n/holylabs/LABS/alvarez_lab/Everyone/Accentuate_VVS/accentuation_configs/red_20250428-20250430/red_20250428-20250430_resnet50_Ch15_accentuation_config.yaml',\n",
       " '/n/holylabs/LABS/alvarez_lab/Everyone/Accentuate_VVS/accentuation_configs/red_20250428-20250430/red_20250428-20250430_resnet50_Ch19_accentuation_config.yaml',\n",
       " '/n/holylabs/LABS/alvarez_lab/Everyone/Accentuate_VVS/accentuation_configs/red_20250428-20250430/red_20250428-20250430_resnet50_Ch2_accentuation_config.yaml',\n",
       " '/n/holylabs/LABS/alvarez_lab/Everyone/Accentuate_VVS/accentuation_configs/red_20250428-20250430/red_20250428-20250430_resnet50_Ch9_accentuation_config.yaml',\n",
       " '/n/holylabs/LABS/alvarez_lab/Everyone/Accentuate_VVS/accentuation_configs/red_20250428-20250430/red_20250428-20250430_resnet50_clip_Ch0_accentuation_config.yaml',\n",
       " '/n/holylabs/LABS/alvarez_lab/Everyone/Accentuate_VVS/accentuation_configs/red_20250428-20250430/red_20250428-20250430_resnet50_clip_Ch15_accentuation_config.yaml',\n",
       " '/n/holylabs/LABS/alvarez_lab/Everyone/Accentuate_VVS/accentuation_configs/red_20250428-20250430/red_20250428-20250430_resnet50_clip_Ch19_accentuation_config.yaml',\n",
       " '/n/holylabs/LABS/alvarez_lab/Everyone/Accentuate_VVS/accentuation_configs/red_20250428-20250430/red_20250428-20250430_resnet50_clip_Ch2_accentuation_config.yaml',\n",
       " '/n/holylabs/LABS/alvarez_lab/Everyone/Accentuate_VVS/accentuation_configs/red_20250428-20250430/red_20250428-20250430_resnet50_clip_Ch9_accentuation_config.yaml',\n",
       " '/n/holylabs/LABS/alvarez_lab/Everyone/Accentuate_VVS/accentuation_configs/red_20250428-20250430/red_20250428-20250430_resnet50_dino_Ch0_accentuation_config.yaml',\n",
       " '/n/holylabs/LABS/alvarez_lab/Everyone/Accentuate_VVS/accentuation_configs/red_20250428-20250430/red_20250428-20250430_resnet50_dino_Ch15_accentuation_config.yaml',\n",
       " '/n/holylabs/LABS/alvarez_lab/Everyone/Accentuate_VVS/accentuation_configs/red_20250428-20250430/red_20250428-20250430_resnet50_dino_Ch19_accentuation_config.yaml',\n",
       " '/n/holylabs/LABS/alvarez_lab/Everyone/Accentuate_VVS/accentuation_configs/red_20250428-20250430/red_20250428-20250430_resnet50_dino_Ch2_accentuation_config.yaml',\n",
       " '/n/holylabs/LABS/alvarez_lab/Everyone/Accentuate_VVS/accentuation_configs/red_20250428-20250430/red_20250428-20250430_resnet50_dino_Ch9_accentuation_config.yaml',\n",
       " '/n/holylabs/LABS/alvarez_lab/Everyone/Accentuate_VVS/accentuation_configs/red_20250428-20250430/red_20250428-20250430_resnet50_robust_Ch0_accentuation_config.yaml',\n",
       " '/n/holylabs/LABS/alvarez_lab/Everyone/Accentuate_VVS/accentuation_configs/red_20250428-20250430/red_20250428-20250430_resnet50_robust_Ch15_accentuation_config.yaml',\n",
       " '/n/holylabs/LABS/alvarez_lab/Everyone/Accentuate_VVS/accentuation_configs/red_20250428-20250430/red_20250428-20250430_resnet50_robust_Ch19_accentuation_config.yaml',\n",
       " '/n/holylabs/LABS/alvarez_lab/Everyone/Accentuate_VVS/accentuation_configs/red_20250428-20250430/red_20250428-20250430_resnet50_robust_Ch2_accentuation_config.yaml',\n",
       " '/n/holylabs/LABS/alvarez_lab/Everyone/Accentuate_VVS/accentuation_configs/red_20250428-20250430/red_20250428-20250430_resnet50_robust_Ch9_accentuation_config.yaml',\n",
       " '/n/holylabs/LABS/alvarez_lab/Everyone/Accentuate_VVS/accentuation_configs/red_20250428-20250430/red_20250428-20250430_siglip2_vitb16_Ch0_accentuation_config.yaml',\n",
       " '/n/holylabs/LABS/alvarez_lab/Everyone/Accentuate_VVS/accentuation_configs/red_20250428-20250430/red_20250428-20250430_siglip2_vitb16_Ch15_accentuation_config.yaml',\n",
       " '/n/holylabs/LABS/alvarez_lab/Everyone/Accentuate_VVS/accentuation_configs/red_20250428-20250430/red_20250428-20250430_siglip2_vitb16_Ch19_accentuation_config.yaml',\n",
       " '/n/holylabs/LABS/alvarez_lab/Everyone/Accentuate_VVS/accentuation_configs/red_20250428-20250430/red_20250428-20250430_siglip2_vitb16_Ch2_accentuation_config.yaml',\n",
       " '/n/holylabs/LABS/alvarez_lab/Everyone/Accentuate_VVS/accentuation_configs/red_20250428-20250430/red_20250428-20250430_siglip2_vitb16_Ch9_accentuation_config.yaml']"
      ]
     },
     "execution_count": 7,
     "metadata": {},
     "output_type": "execute_result"
    }
   ],
   "source": [
    "config_root = r\"/n/holylabs/LABS/alvarez_lab/Everyone/Accentuate_VVS/accentuation_configs\"\n",
    "subject_id = \"red_20250428-20250430\"\n",
    "config_dir = join(config_root, subject_id)\n",
    "config_files = sorted(glob.glob(join(config_dir, \"*.yaml\")))\n",
    "\n",
    "config_files"
   ]
  },
  {
   "cell_type": "code",
   "execution_count": 8,
   "metadata": {},
   "outputs": [
    {
     "data": {
      "text/plain": [
       "['/n/holylabs/LABS/alvarez_lab/Everyone/Accentuate_VVS/accentuation_configs/red_20250428-20250430/red_20250428-20250430_AlexNet_training_seed_01_Ch19_accentuation_config.yaml',\n",
       " '/n/holylabs/LABS/alvarez_lab/Everyone/Accentuate_VVS/accentuation_configs/red_20250428-20250430/red_20250428-20250430_clipag_vitb32_Ch19_accentuation_config.yaml',\n",
       " '/n/holylabs/LABS/alvarez_lab/Everyone/Accentuate_VVS/accentuation_configs/red_20250428-20250430/red_20250428-20250430_dinov2_vitb14_reg_Ch19_accentuation_config.yaml',\n",
       " '/n/holylabs/LABS/alvarez_lab/Everyone/Accentuate_VVS/accentuation_configs/red_20250428-20250430/red_20250428-20250430_radio_v2.5-b_Ch19_accentuation_config.yaml',\n",
       " '/n/holylabs/LABS/alvarez_lab/Everyone/Accentuate_VVS/accentuation_configs/red_20250428-20250430/red_20250428-20250430_regnety_640_Ch19_accentuation_config.yaml',\n",
       " '/n/holylabs/LABS/alvarez_lab/Everyone/Accentuate_VVS/accentuation_configs/red_20250428-20250430/red_20250428-20250430_resnet50_Ch19_accentuation_config.yaml',\n",
       " '/n/holylabs/LABS/alvarez_lab/Everyone/Accentuate_VVS/accentuation_configs/red_20250428-20250430/red_20250428-20250430_resnet50_clip_Ch19_accentuation_config.yaml',\n",
       " '/n/holylabs/LABS/alvarez_lab/Everyone/Accentuate_VVS/accentuation_configs/red_20250428-20250430/red_20250428-20250430_resnet50_dino_Ch19_accentuation_config.yaml',\n",
       " '/n/holylabs/LABS/alvarez_lab/Everyone/Accentuate_VVS/accentuation_configs/red_20250428-20250430/red_20250428-20250430_resnet50_robust_Ch19_accentuation_config.yaml',\n",
       " '/n/holylabs/LABS/alvarez_lab/Everyone/Accentuate_VVS/accentuation_configs/red_20250428-20250430/red_20250428-20250430_siglip2_vitb16_Ch19_accentuation_config.yaml']"
      ]
     },
     "execution_count": 8,
     "metadata": {},
     "output_type": "execute_result"
    }
   ],
   "source": [
    "chan_pattern = \"_Ch19_\"\n",
    "config_pre_chan = [f for f in config_files if chan_pattern in f]\n",
    "config_pre_chan"
   ]
  },
  {
   "cell_type": "markdown",
   "metadata": {},
   "source": [
    "### Demo loading"
   ]
  },
  {
   "cell_type": "code",
   "execution_count": 17,
   "metadata": {},
   "outputs": [],
   "source": [
    "acc_config = yaml.safe_load(open(config_pre_chan[0]))\n",
    "xtransform_path = acc_config['xtransform_path']\n",
    "meta_path = acc_config['meta_path']\n",
    "readout_path = acc_config['readout_path']\n",
    "model_name = acc_config['model_name']\n",
    "unit_ids = acc_config['unit_ids']\n",
    "layer_name = acc_config['layer_name']\n",
    "regressor = acc_config['fit_method_name']"
   ]
  },
  {
   "cell_type": "code",
   "execution_count": 20,
   "metadata": {},
   "outputs": [
    {
     "name": "stderr",
     "output_type": "stream",
     "text": [
      "/n/home12/binxuwang/.conda/envs/torch2/lib/python3.10/site-packages/torch/serialization.py:1006: UserWarning: 'torch.load' received a zip file that looks like a TorchScript archive dispatching to 'torch.jit.load' (call 'torch.jit.load' directly to silence this warning)\n",
      "  warnings.warn(\"'torch.load' received a zip file that looks like a TorchScript archive\"\n"
     ]
    },
    {
     "name": "stdout",
     "output_type": "stream",
     "text": [
      "torch.Size([1, 64])\n"
     ]
    }
   ],
   "source": [
    "def check_gradient(objective_fn):\n",
    "    \"\"\"Check if gradients can flow through the objective function.\"\"\"\n",
    "    img_opt = th.randn(1, 3, 224, 224).cuda()\n",
    "    img_opt.requires_grad_(True)\n",
    "    resp = objective_fn(img_opt)\n",
    "    resp.mean().backward()\n",
    "    print(resp.shape)\n",
    "    assert img_opt.grad is not None\n",
    "\n",
    "\n",
    "device = \"cuda\"\n",
    "model, transforms_pipeline = load_model_transform(model_name, device=device)\n",
    "model = model.eval().to(device)\n",
    "model.requires_grad_(False)\n",
    "fetcher = featureFetcher(model, input_size=(3, 224, 224), print_module=False)\n",
    "fetcher.record(layer_name, ingraph=True, store_device=device)\n",
    "# Load readout layer\n",
    "readout = th.load(readout_path).to(device)\n",
    "Xtransform = th.load(xtransform_path).to(device)\n",
    "# Load PCA transform\n",
    "\n",
    "def predict_population_response(images):\n",
    "    \"\"\"Predict neural population responses for input images.\n",
    "    \n",
    "    Args:\n",
    "        images (torch.Tensor): Input images of shape (batch_size, 3, 224, 224)\n",
    "        \n",
    "    Returns:\n",
    "        torch.Tensor: Predicted neural responses\n",
    "    \"\"\"\n",
    "    model(images)\n",
    "    feat_tsr = fetcher[layer_name]\n",
    "    feat_vec = Xtransform(feat_tsr)\n",
    "    return readout(feat_vec)\n",
    "\n",
    "check_gradient(predict_population_response)"
   ]
  },
  {
   "cell_type": "code",
   "execution_count": 15,
   "metadata": {},
   "outputs": [
    {
     "data": {
      "text/plain": [
       "{'model_name': 'AlexNet_training_seed_01',\n",
       " 'fit_method_name': 'RidgeCV',\n",
       " 'unit_ids': [19],\n",
       " 'subject_id': 'red_20250428-20250430',\n",
       " 'layer_name': '.features.MaxPool2d12',\n",
       " 'outputdir': '/n/holylabs/LABS/alvarez_lab/Everyone/Accentuate_VVS/Encoding_model_outputs/red_20250428-20250430',\n",
       " 'readout_path': '/n/holylabs/LABS/alvarez_lab/Everyone/Accentuate_VVS/Encoding_model_outputs/red_20250428-20250430/red_20250428-20250430_AlexNet_training_seed_01_Ch19_readout_.features.MaxPool2d12_pca750_RidgeCV.pth',\n",
       " 'xtransform_path': '/n/holylabs/LABS/alvarez_lab/Everyone/Accentuate_VVS/Encoding_model_outputs/red_20250428-20250430/red_20250428-20250430_AlexNet_training_seed_01_Ch19_Xtfmer_.features.MaxPool2d12_pca750_RidgeCV_JITscript.pt',\n",
       " 'meta_path': '/n/holylabs/LABS/alvarez_lab/Everyone/Accentuate_VVS/Encoding_model_outputs/red_20250428-20250430/red_20250428-20250430_AlexNet_training_seed_01_Ch19_meta_.features.MaxPool2d12_pca750_RidgeCV.pkl',\n",
       " 'result_folder': '/n/holylabs/LABS/alvarez_lab/Everyone/Accentuate_VVS/accentuation_outputs/02-05-2025_red_20250428-20250430_AlexNet_training_seed_01_accentuation',\n",
       " 'gifs_folder': '/n/holylabs/LABS/alvarez_lab/Everyone/Accentuate_VVS/accentuation_outputs/02-05-2025_red_20250428-20250430_AlexNet_training_seed_01_gifs',\n",
       " 'log_dir': '/n/holylabs/LABS/alvarez_lab/Everyone/Accentuate_VVS/accentuation_outputs/02-05-2025_red_20250428-20250430_AlexNet_training_seed_01_logs',\n",
       " 'seed_image_paths': ['shared1000/shared0575_nsd43157.png',\n",
       "  'shared1000/shared0850_nsd61798.png',\n",
       "  'shared1000/shared0968_nsd70194.png',\n",
       "  'shared1000/shared0241_nsd20065.png',\n",
       "  'shared1000/shared0160_nsd13231.png',\n",
       "  'shared1000/shared0070_nsd07008.png',\n",
       "  'shared1000/shared0055_nsd05879.png',\n",
       "  'shared1000/shared0668_nsd48623.png',\n",
       "  'shared1000/shared0488_nsd36979.png',\n",
       "  'shared1000/shared0940_nsd68312.png'],\n",
       " 'hp_tuning': {'enabled': True,\n",
       "  'num_images': 3,\n",
       "  'configs': [{'noise': 0.3,\n",
       "    'decay': 2.5,\n",
       "    'total_steps': 6000,\n",
       "    'learning_rate': 12.0,\n",
       "    'box_size': [0.9, 0.95]},\n",
       "   {'noise': 0.25,\n",
       "    'decay': 2.4,\n",
       "    'total_steps': 6000,\n",
       "    'learning_rate': 12.0,\n",
       "    'box_size': [0.9, 0.95]},\n",
       "   {'noise': 0.15,\n",
       "    'decay': 2.0,\n",
       "    'total_steps': 6000,\n",
       "    'learning_rate': 12.0,\n",
       "    'box_size': [0.9, 0.95]},\n",
       "   {'noise': 0.1,\n",
       "    'decay': 1.5,\n",
       "    'total_steps': 6000,\n",
       "    'learning_rate': 12.0,\n",
       "    'box_size': [0.9, 0.95]},\n",
       "   {'noise': 0.05,\n",
       "    'decay': 1.2,\n",
       "    'total_steps': 6000,\n",
       "    'learning_rate': 12.0,\n",
       "    'box_size': [0.9, 0.95]}]},\n",
       " 'fa_hyperparameters': {'noise': 0.1,\n",
       "  'decay': 1.5,\n",
       "  'total_steps': 6000,\n",
       "  'learning_rate': 12.0,\n",
       "  'image_size': 1024,\n",
       "  'model_input_size': 224,\n",
       "  'values_range': [0.0, 1.0],\n",
       "  'crops_per_iteration': 8,\n",
       "  'box_size': [0.9, 0.95],\n",
       "  'penalty': 0.0},\n",
       " 'extend_range': 0.25,\n",
       " 'num_levels': 11,\n",
       " 'generate_gifs': True,\n",
       " 'bicubic_interpolation': False,\n",
       " 'generate_comprehensive_gifs': True}"
      ]
     },
     "execution_count": 15,
     "metadata": {},
     "output_type": "execute_result"
    }
   ],
   "source": [
    "acc_config"
   ]
  },
  {
   "cell_type": "markdown",
   "metadata": {},
   "source": [
    "### Loading at scale"
   ]
  },
  {
   "cell_type": "code",
   "execution_count": 23,
   "metadata": {},
   "outputs": [],
   "source": [
    "def check_gradient(objective_fn):\n",
    "    \"\"\"Check if gradients can flow through the objective function.\"\"\"\n",
    "    img_opt = th.randn(1, 3, 224, 224).cuda()\n",
    "    img_opt.requires_grad_(True)\n",
    "    resp = objective_fn(img_opt)\n",
    "    resp.mean().backward()\n",
    "    print(resp.shape)\n",
    "    assert img_opt.grad is not None\n",
    "\n",
    "\n",
    "def get_predictor_from_config(acc_config, device=\"cuda\"):\n",
    "    \"\"\"Create a function that predicts neural population responses for images.\n",
    "    \n",
    "    Args:\n",
    "        subject_id (str): ID of the subject\n",
    "        modelname (str): Name of the model to use (e.g. \"resnet50_robust\") \n",
    "        layer_name (str): Name of layer to extract features from\n",
    "        device (str): Device to run model on (\"cuda\" or \"cpu\")\n",
    "        \n",
    "    Returns:\n",
    "        function: A function that takes images as input and returns predicted population responses\n",
    "    \"\"\"\n",
    "    if isinstance(acc_config, str):\n",
    "        acc_config = yaml.safe_load(open(acc_config))\n",
    "        \n",
    "    # Construct paths\n",
    "    xtransform_path = acc_config['xtransform_path']\n",
    "    meta_path = acc_config['meta_path']\n",
    "    readout_path = acc_config['readout_path']\n",
    "    model_name = acc_config['model_name']\n",
    "    unit_ids = acc_config['unit_ids']\n",
    "    layer_name = acc_config['layer_name']\n",
    "    regressor = acc_config['fit_method_name']\n",
    "    print(f\"Loading model and set up feature extraction: model {model_name}, layer {layer_name}\")\n",
    "    print(f\"Target unit ids: {unit_ids}\")\n",
    "    print(f\"Loading readout layer and PCA transform: readout {readout_path}, xtransform             {xtransform_path}\")\n",
    "    # Load model and set up feature extraction\n",
    "    model, transforms_pipeline = load_model_transform(model_name, device=device)\n",
    "    model = model.eval().to(device)\n",
    "    model.requires_grad_(False)\n",
    "    fetcher = featureFetcher(model, input_size=(3, 224, 224), print_module=False)\n",
    "    fetcher.record(layer_name, ingraph=True, store_device=device)\n",
    "    # Load readout layer and PCA transform\n",
    "    readout = th.load(readout_path).to(device)\n",
    "    Xtransform = th.load(xtransform_path).to(device)\n",
    "    def predict_population_response(images):\n",
    "        \"\"\"Predict neural population responses for input images.\n",
    "        \n",
    "        Args:\n",
    "            images (torch.Tensor): Input images of shape (batch_size, 3, 224, 224)\n",
    "            \n",
    "        Returns:\n",
    "            torch.Tensor: Predicted neural responses\n",
    "        \"\"\"\n",
    "        model(images)\n",
    "        feat_tsr = fetcher[layer_name]\n",
    "        feat_vec = Xtransform(feat_tsr)\n",
    "        return readout(feat_vec)\n",
    "    \n",
    "    \n",
    "    def predict_target_unit_response(images):\n",
    "        \"\"\"Predict neural population responses for input images.\n",
    "        \n",
    "        Args:\n",
    "            images (torch.Tensor): Input images of shape (batch_size, 3, 224, 224)\n",
    "            \n",
    "        Returns:\n",
    "            torch.Tensor: Predicted neural responses\n",
    "        \"\"\"\n",
    "        model(images)\n",
    "        feat_tsr = fetcher[layer_name]\n",
    "        feat_vec = Xtransform(feat_tsr)\n",
    "        return readout(feat_vec)[:, unit_ids]\n",
    "\n",
    "    check_gradient(predict_population_response)\n",
    "    print(\"Gradient check passed!\")\n",
    "    return predict_population_response, predict_target_unit_response, \\\n",
    "           model, transforms_pipeline, fetcher, Xtransform, readout"
   ]
  },
  {
   "cell_type": "code",
   "execution_count": null,
   "metadata": {},
   "outputs": [],
   "source": [
    "config_root = r\"/n/holylabs/LABS/alvarez_lab/Everyone/Accentuate_VVS/accentuation_configs\"\n",
    "subject_id = \"red_20250428-20250430\"\n",
    "config_dir = join(config_root, subject_id)\n",
    "config_files = sorted(glob.glob(join(config_dir, \"*.yaml\")))\n",
    "chan_pattern = \"_Ch19_\"\n",
    "config_pre_chan = [f for f in config_files if chan_pattern in f]"
   ]
  },
  {
   "cell_type": "markdown",
   "metadata": {},
   "source": [
    "Check that all predictors can be loaded! "
   ]
  },
  {
   "cell_type": "code",
   "execution_count": null,
   "metadata": {},
   "outputs": [
    {
     "name": "stdout",
     "output_type": "stream",
     "text": [
      "Loading model and set up feature extraction: model AlexNet_training_seed_01, layer .features.MaxPool2d12\n",
      "Target unit ids: [19]\n",
      "Loading readout layer and PCA transform: readout /n/holylabs/LABS/alvarez_lab/Everyone/Accentuate_VVS/Encoding_model_outputs/red_20250428-20250430/red_20250428-20250430_AlexNet_training_seed_01_Ch19_readout_.features.MaxPool2d12_pca750_RidgeCV.pth, xtransform             /n/holylabs/LABS/alvarez_lab/Everyone/Accentuate_VVS/Encoding_model_outputs/red_20250428-20250430/red_20250428-20250430_AlexNet_training_seed_01_Ch19_Xtfmer_.features.MaxPool2d12_pca750_RidgeCV_JITscript.pt\n"
     ]
    },
    {
     "name": "stderr",
     "output_type": "stream",
     "text": [
      "/n/home12/binxuwang/.conda/envs/torch2/lib/python3.10/site-packages/torch/serialization.py:1006: UserWarning: 'torch.load' received a zip file that looks like a TorchScript archive dispatching to 'torch.jit.load' (call 'torch.jit.load' directly to silence this warning)\n",
      "  warnings.warn(\"'torch.load' received a zip file that looks like a TorchScript archive\"\n"
     ]
    },
    {
     "name": "stdout",
     "output_type": "stream",
     "text": [
      "torch.Size([1, 64])\n",
      "Gradient check passed!\n",
      "Loading model and set up feature extraction: model clipag_vitb32, layer .transformer.resblocks.ResidualAttentionBlock9\n",
      "Target unit ids: [19]\n",
      "Loading readout layer and PCA transform: readout /n/holylabs/LABS/alvarez_lab/Everyone/Accentuate_VVS/Encoding_model_outputs/red_20250428-20250430/red_20250428-20250430_clipag_vitb32_Ch19_readout_.transformer.resblocks.ResidualAttentionBlock9_pca750_RidgeCV.pth, xtransform             /n/holylabs/LABS/alvarez_lab/Everyone/Accentuate_VVS/Encoding_model_outputs/red_20250428-20250430/red_20250428-20250430_clipag_vitb32_Ch19_Xtfmer_.transformer.resblocks.ResidualAttentionBlock9_pca750_RidgeCV_JITscript.pt\n"
     ]
    },
    {
     "name": "stderr",
     "output_type": "stream",
     "text": [
      "/n/home12/binxuwang/.conda/envs/torch2/lib/python3.10/site-packages/transformers/utils/hub.py:127: FutureWarning: Using `TRANSFORMERS_CACHE` is deprecated and will be removed in v5 of Transformers. Use `HF_HOME` instead.\n",
      "  warnings.warn(\n"
     ]
    },
    {
     "name": "stdout",
     "output_type": "stream",
     "text": [
      "torch.Size([1, 64])\n",
      "Gradient check passed!\n",
      "Loading model and set up feature extraction: model dinov2_vitb14_reg, layer .blocks.NestedTensorBlock11\n",
      "Target unit ids: [19]\n",
      "Loading readout layer and PCA transform: readout /n/holylabs/LABS/alvarez_lab/Everyone/Accentuate_VVS/Encoding_model_outputs/red_20250428-20250430/red_20250428-20250430_dinov2_vitb14_reg_Ch19_readout_.blocks.NestedTensorBlock11_pca750_RidgeCV.pth, xtransform             /n/holylabs/LABS/alvarez_lab/Everyone/Accentuate_VVS/Encoding_model_outputs/red_20250428-20250430/red_20250428-20250430_dinov2_vitb14_reg_Ch19_Xtfmer_.blocks.NestedTensorBlock11_pca750_RidgeCV_JITscript.pt\n"
     ]
    },
    {
     "name": "stderr",
     "output_type": "stream",
     "text": [
      "Using cache found in /n/holylfs06/LABS/kempner_fellow_binxuwang/Users/binxuwang/torch_cache/hub/facebookresearch_dinov2_main\n",
      "/n/holylfs06/LABS/kempner_fellow_binxuwang/Users/binxuwang/torch_cache/hub/facebookresearch_dinov2_main/dinov2/layers/swiglu_ffn.py:43: UserWarning: xFormers is available (SwiGLU)\n",
      "  warnings.warn(\"xFormers is available (SwiGLU)\")\n",
      "/n/holylfs06/LABS/kempner_fellow_binxuwang/Users/binxuwang/torch_cache/hub/facebookresearch_dinov2_main/dinov2/layers/attention.py:27: UserWarning: xFormers is available (Attention)\n",
      "  warnings.warn(\"xFormers is available (Attention)\")\n",
      "/n/holylfs06/LABS/kempner_fellow_binxuwang/Users/binxuwang/torch_cache/hub/facebookresearch_dinov2_main/dinov2/layers/block.py:33: UserWarning: xFormers is available (Block)\n",
      "  warnings.warn(\"xFormers is available (Block)\")\n"
     ]
    },
    {
     "name": "stdout",
     "output_type": "stream",
     "text": [
      "torch.Size([1, 64])\n",
      "Gradient check passed!\n",
      "Loading model and set up feature extraction: model radio_v2.5-b, layer .model.blocks.Block10\n",
      "Target unit ids: [19]\n",
      "Loading readout layer and PCA transform: readout /n/holylabs/LABS/alvarez_lab/Everyone/Accentuate_VVS/Encoding_model_outputs/red_20250428-20250430/red_20250428-20250430_radio_v2.5-b_Ch19_readout_.model.blocks.Block10_pca750_RidgeCV.pth, xtransform             /n/holylabs/LABS/alvarez_lab/Everyone/Accentuate_VVS/Encoding_model_outputs/red_20250428-20250430/red_20250428-20250430_radio_v2.5-b_Ch19_Xtfmer_.model.blocks.Block10_pca750_RidgeCV_JITscript.pt\n"
     ]
    },
    {
     "name": "stderr",
     "output_type": "stream",
     "text": [
      "Using cache found in /n/holylfs06/LABS/kempner_fellow_binxuwang/Users/binxuwang/torch_cache/hub/NVlabs_RADIO_main\n"
     ]
    },
    {
     "name": "stdout",
     "output_type": "stream",
     "text": [
      "torch.Size([1, 64])\n",
      "Gradient check passed!\n",
      "Loading model and set up feature extraction: model regnety_640, layer .s4.Bottleneckb1\n",
      "Target unit ids: [19]\n",
      "Loading readout layer and PCA transform: readout /n/holylabs/LABS/alvarez_lab/Everyone/Accentuate_VVS/Encoding_model_outputs/red_20250428-20250430/red_20250428-20250430_regnety_640_Ch19_readout_.s4.Bottleneckb1_pca750_RidgeCV.pth, xtransform             /n/holylabs/LABS/alvarez_lab/Everyone/Accentuate_VVS/Encoding_model_outputs/red_20250428-20250430/red_20250428-20250430_regnety_640_Ch19_Xtfmer_.s4.Bottleneckb1_pca750_RidgeCV_JITscript.pt\n",
      "torch.Size([1, 64])\n",
      "Gradient check passed!\n",
      "Loading model and set up feature extraction: model resnet50, layer .layer4.Bottleneck0\n",
      "Target unit ids: [19]\n",
      "Loading readout layer and PCA transform: readout /n/holylabs/LABS/alvarez_lab/Everyone/Accentuate_VVS/Encoding_model_outputs/red_20250428-20250430/red_20250428-20250430_resnet50_Ch19_readout_.layer4.Bottleneck0_pca750_RidgeCV.pth, xtransform             /n/holylabs/LABS/alvarez_lab/Everyone/Accentuate_VVS/Encoding_model_outputs/red_20250428-20250430/red_20250428-20250430_resnet50_Ch19_Xtfmer_.layer4.Bottleneck0_pca750_RidgeCV_JITscript.pt\n"
     ]
    },
    {
     "name": "stderr",
     "output_type": "stream",
     "text": [
      "/n/home12/binxuwang/.conda/envs/torch2/lib/python3.10/site-packages/torchvision/models/_utils.py:208: UserWarning: The parameter 'pretrained' is deprecated since 0.13 and may be removed in the future, please use 'weights' instead.\n",
      "  warnings.warn(\n",
      "/n/home12/binxuwang/.conda/envs/torch2/lib/python3.10/site-packages/torchvision/models/_utils.py:223: UserWarning: Arguments other than a weight enum or `None` for 'weights' are deprecated since 0.13 and may be removed in the future. The current behavior is equivalent to passing `weights=ResNet50_Weights.IMAGENET1K_V1`. You can also use `weights=ResNet50_Weights.DEFAULT` to get the most up-to-date weights.\n",
      "  warnings.warn(msg)\n"
     ]
    },
    {
     "name": "stdout",
     "output_type": "stream",
     "text": [
      "torch.Size([1, 64])\n",
      "Gradient check passed!\n",
      "Loading model and set up feature extraction: model resnet50_clip, layer .layer4.Bottleneck1\n",
      "Target unit ids: [19]\n",
      "Loading readout layer and PCA transform: readout /n/holylabs/LABS/alvarez_lab/Everyone/Accentuate_VVS/Encoding_model_outputs/red_20250428-20250430/red_20250428-20250430_resnet50_clip_Ch19_readout_.layer4.Bottleneck1_pca750_RidgeCV.pth, xtransform             /n/holylabs/LABS/alvarez_lab/Everyone/Accentuate_VVS/Encoding_model_outputs/red_20250428-20250430/red_20250428-20250430_resnet50_clip_Ch19_Xtfmer_.layer4.Bottleneck1_pca750_RidgeCV_JITscript.pt\n",
      "torch.Size([1, 64])\n",
      "Gradient check passed!\n",
      "Loading model and set up feature extraction: model resnet50_dino, layer .layer4.Bottleneck1\n",
      "Target unit ids: [19]\n",
      "Loading readout layer and PCA transform: readout /n/holylabs/LABS/alvarez_lab/Everyone/Accentuate_VVS/Encoding_model_outputs/red_20250428-20250430/red_20250428-20250430_resnet50_dino_Ch19_readout_.layer4.Bottleneck1_pca750_RidgeCV.pth, xtransform             /n/holylabs/LABS/alvarez_lab/Everyone/Accentuate_VVS/Encoding_model_outputs/red_20250428-20250430/red_20250428-20250430_resnet50_dino_Ch19_Xtfmer_.layer4.Bottleneck1_pca750_RidgeCV_JITscript.pt\n"
     ]
    },
    {
     "name": "stderr",
     "output_type": "stream",
     "text": [
      "Using cache found in /n/holylfs06/LABS/kempner_fellow_binxuwang/Users/binxuwang/torch_cache/hub/facebookresearch_dino_main\n",
      "/n/home12/binxuwang/.conda/envs/torch2/lib/python3.10/site-packages/torchvision/models/_utils.py:223: UserWarning: Arguments other than a weight enum or `None` for 'weights' are deprecated since 0.13 and may be removed in the future. The current behavior is equivalent to passing `weights=None`.\n",
      "  warnings.warn(msg)\n"
     ]
    },
    {
     "name": "stdout",
     "output_type": "stream",
     "text": [
      "torch.Size([1, 64])\n",
      "Gradient check passed!\n",
      "Loading model and set up feature extraction: model resnet50_robust, layer .layer4.Bottleneck2\n",
      "Target unit ids: [19]\n",
      "Loading readout layer and PCA transform: readout /n/holylabs/LABS/alvarez_lab/Everyone/Accentuate_VVS/Encoding_model_outputs/red_20250428-20250430/red_20250428-20250430_resnet50_robust_Ch19_readout_.layer4.Bottleneck2_pca750_RidgeCV.pth, xtransform             /n/holylabs/LABS/alvarez_lab/Everyone/Accentuate_VVS/Encoding_model_outputs/red_20250428-20250430/red_20250428-20250430_resnet50_robust_Ch19_Xtfmer_.layer4.Bottleneck2_pca750_RidgeCV_JITscript.pt\n",
      "torch.Size([1, 64])\n",
      "Gradient check passed!\n",
      "Loading model and set up feature extraction: model siglip2_vitb16, layer .trunk.blocks.Block9\n",
      "Target unit ids: [19]\n",
      "Loading readout layer and PCA transform: readout /n/holylabs/LABS/alvarez_lab/Everyone/Accentuate_VVS/Encoding_model_outputs/red_20250428-20250430/red_20250428-20250430_siglip2_vitb16_Ch19_readout_.trunk.blocks.Block9_pca750_RidgeCV.pth, xtransform             /n/holylabs/LABS/alvarez_lab/Everyone/Accentuate_VVS/Encoding_model_outputs/red_20250428-20250430/red_20250428-20250430_siglip2_vitb16_Ch19_Xtfmer_.trunk.blocks.Block9_pca750_RidgeCV_JITscript.pt\n",
      "torch.Size([1, 64])\n",
      "Gradient check passed!\n"
     ]
    }
   ],
   "source": [
    "config_root = r\"/n/holylabs/LABS/alvarez_lab/Everyone/Accentuate_VVS/accentuation_configs\"\n",
    "subject_id = \"red_20250428-20250430\"\n",
    "config_dir = join(config_root, subject_id)\n",
    "config_files = sorted(glob.glob(join(config_dir, \"*.yaml\")))\n",
    "chan_pattern = \"_Ch19_\"\n",
    "config_pre_chan = [f for f in config_files if chan_pattern in f]\n",
    "for config_file in config_pre_chan:\n",
    "    population_predictor, target_unit_predictor, \\\n",
    "        model, transforms_pipeline, fetcher, Xtransform, readout \\\n",
    "            = get_predictor_from_config(config_file, device=\"cuda\")\n",
    "    # print(population_predictor)\n",
    "    # print(target_unit_predictor)"
   ]
  },
  {
   "cell_type": "markdown",
   "metadata": {},
   "source": [
    "### Construct the stimuli set"
   ]
  },
  {
   "cell_type": "code",
   "execution_count": 25,
   "metadata": {},
   "outputs": [
    {
     "data": {
      "text/plain": [
       "'red_20250428-20250430'"
      ]
     },
     "execution_count": 25,
     "metadata": {},
     "output_type": "execute_result"
    }
   ],
   "source": [
    "subject_id"
   ]
  },
  {
   "cell_type": "code",
   "execution_count": null,
   "metadata": {},
   "outputs": [
    {
     "data": {
      "text/plain": [
       "['/n/holylabs/LABS/alvarez_lab/Everyone/Accentuate_VVS/accentuation_outputs/02-05-2025_red_20250428-20250430_siglip2_vitb16_accentuation',\n",
       " '/n/holylabs/LABS/alvarez_lab/Everyone/Accentuate_VVS/accentuation_outputs/02-05-2025_red_20250428-20250430_resnet50_clip_accentuation',\n",
       " '/n/holylabs/LABS/alvarez_lab/Everyone/Accentuate_VVS/accentuation_outputs/02-05-2025_red_20250428-20250430_resnet50_robust_accentuation',\n",
       " '/n/holylabs/LABS/alvarez_lab/Everyone/Accentuate_VVS/accentuation_outputs/02-05-2025_red_20250428-20250430_dinov2_vitb14_reg_accentuation',\n",
       " '/n/holylabs/LABS/alvarez_lab/Everyone/Accentuate_VVS/accentuation_outputs/02-05-2025_red_20250428-20250430_AlexNet_training_seed_01_accentuation',\n",
       " '/n/holylabs/LABS/alvarez_lab/Everyone/Accentuate_VVS/accentuation_outputs/02-05-2025_red_20250428-20250430_resnet50_accentuation',\n",
       " '/n/holylabs/LABS/alvarez_lab/Everyone/Accentuate_VVS/accentuation_outputs/02-05-2025_red_20250428-20250430_regnety_640_accentuation',\n",
       " '/n/holylabs/LABS/alvarez_lab/Everyone/Accentuate_VVS/accentuation_outputs/02-05-2025_red_20250428-20250430_resnet50_dino_accentuation',\n",
       " '/n/holylabs/LABS/alvarez_lab/Everyone/Accentuate_VVS/accentuation_outputs/02-05-2025_red_20250428-20250430_clipag_vitb32_accentuation',\n",
       " '/n/holylabs/LABS/alvarez_lab/Everyone/Accentuate_VVS/accentuation_outputs/02-05-2025_red_20250428-20250430_radio_v2.5-b_accentuation']"
      ]
     },
     "execution_count": 27,
     "metadata": {},
     "output_type": "execute_result"
    }
   ],
   "source": [
    "acc_stim_root = r\"/n/holylabs/LABS/alvarez_lab/Everyone/Accentuate_VVS/accentuation_outputs\"\n",
    "target_subfolder = glob.glob(join(acc_stim_root, f\"*{subject_id}*_accentuation\"))\n",
    "target_subfolder"
   ]
  },
  {
   "cell_type": "code",
   "execution_count": 28,
   "metadata": {},
   "outputs": [
    {
     "name": "stdout",
     "output_type": "stream",
     "text": [
      "Found 550 PNG files in 02-05-2025_red_20250428-20250430_siglip2_vitb16_accentuation\n",
      "  - siglip2_vitb16_RidgeCV_unit_0_img_0_level_-0.2282366166114813_score_-0.21913835406303406.png\n",
      "  - siglip2_vitb16_RidgeCV_unit_0_img_0_level_-1.0373457669019694_score_-1.0277771949768066.png\n",
      "  - siglip2_vitb16_RidgeCV_unit_0_img_0_level_-1.8464549171924576_score_-1.1924805641174316.png\n",
      "  - siglip2_vitb16_RidgeCV_unit_0_img_0_level_0.580872533679007_score_0.5727200508117676.png\n",
      "  - siglip2_vitb16_RidgeCV_unit_0_img_0_level_1.389981683969495_score_1.3872941732406616.png\n",
      "  - ... and 545 more files\n",
      "\n",
      "Found 550 PNG files in 02-05-2025_red_20250428-20250430_resnet50_clip_accentuation\n",
      "  - resnet50_clip_RidgeCV_unit_0_img_0_level_-0.2282366166114813_score_-0.2184920310974121.png\n",
      "  - resnet50_clip_RidgeCV_unit_0_img_0_level_-1.0373457669019694_score_-1.027352213859558.png\n",
      "  - resnet50_clip_RidgeCV_unit_0_img_0_level_-1.8464549171924576_score_-1.836473822593689.png\n",
      "  - resnet50_clip_RidgeCV_unit_0_img_0_level_0.580872533679007_score_0.5900154113769531.png\n",
      "  - resnet50_clip_RidgeCV_unit_0_img_0_level_1.389981683969495_score_1.3803688287734985.png\n",
      "  - ... and 545 more files\n",
      "\n",
      "Found 550 PNG files in 02-05-2025_red_20250428-20250430_resnet50_robust_accentuation\n",
      "  - resnet50_robust_RidgeCV_unit_0_img_0_level_-0.2282366166114813_score_-0.219962939620018.png\n",
      "  - resnet50_robust_RidgeCV_unit_0_img_0_level_-1.0373457669019694_score_-1.0291764736175537.png\n",
      "  - resnet50_robust_RidgeCV_unit_0_img_0_level_-1.8464549171924576_score_-1.8366221189498901.png\n",
      "  - resnet50_robust_RidgeCV_unit_0_img_0_level_0.580872533679007_score_0.589899480342865.png\n",
      "  - resnet50_robust_RidgeCV_unit_0_img_0_level_1.389981683969495_score_1.3803324699401855.png\n",
      "  - ... and 545 more files\n",
      "\n",
      "Found 550 PNG files in 02-05-2025_red_20250428-20250430_dinov2_vitb14_reg_accentuation\n",
      "  - dinov2_vitb14_reg_RidgeCV_unit_0_img_0_level_-0.2282366166114813_score_-0.21868185698986053.png\n",
      "  - dinov2_vitb14_reg_RidgeCV_unit_0_img_0_level_-1.0373457669019694_score_-1.0282909870147705.png\n",
      "  - dinov2_vitb14_reg_RidgeCV_unit_0_img_0_level_-1.8464549171924576_score_-1.8364901542663574.png\n",
      "  - dinov2_vitb14_reg_RidgeCV_unit_0_img_0_level_0.580872533679007_score_0.5725978016853333.png\n",
      "  - dinov2_vitb14_reg_RidgeCV_unit_0_img_0_level_1.389981683969495_score_1.3849091529846191.png\n",
      "  - ... and 545 more files\n",
      "\n",
      "Found 550 PNG files in 02-05-2025_red_20250428-20250430_AlexNet_training_seed_01_accentuation\n",
      "  - AlexNet_training_seed_01_RidgeCV_unit_0_img_0_level_-0.2282366166114813_score_-0.22128941118717194.png\n",
      "  - AlexNet_training_seed_01_RidgeCV_unit_0_img_0_level_-1.0373457669019694_score_-1.0278555154800415.png\n",
      "  - AlexNet_training_seed_01_RidgeCV_unit_0_img_0_level_-1.8464549171924576_score_-1.8385322093963623.png\n",
      "  - AlexNet_training_seed_01_RidgeCV_unit_0_img_0_level_0.580872533679007_score_0.5721354484558105.png\n",
      "  - AlexNet_training_seed_01_RidgeCV_unit_0_img_0_level_1.389981683969495_score_1.380919098854065.png\n",
      "  - ... and 545 more files\n",
      "\n",
      "Found 550 PNG files in 02-05-2025_red_20250428-20250430_resnet50_accentuation\n",
      "  - resnet50_RidgeCV_unit_0_img_0_level_-0.2282366166114813_score_-0.21846050024032593.png\n",
      "  - resnet50_RidgeCV_unit_0_img_0_level_-1.0373457669019694_score_-1.0284550189971924.png\n",
      "  - resnet50_RidgeCV_unit_0_img_0_level_-1.8464549171924576_score_-1.8370397090911865.png\n",
      "  - resnet50_RidgeCV_unit_0_img_0_level_0.580872533679007_score_0.5765054225921631.png\n",
      "  - resnet50_RidgeCV_unit_0_img_0_level_1.389981683969495_score_1.3835681676864624.png\n",
      "  - ... and 545 more files\n",
      "\n",
      "Found 550 PNG files in 02-05-2025_red_20250428-20250430_regnety_640_accentuation\n",
      "  - regnety_640_RidgeCV_unit_0_img_0_level_-0.2282366166114813_score_-0.2210223376750946.png\n",
      "  - regnety_640_RidgeCV_unit_0_img_0_level_-1.0373457669019694_score_-1.0273547172546387.png\n",
      "  - regnety_640_RidgeCV_unit_0_img_0_level_-1.8464549171924576_score_-1.8366522789001465.png\n",
      "  - regnety_640_RidgeCV_unit_0_img_0_level_0.580872533679007_score_0.5744436979293823.png\n",
      "  - regnety_640_RidgeCV_unit_0_img_0_level_1.389981683969495_score_1.3805406093597412.png\n",
      "  - ... and 545 more files\n",
      "\n",
      "Found 550 PNG files in 02-05-2025_red_20250428-20250430_resnet50_dino_accentuation\n",
      "  - resnet50_dino_RidgeCV_unit_0_img_0_level_-0.2282366166114813_score_-0.21875673532485962.png\n",
      "  - resnet50_dino_RidgeCV_unit_0_img_0_level_-1.0373457669019694_score_-1.0289300680160522.png\n",
      "  - resnet50_dino_RidgeCV_unit_0_img_0_level_-1.8464549171924576_score_-1.83707594871521.png\n",
      "  - resnet50_dino_RidgeCV_unit_0_img_0_level_0.580872533679007_score_0.57150799036026.png\n",
      "  - resnet50_dino_RidgeCV_unit_0_img_0_level_1.389981683969495_score_1.3805205821990967.png\n",
      "  - ... and 545 more files\n",
      "\n",
      "Found 550 PNG files in 02-05-2025_red_20250428-20250430_clipag_vitb32_accentuation\n",
      "  - clipag_vitb32_RidgeCV_unit_0_img_0_level_-0.2282366166114813_score_-0.2212853878736496.png\n",
      "  - clipag_vitb32_RidgeCV_unit_0_img_0_level_-1.0373457669019694_score_-1.0278148651123047.png\n",
      "  - clipag_vitb32_RidgeCV_unit_0_img_0_level_-1.8464549171924576_score_-1.8379993438720703.png\n",
      "  - clipag_vitb32_RidgeCV_unit_0_img_0_level_0.580872533679007_score_0.5741710662841797.png\n",
      "  - clipag_vitb32_RidgeCV_unit_0_img_0_level_1.389981683969495_score_1.3831709623336792.png\n",
      "  - ... and 545 more files\n",
      "\n",
      "Found 550 PNG files in 02-05-2025_red_20250428-20250430_radio_v2.5-b_accentuation\n",
      "  - radio_v2.5-b_RidgeCV_unit_0_img_0_level_-0.2282366166114813_score_-0.21980516612529755.png\n",
      "  - radio_v2.5-b_RidgeCV_unit_0_img_0_level_-1.0373457669019694_score_-1.0274107456207275.png\n",
      "  - radio_v2.5-b_RidgeCV_unit_0_img_0_level_-1.8464549171924576_score_-1.7680553197860718.png\n",
      "  - radio_v2.5-b_RidgeCV_unit_0_img_0_level_0.580872533679007_score_0.5726814270019531.png\n",
      "  - radio_v2.5-b_RidgeCV_unit_0_img_0_level_1.389981683969495_score_1.380806565284729.png\n",
      "  - ... and 545 more files\n",
      "\n"
     ]
    }
   ],
   "source": [
    "# List all png files in each subfolder (one level deep)\n",
    "all_png_files = {}\n",
    "for subfolder in target_subfolder:\n",
    "    subfolder_name = os.path.basename(subfolder)\n",
    "    png_files = glob.glob(join(subfolder, \"*.png\"))\n",
    "    # Sort the files to ensure consistent order\n",
    "    png_files.sort()\n",
    "    all_png_files[subfolder_name] = png_files\n",
    "    print(f\"Found {len(png_files)} PNG files in {subfolder_name}\")\n",
    "    # Print first few files as example\n",
    "    for file in png_files[:5]:\n",
    "        print(f\"  - {os.path.basename(file)}\")\n",
    "    if len(png_files) > 5:\n",
    "        print(f\"  - ... and {len(png_files)-5} more files\")\n",
    "    print()"
   ]
  },
  {
   "cell_type": "code",
   "execution_count": 36,
   "metadata": {},
   "outputs": [],
   "source": [
    "import re\n",
    "\n",
    "def parse_accentuated_filename(filename):\n",
    "    \"\"\"\n",
    "    Parse accentuated image filenames to extract metadata.\n",
    "    \n",
    "    Example filename format:\n",
    "    radio_v2.5-b_RidgeCV_unit_0_img_0_level_0.580872533679007_score_0.5726814270019531.png\n",
    "    \n",
    "    Returns:\n",
    "        dict: Dictionary containing extracted metadata (model_name, unit_id, img_id, level, score)\n",
    "    \"\"\"\n",
    "    # Get just the filename without path\n",
    "    basename = os.path.basename(filename)\n",
    "    \n",
    "    # Extract components using regex\n",
    "    pattern = r'(.+?)_RidgeCV_unit_(\\d+)_img_(\\d+)_level_([-\\d\\.]+)_score_([-\\d\\.]+)\\.png'\n",
    "    match = re.search(pattern, basename)\n",
    "    \n",
    "    if match:\n",
    "        model_name, unit_id, img_id, level, score = match.groups()\n",
    "        return {\n",
    "            'model_name': model_name,\n",
    "            'unit_id': int(unit_id),\n",
    "            'img_id': int(img_id),\n",
    "            'level': float(level),\n",
    "            'score': float(score),\n",
    "            'filepath': filename\n",
    "        }\n",
    "    else:\n",
    "        return None\n",
    "\n",
    "def parse_accentuated_filenames_to_df(filenames):\n",
    "    \"\"\"\n",
    "    Parse a list of accentuated image filenames and return as a DataFrame.\n",
    "    \n",
    "    Args:\n",
    "        filenames (list): List of filenames to parse\n",
    "        \n",
    "    Returns:\n",
    "        pd.DataFrame: DataFrame containing parsed metadata for all files\n",
    "    \"\"\"\n",
    "    import pandas as pd\n",
    "    \n",
    "    parsed_data = []\n",
    "    for filename in filenames:\n",
    "        parsed = parse_accentuated_filename(filename)\n",
    "        if parsed:\n",
    "            parsed_data.append(parsed)\n",
    "    \n",
    "    if parsed_data:\n",
    "        return pd.DataFrame(parsed_data)\n",
    "    else:\n",
    "        return pd.DataFrame()\n"
   ]
  },
  {
   "cell_type": "code",
   "execution_count": 35,
   "metadata": {},
   "outputs": [
    {
     "name": "stdout",
     "output_type": "stream",
     "text": [
      "DataFrame shape: (5500, 6)\n",
      "\n",
      "DataFrame columns:\n",
      "['model_name', 'unit_id', 'img_id', 'level', 'score', 'filepath']\n",
      "\n",
      "First few rows:\n"
     ]
    },
    {
     "data": {
      "text/html": [
       "<div>\n",
       "<style scoped>\n",
       "    .dataframe tbody tr th:only-of-type {\n",
       "        vertical-align: middle;\n",
       "    }\n",
       "\n",
       "    .dataframe tbody tr th {\n",
       "        vertical-align: top;\n",
       "    }\n",
       "\n",
       "    .dataframe thead th {\n",
       "        text-align: right;\n",
       "    }\n",
       "</style>\n",
       "<table border=\"1\" class=\"dataframe\">\n",
       "  <thead>\n",
       "    <tr style=\"text-align: right;\">\n",
       "      <th></th>\n",
       "      <th>model_name</th>\n",
       "      <th>unit_id</th>\n",
       "      <th>img_id</th>\n",
       "      <th>level</th>\n",
       "      <th>score</th>\n",
       "      <th>filepath</th>\n",
       "    </tr>\n",
       "  </thead>\n",
       "  <tbody>\n",
       "    <tr>\n",
       "      <th>0</th>\n",
       "      <td>siglip2_vitb16</td>\n",
       "      <td>0</td>\n",
       "      <td>0</td>\n",
       "      <td>-0.228237</td>\n",
       "      <td>-0.219138</td>\n",
       "      <td>/n/holylabs/LABS/alvarez_lab/Everyone/Accentua...</td>\n",
       "    </tr>\n",
       "    <tr>\n",
       "      <th>1</th>\n",
       "      <td>siglip2_vitb16</td>\n",
       "      <td>0</td>\n",
       "      <td>0</td>\n",
       "      <td>-1.037346</td>\n",
       "      <td>-1.027777</td>\n",
       "      <td>/n/holylabs/LABS/alvarez_lab/Everyone/Accentua...</td>\n",
       "    </tr>\n",
       "    <tr>\n",
       "      <th>2</th>\n",
       "      <td>siglip2_vitb16</td>\n",
       "      <td>0</td>\n",
       "      <td>0</td>\n",
       "      <td>-1.846455</td>\n",
       "      <td>-1.192481</td>\n",
       "      <td>/n/holylabs/LABS/alvarez_lab/Everyone/Accentua...</td>\n",
       "    </tr>\n",
       "    <tr>\n",
       "      <th>3</th>\n",
       "      <td>siglip2_vitb16</td>\n",
       "      <td>0</td>\n",
       "      <td>0</td>\n",
       "      <td>0.580873</td>\n",
       "      <td>0.572720</td>\n",
       "      <td>/n/holylabs/LABS/alvarez_lab/Everyone/Accentua...</td>\n",
       "    </tr>\n",
       "    <tr>\n",
       "      <th>4</th>\n",
       "      <td>siglip2_vitb16</td>\n",
       "      <td>0</td>\n",
       "      <td>0</td>\n",
       "      <td>1.389982</td>\n",
       "      <td>1.387294</td>\n",
       "      <td>/n/holylabs/LABS/alvarez_lab/Everyone/Accentua...</td>\n",
       "    </tr>\n",
       "  </tbody>\n",
       "</table>\n",
       "</div>"
      ],
      "text/plain": [
       "       model_name  unit_id  img_id     level     score  \\\n",
       "0  siglip2_vitb16        0       0 -0.228237 -0.219138   \n",
       "1  siglip2_vitb16        0       0 -1.037346 -1.027777   \n",
       "2  siglip2_vitb16        0       0 -1.846455 -1.192481   \n",
       "3  siglip2_vitb16        0       0  0.580873  0.572720   \n",
       "4  siglip2_vitb16        0       0  1.389982  1.387294   \n",
       "\n",
       "                                            filepath  \n",
       "0  /n/holylabs/LABS/alvarez_lab/Everyone/Accentua...  \n",
       "1  /n/holylabs/LABS/alvarez_lab/Everyone/Accentua...  \n",
       "2  /n/holylabs/LABS/alvarez_lab/Everyone/Accentua...  \n",
       "3  /n/holylabs/LABS/alvarez_lab/Everyone/Accentua...  \n",
       "4  /n/holylabs/LABS/alvarez_lab/Everyone/Accentua...  "
      ]
     },
     "metadata": {},
     "output_type": "display_data"
    },
    {
     "name": "stdout",
     "output_type": "stream",
     "text": [
      "\n",
      "Unique models: 10\n",
      "Unique units: 5\n",
      "Unique image IDs: 10\n",
      "Unique levels: 55\n",
      "Unique scores: 5489\n"
     ]
    }
   ],
   "source": [
    "# Test the function on the file list\n",
    "import re\n",
    "import pandas as pd\n",
    "# Parse all files into a DataFrame\n",
    "png_files_list = sum(all_png_files.values(), [])\n",
    "df_accentuated = parse_accentuated_filenames_to_df(png_files_list)\n",
    "# Display info about the DataFrame\n",
    "print(f\"DataFrame shape: {df_accentuated.shape}\")\n",
    "print(\"\\nDataFrame columns:\")\n",
    "print(df_accentuated.columns.tolist())\n",
    "\n",
    "# Display first few rows\n",
    "print(\"\\nFirst few rows:\")\n",
    "display(df_accentuated.head())\n",
    "\n",
    "# Show unique models and units\n",
    "print(f\"\\nUnique models: {df_accentuated['model_name'].nunique()}\")\n",
    "print(f\"Unique units: {df_accentuated['unit_id'].nunique()}\")\n",
    "print(f\"Unique image IDs: {df_accentuated['img_id'].nunique()}\")\n",
    "print(f\"Unique levels: {df_accentuated['level'].nunique()}\")\n",
    "print(f\"Unique scores: {df_accentuated['score'].nunique()}\")"
   ]
  },
  {
   "cell_type": "code",
   "execution_count": 38,
   "metadata": {},
   "outputs": [],
   "source": [
    "from circuit_toolkit.dataset_utils import ImagePathDataset, DataLoader\n",
    "def get_prediction_responses(pred_fn, transforms_pipeline, image_fps, device=\"cuda\", batch_size=100, num_workers=16):\n",
    "    \"\"\"\n",
    "    Get the prediction responses for a set of images\n",
    "    \"\"\"\n",
    "    dataset = ImagePathDataset(image_fps, transform=transforms_pipeline)\n",
    "    dataloader = DataLoader(dataset, batch_size=batch_size, shuffle=False, num_workers=num_workers)\n",
    "    pred_resp = []\n",
    "    for batch in tqdm(dataloader):\n",
    "        batch_img = batch[0].to(device)\n",
    "        with th.no_grad():\n",
    "            batch_resp = pred_fn(batch_img).cpu()\n",
    "        pred_resp.append(batch_resp)\n",
    "    return torch.cat(pred_resp, dim=0)"
   ]
  },
  {
   "cell_type": "code",
   "execution_count": 37,
   "metadata": {},
   "outputs": [
    {
     "name": "stdout",
     "output_type": "stream",
     "text": [
      "Loading model and set up feature extraction: model AlexNet_training_seed_01, layer .features.MaxPool2d12\n",
      "Target unit ids: [19]\n",
      "Loading readout layer and PCA transform: readout /n/holylabs/LABS/alvarez_lab/Everyone/Accentuate_VVS/Encoding_model_outputs/red_20250428-20250430/red_20250428-20250430_AlexNet_training_seed_01_Ch19_readout_.features.MaxPool2d12_pca750_RidgeCV.pth, xtransform             /n/holylabs/LABS/alvarez_lab/Everyone/Accentuate_VVS/Encoding_model_outputs/red_20250428-20250430/red_20250428-20250430_AlexNet_training_seed_01_Ch19_Xtfmer_.features.MaxPool2d12_pca750_RidgeCV_JITscript.pt\n",
      "torch.Size([1, 64])\n",
      "Gradient check passed!\n",
      "The (227, 227) setting is overwritten by the size in custom transform\n"
     ]
    },
    {
     "name": "stderr",
     "output_type": "stream",
     "text": [
      "/n/home12/binxuwang/.conda/envs/torch2/lib/python3.10/site-packages/torch/serialization.py:1006: UserWarning: 'torch.load' received a zip file that looks like a TorchScript archive dispatching to 'torch.jit.load' (call 'torch.jit.load' directly to silence this warning)\n",
      "  warnings.warn(\"'torch.load' received a zip file that looks like a TorchScript archive\"\n"
     ]
    }
   ],
   "source": [
    "config_root = r\"/n/holylabs/LABS/alvarez_lab/Everyone/Accentuate_VVS/accentuation_configs\"\n",
    "subject_id = \"red_20250428-20250430\"\n",
    "config_dir = join(config_root, subject_id)\n",
    "config_files = sorted(glob.glob(join(config_dir, \"*.yaml\")))\n",
    "chan_pattern = \"_Ch19_\"\n",
    "config_pre_chan = [f for f in config_files if chan_pattern in f]\n",
    "config_file = config_pre_chan[0]\n",
    "# for config_file in config_pre_chan:\n",
    "population_predictor, target_unit_predictor, \\\n",
    "    model, transforms_pipeline, _, _, _ \\\n",
    "        = get_predictor_from_config(config_file, device=\"cuda\")\n",
    "\n",
    "accentuated_dataset = ImagePathDataset(df_accentuated[\"filepath\"], transform=transforms_pipeline)\n",
    "accentuated_dataloader = DataLoader(accentuated_dataset, batch_size=100, shuffle=False, num_workers=10)"
   ]
  },
  {
   "cell_type": "code",
   "execution_count": 39,
   "metadata": {},
   "outputs": [
    {
     "name": "stdout",
     "output_type": "stream",
     "text": [
      "The (227, 227) setting is overwritten by the size in custom transform\n"
     ]
    },
    {
     "data": {
      "application/vnd.jupyter.widget-view+json": {
       "model_id": "bb96cefcf7254482a421b63bbeec9f86",
       "version_major": 2,
       "version_minor": 0
      },
      "text/plain": [
       "  0%|          | 0/55 [00:00<?, ?it/s]"
      ]
     },
     "metadata": {},
     "output_type": "display_data"
    },
    {
     "name": "stdout",
     "output_type": "stream",
     "text": [
      "The (227, 227) setting is overwritten by the size in custom transform\n"
     ]
    },
    {
     "name": "stderr",
     "output_type": "stream",
     "text": [
      "Exception ignored in: <function _MultiProcessingDataLoaderIter.__del__ at 0x14dcf8f6bac0>\n",
      "Traceback (most recent call last):\n",
      "Exception ignored in:   File \"/n/home12/binxuwang/.conda/envs/torch2/lib/python3.10/site-packages/torch/utils/data/dataloader.py\", line 1479, in __del__\n",
      "    <function _MultiProcessingDataLoaderIter.__del__ at 0x14dcf8f6bac0>self._shutdown_workers()\n",
      "\n",
      "Traceback (most recent call last):\n"
     ]
    },
    {
     "data": {
      "application/vnd.jupyter.widget-view+json": {
       "model_id": "edb51f1fe57c4957b07bc25d001b7da7",
       "version_major": 2,
       "version_minor": 0
      },
      "text/plain": [
       "  0%|          | 0/55 [00:03<?, ?it/s]"
      ]
     },
     "metadata": {},
     "output_type": "display_data"
    },
    {
     "name": "stderr",
     "output_type": "stream",
     "text": [
      "  File \"/n/home12/binxuwang/.conda/envs/torch2/lib/python3.10/site-packages/torch/utils/data/dataloader.py\", line 1462, in _shutdown_workers\n",
      "  File \"/n/home12/binxuwang/.conda/envs/torch2/lib/python3.10/site-packages/torch/utils/data/dataloader.py\", line 1479, in __del__\n",
      "        self._shutdown_workers()if w.is_alive():\n",
      "\n",
      "  File \"/n/home12/binxuwang/.conda/envs/torch2/lib/python3.10/multiprocessing/process.py\", line 160, in is_alive\n",
      "  File \"/n/home12/binxuwang/.conda/envs/torch2/lib/python3.10/site-packages/torch/utils/data/dataloader.py\", line 1462, in _shutdown_workers\n",
      "        assert self._parent_pid == os.getpid(), 'can only test a child process'if w.is_alive():\n",
      "\n",
      "AssertionError  File \"/n/home12/binxuwang/.conda/envs/torch2/lib/python3.10/multiprocessing/process.py\", line 160, in is_alive\n",
      ": can only test a child process\n",
      "    \n",
      "assert self._parent_pid == os.getpid(), 'can only test a child process'\n",
      "AssertionError: Exception ignored in: <function _MultiProcessingDataLoaderIter.__del__ at 0x14dcf8f6bac0>\n",
      "Traceback (most recent call last):\n",
      "  File \"/n/home12/binxuwang/.conda/envs/torch2/lib/python3.10/site-packages/torch/utils/data/dataloader.py\", line 1479, in __del__\n",
      "    self._shutdown_workers()\n",
      "can only test a child process  File \"/n/home12/binxuwang/.conda/envs/torch2/lib/python3.10/site-packages/torch/utils/data/dataloader.py\", line 1462, in _shutdown_workers\n",
      "    \n",
      "if w.is_alive():\n",
      "  File \"/n/home12/binxuwang/.conda/envs/torch2/lib/python3.10/multiprocessing/process.py\", line 160, in is_alive\n",
      "    assert self._parent_pid == os.getpid(), 'can only test a child process'\n",
      "AssertionError: can only test a child processException ignored in: <function _MultiProcessingDataLoaderIter.__del__ at 0x14dcf8f6bac0>\n",
      "Traceback (most recent call last):\n",
      "  File \"/n/home12/binxuwang/.conda/envs/torch2/lib/python3.10/site-packages/torch/utils/data/dataloader.py\", line 1479, in __del__\n",
      "    self._shutdown_workers()\n",
      "  File \"/n/home12/binxuwang/.conda/envs/torch2/lib/python3.10/site-packages/torch/utils/data/dataloader.py\", line 1462, in _shutdown_workers\n",
      "    if w.is_alive():\n",
      "  File \"/n/home12/binxuwang/.conda/envs/torch2/lib/python3.10/multiprocessing/process.py\", line 160, in is_alive\n",
      "    assert self._parent_pid == os.getpid(), 'can only test a child process'\n",
      "AssertionError: can only test a child process\n",
      "Exception ignored in: Exception ignored in: <function _MultiProcessingDataLoaderIter.__del__ at 0x14dcf8f6bac0><function _MultiProcessingDataLoaderIter.__del__ at 0x14dcf8f6bac0>\n",
      "\n",
      "Traceback (most recent call last):\n",
      "  File \"/n/home12/binxuwang/.conda/envs/torch2/lib/python3.10/site-packages/torch/utils/data/dataloader.py\", line 1479, in __del__\n",
      "Traceback (most recent call last):\n",
      "  File \"/n/home12/binxuwang/.conda/envs/torch2/lib/python3.10/site-packages/torch/utils/data/dataloader.py\", line 1479, in __del__\n",
      "        self._shutdown_workers()self._shutdown_workers()\n",
      "\n",
      "  File \"/n/home12/binxuwang/.conda/envs/torch2/lib/python3.10/site-packages/torch/utils/data/dataloader.py\", line 1462, in _shutdown_workers\n",
      "  File \"/n/home12/binxuwang/.conda/envs/torch2/lib/python3.10/site-packages/torch/utils/data/dataloader.py\", line 1462, in _shutdown_workers\n",
      "    if w.is_alive():\n",
      "  File \"/n/home12/binxuwang/.conda/envs/torch2/lib/python3.10/multiprocessing/process.py\", line 160, in is_alive\n",
      "    if w.is_alive():\n",
      "  File \"/n/home12/binxuwang/.conda/envs/torch2/lib/python3.10/multiprocessing/process.py\", line 160, in is_alive\n",
      "        assert self._parent_pid == os.getpid(), 'can only test a child process'assert self._parent_pid == os.getpid(), 'can only test a child process'\n",
      "AssertionError\n",
      ": AssertionErrorcan only test a child process: \n",
      "can only test a child process\n",
      "Exception ignored in: <function _MultiProcessingDataLoaderIter.__del__ at 0x14dcf8f6bac0>\n",
      "Traceback (most recent call last):\n",
      "  File \"/n/home12/binxuwang/.conda/envs/torch2/lib/python3.10/site-packages/torch/utils/data/dataloader.py\", line 1479, in __del__\n",
      "    self._shutdown_workers()\n",
      "  File \"/n/home12/binxuwang/.conda/envs/torch2/lib/python3.10/site-packages/torch/utils/data/dataloader.py\", line 1462, in _shutdown_workers\n",
      "    if w.is_alive():\n",
      "  File \"/n/home12/binxuwang/.conda/envs/torch2/lib/python3.10/multiprocessing/process.py\", line 160, in is_alive\n",
      "    assert self._parent_pid == os.getpid(), 'can only test a child process'\n",
      "AssertionError: can only test a child process\n",
      "Exception ignored in: <function _MultiProcessingDataLoaderIter.__del__ at 0x14dcf8f6bac0>\n",
      "Traceback (most recent call last):\n",
      "  File \"/n/home12/binxuwang/.conda/envs/torch2/lib/python3.10/site-packages/torch/utils/data/dataloader.py\", line 1479, in __del__\n",
      "    self._shutdown_workers()\n",
      "  File \"/n/home12/binxuwang/.conda/envs/torch2/lib/python3.10/site-packages/torch/utils/data/dataloader.py\", line 1462, in _shutdown_workers\n",
      "    if w.is_alive():\n",
      "  File \"/n/home12/binxuwang/.conda/envs/torch2/lib/python3.10/multiprocessing/process.py\", line 160, in is_alive\n",
      "    assert self._parent_pid == os.getpid(), 'can only test a child process'\n",
      "AssertionError: can only test a child process\n",
      "Exception ignored in: <function _MultiProcessingDataLoaderIter.__del__ at 0x14dcf8f6bac0>\n",
      "Traceback (most recent call last):\n",
      "  File \"/n/home12/binxuwang/.conda/envs/torch2/lib/python3.10/site-packages/torch/utils/data/dataloader.py\", line 1479, in __del__\n",
      "    self._shutdown_workers()\n",
      "  File \"/n/home12/binxuwang/.conda/envs/torch2/lib/python3.10/site-packages/torch/utils/data/dataloader.py\", line 1462, in _shutdown_workers\n",
      "    if w.is_alive():\n",
      "  File \"/n/home12/binxuwang/.conda/envs/torch2/lib/python3.10/multiprocessing/process.py\", line 160, in is_alive\n",
      "    assert self._parent_pid == os.getpid(), 'can only test a child process'\n",
      "AssertionErrorException ignored in: : <function _MultiProcessingDataLoaderIter.__del__ at 0x14dcf8f6bac0>\n",
      "can only test a child processTraceback (most recent call last):\n",
      "  File \"/n/home12/binxuwang/.conda/envs/torch2/lib/python3.10/site-packages/torch/utils/data/dataloader.py\", line 1479, in __del__\n",
      "\n",
      "    self._shutdown_workers()\n",
      "  File \"/n/home12/binxuwang/.conda/envs/torch2/lib/python3.10/site-packages/torch/utils/data/dataloader.py\", line 1462, in _shutdown_workers\n",
      "    if w.is_alive():\n",
      "  File \"/n/home12/binxuwang/.conda/envs/torch2/lib/python3.10/multiprocessing/process.py\", line 160, in is_alive\n",
      "    assert self._parent_pid == os.getpid(), 'can only test a child process'\n",
      "AssertionError: can only test a child process\n"
     ]
    },
    {
     "data": {
      "text/plain": [
       "torch.Size([5500, 1])"
      ]
     },
     "execution_count": 39,
     "metadata": {},
     "output_type": "execute_result"
    }
   ],
   "source": [
    "acc_img_pop_resp = get_prediction_responses(population_predictor, transforms_pipeline, \n",
    "                                        df_accentuated[\"filepath\"])\n",
    "acc_img_pop_resp.shape # (n_images, n_units)\n",
    "\n",
    "acc_img_chan_resp = get_prediction_responses(target_unit_predictor, transforms_pipeline, \n",
    "                                        df_accentuated[\"filepath\"])\n",
    "acc_img_chan_resp.shape # (n_images, 1) usually only target unit\n",
    "assert torch.allclose(acc_img_pop_resp[:, unit_ids], acc_img_chan_resp)"
   ]
  },
  {
   "cell_type": "code",
   "execution_count": 41,
   "metadata": {},
   "outputs": [
    {
     "data": {
      "text/html": [
       "<div>\n",
       "<style scoped>\n",
       "    .dataframe tbody tr th:only-of-type {\n",
       "        vertical-align: middle;\n",
       "    }\n",
       "\n",
       "    .dataframe tbody tr th {\n",
       "        vertical-align: top;\n",
       "    }\n",
       "\n",
       "    .dataframe thead th {\n",
       "        text-align: right;\n",
       "    }\n",
       "</style>\n",
       "<table border=\"1\" class=\"dataframe\">\n",
       "  <thead>\n",
       "    <tr style=\"text-align: right;\">\n",
       "      <th></th>\n",
       "      <th>model_name</th>\n",
       "      <th>unit_id</th>\n",
       "      <th>img_id</th>\n",
       "      <th>level</th>\n",
       "      <th>score</th>\n",
       "      <th>filepath</th>\n",
       "      <th>pred_resp</th>\n",
       "    </tr>\n",
       "  </thead>\n",
       "  <tbody>\n",
       "    <tr>\n",
       "      <th>0</th>\n",
       "      <td>siglip2_vitb16</td>\n",
       "      <td>0</td>\n",
       "      <td>0</td>\n",
       "      <td>-0.228237</td>\n",
       "      <td>-0.219138</td>\n",
       "      <td>/n/holylabs/LABS/alvarez_lab/Everyone/Accentua...</td>\n",
       "      <td>0.550313</td>\n",
       "    </tr>\n",
       "    <tr>\n",
       "      <th>1</th>\n",
       "      <td>siglip2_vitb16</td>\n",
       "      <td>0</td>\n",
       "      <td>0</td>\n",
       "      <td>-1.037346</td>\n",
       "      <td>-1.027777</td>\n",
       "      <td>/n/holylabs/LABS/alvarez_lab/Everyone/Accentua...</td>\n",
       "      <td>0.561994</td>\n",
       "    </tr>\n",
       "    <tr>\n",
       "      <th>2</th>\n",
       "      <td>siglip2_vitb16</td>\n",
       "      <td>0</td>\n",
       "      <td>0</td>\n",
       "      <td>-1.846455</td>\n",
       "      <td>-1.192481</td>\n",
       "      <td>/n/holylabs/LABS/alvarez_lab/Everyone/Accentua...</td>\n",
       "      <td>0.502087</td>\n",
       "    </tr>\n",
       "    <tr>\n",
       "      <th>3</th>\n",
       "      <td>siglip2_vitb16</td>\n",
       "      <td>0</td>\n",
       "      <td>0</td>\n",
       "      <td>0.580873</td>\n",
       "      <td>0.572720</td>\n",
       "      <td>/n/holylabs/LABS/alvarez_lab/Everyone/Accentua...</td>\n",
       "      <td>0.464899</td>\n",
       "    </tr>\n",
       "    <tr>\n",
       "      <th>4</th>\n",
       "      <td>siglip2_vitb16</td>\n",
       "      <td>0</td>\n",
       "      <td>0</td>\n",
       "      <td>1.389982</td>\n",
       "      <td>1.387294</td>\n",
       "      <td>/n/holylabs/LABS/alvarez_lab/Everyone/Accentua...</td>\n",
       "      <td>0.389921</td>\n",
       "    </tr>\n",
       "  </tbody>\n",
       "</table>\n",
       "</div>"
      ],
      "text/plain": [
       "       model_name  unit_id  img_id     level     score  \\\n",
       "0  siglip2_vitb16        0       0 -0.228237 -0.219138   \n",
       "1  siglip2_vitb16        0       0 -1.037346 -1.027777   \n",
       "2  siglip2_vitb16        0       0 -1.846455 -1.192481   \n",
       "3  siglip2_vitb16        0       0  0.580873  0.572720   \n",
       "4  siglip2_vitb16        0       0  1.389982  1.387294   \n",
       "\n",
       "                                            filepath  pred_resp  \n",
       "0  /n/holylabs/LABS/alvarez_lab/Everyone/Accentua...   0.550313  \n",
       "1  /n/holylabs/LABS/alvarez_lab/Everyone/Accentua...   0.561994  \n",
       "2  /n/holylabs/LABS/alvarez_lab/Everyone/Accentua...   0.502087  \n",
       "3  /n/holylabs/LABS/alvarez_lab/Everyone/Accentua...   0.464899  \n",
       "4  /n/holylabs/LABS/alvarez_lab/Everyone/Accentua...   0.389921  "
      ]
     },
     "execution_count": 41,
     "metadata": {},
     "output_type": "execute_result"
    }
   ],
   "source": [
    "df_with_pred_resp = df_accentuated.copy()\n",
    "# df_with_pred_resp[\"pop_resp\"] = acc_img_pop_resp.cpu().numpy()\n",
    "df_with_pred_resp[\"pred_resp\"] = acc_img_chan_resp.cpu().numpy()\n",
    "df_with_pred_resp.head()"
   ]
  },
  {
   "cell_type": "code",
   "execution_count": 42,
   "metadata": {},
   "outputs": [
    {
     "data": {
      "image/png": "[encoded data removed]",
      "text/plain": [
       "<Figure size 640x480 with 1 Axes>"
      ]
     },
     "metadata": {},
     "output_type": "display_data"
    }
   ],
   "source": [
    "sns.scatterplot(data=df_with_pred_resp.query(\"unit_id == 19\"), x=\"score\", y=\"pred_resp\", hue=\"model_name\")\n",
    "plt.show()"
   ]
  },
  {
   "cell_type": "markdown",
   "metadata": {},
   "source": [
    "### Mass produce cross prediction "
   ]
  },
  {
   "cell_type": "code",
   "execution_count": 44,
   "metadata": {},
   "outputs": [
    {
     "name": "stdout",
     "output_type": "stream",
     "text": [
      "Loading model and set up feature extraction: model AlexNet_training_seed_01, layer .features.MaxPool2d12\n",
      "Target unit ids: [0]\n",
      "Loading readout layer and PCA transform: readout /n/holylabs/LABS/alvarez_lab/Everyone/Accentuate_VVS/Encoding_model_outputs/red_20250428-20250430/red_20250428-20250430_AlexNet_training_seed_01_Ch00_readout_.features.MaxPool2d12_pca750_RidgeCV.pth, xtransform             /n/holylabs/LABS/alvarez_lab/Everyone/Accentuate_VVS/Encoding_model_outputs/red_20250428-20250430/red_20250428-20250430_AlexNet_training_seed_01_Ch00_Xtfmer_.features.MaxPool2d12_pca750_RidgeCV_JITscript.pt\n",
      "torch.Size([1, 64])\n",
      "Gradient check passed!\n",
      "The (227, 227) setting is overwritten by the size in custom transform\n"
     ]
    },
    {
     "name": "stderr",
     "output_type": "stream",
     "text": [
      "/n/home12/binxuwang/.conda/envs/torch2/lib/python3.10/site-packages/torch/serialization.py:1006: UserWarning: 'torch.load' received a zip file that looks like a TorchScript archive dispatching to 'torch.jit.load' (call 'torch.jit.load' directly to silence this warning)\n",
      "  warnings.warn(\"'torch.load' received a zip file that looks like a TorchScript archive\"\n"
     ]
    },
    {
     "data": {
      "application/vnd.jupyter.widget-view+json": {
       "model_id": "19cbe3d55e35426c8410dc4f54ed9cf8",
       "version_major": 2,
       "version_minor": 0
      },
      "text/plain": [
       "  0%|          | 0/55 [00:00<?, ?it/s]"
      ]
     },
     "metadata": {},
     "output_type": "display_data"
    },
    {
     "name": "stdout",
     "output_type": "stream",
     "text": [
      "Loading model and set up feature extraction: model AlexNet_training_seed_01, layer .features.MaxPool2d12\n",
      "Target unit ids: [15]\n",
      "Loading readout layer and PCA transform: readout /n/holylabs/LABS/alvarez_lab/Everyone/Accentuate_VVS/Encoding_model_outputs/red_20250428-20250430/red_20250428-20250430_AlexNet_training_seed_01_Ch15_readout_.features.MaxPool2d12_pca750_RidgeCV.pth, xtransform             /n/holylabs/LABS/alvarez_lab/Everyone/Accentuate_VVS/Encoding_model_outputs/red_20250428-20250430/red_20250428-20250430_AlexNet_training_seed_01_Ch15_Xtfmer_.features.MaxPool2d12_pca750_RidgeCV_JITscript.pt\n",
      "torch.Size([1, 64])\n",
      "Gradient check passed!\n",
      "The (227, 227) setting is overwritten by the size in custom transform\n"
     ]
    },
    {
     "name": "stderr",
     "output_type": "stream",
     "text": [
      "/n/home12/binxuwang/.conda/envs/torch2/lib/python3.10/site-packages/torch/serialization.py:1006: UserWarning: 'torch.load' received a zip file that looks like a TorchScript archive dispatching to 'torch.jit.load' (call 'torch.jit.load' directly to silence this warning)\n",
      "  warnings.warn(\"'torch.load' received a zip file that looks like a TorchScript archive\"\n"
     ]
    },
    {
     "data": {
      "application/vnd.jupyter.widget-view+json": {
       "model_id": "122126d185c54f4cb1efd1b0b6f878bc",
       "version_major": 2,
       "version_minor": 0
      },
      "text/plain": [
       "  0%|          | 0/55 [00:01<?, ?it/s]"
      ]
     },
     "metadata": {},
     "output_type": "display_data"
    },
    {
     "name": "stdout",
     "output_type": "stream",
     "text": [
      "Loading model and set up feature extraction: model AlexNet_training_seed_01, layer .features.MaxPool2d12\n",
      "Target unit ids: [19]\n",
      "Loading readout layer and PCA transform: readout /n/holylabs/LABS/alvarez_lab/Everyone/Accentuate_VVS/Encoding_model_outputs/red_20250428-20250430/red_20250428-20250430_AlexNet_training_seed_01_Ch19_readout_.features.MaxPool2d12_pca750_RidgeCV.pth, xtransform             /n/holylabs/LABS/alvarez_lab/Everyone/Accentuate_VVS/Encoding_model_outputs/red_20250428-20250430/red_20250428-20250430_AlexNet_training_seed_01_Ch19_Xtfmer_.features.MaxPool2d12_pca750_RidgeCV_JITscript.pt\n",
      "torch.Size([1, 64])\n",
      "Gradient check passed!\n",
      "The (227, 227) setting is overwritten by the size in custom transform\n"
     ]
    },
    {
     "name": "stderr",
     "output_type": "stream",
     "text": [
      "/n/home12/binxuwang/.conda/envs/torch2/lib/python3.10/site-packages/torch/serialization.py:1006: UserWarning: 'torch.load' received a zip file that looks like a TorchScript archive dispatching to 'torch.jit.load' (call 'torch.jit.load' directly to silence this warning)\n",
      "  warnings.warn(\"'torch.load' received a zip file that looks like a TorchScript archive\"\n"
     ]
    },
    {
     "data": {
      "application/vnd.jupyter.widget-view+json": {
       "model_id": "28bd82c6e03f423e872452fb29182653",
       "version_major": 2,
       "version_minor": 0
      },
      "text/plain": [
       "  0%|          | 0/55 [00:00<?, ?it/s]"
      ]
     },
     "metadata": {},
     "output_type": "display_data"
    },
    {
     "name": "stdout",
     "output_type": "stream",
     "text": [
      "Loading model and set up feature extraction: model AlexNet_training_seed_01, layer .features.MaxPool2d5\n",
      "Target unit ids: [2]\n",
      "Loading readout layer and PCA transform: readout /n/holylabs/LABS/alvarez_lab/Everyone/Accentuate_VVS/Encoding_model_outputs/red_20250428-20250430/red_20250428-20250430_AlexNet_training_seed_01_Ch02_readout_.features.MaxPool2d5_pca750_RidgeCV.pth, xtransform             /n/holylabs/LABS/alvarez_lab/Everyone/Accentuate_VVS/Encoding_model_outputs/red_20250428-20250430/red_20250428-20250430_AlexNet_training_seed_01_Ch02_Xtfmer_.features.MaxPool2d5_pca750_RidgeCV_JITscript.pt\n"
     ]
    },
    {
     "name": "stderr",
     "output_type": "stream",
     "text": [
      "/n/home12/binxuwang/.conda/envs/torch2/lib/python3.10/site-packages/torch/serialization.py:1006: UserWarning: 'torch.load' received a zip file that looks like a TorchScript archive dispatching to 'torch.jit.load' (call 'torch.jit.load' directly to silence this warning)\n",
      "  warnings.warn(\"'torch.load' received a zip file that looks like a TorchScript archive\"\n"
     ]
    },
    {
     "name": "stdout",
     "output_type": "stream",
     "text": [
      "torch.Size([1, 64])\n",
      "Gradient check passed!\n",
      "The (227, 227) setting is overwritten by the size in custom transform\n"
     ]
    },
    {
     "data": {
      "application/vnd.jupyter.widget-view+json": {
       "model_id": "901c95f8901d4ea185236965e41665ff",
       "version_major": 2,
       "version_minor": 0
      },
      "text/plain": [
       "  0%|          | 0/55 [00:00<?, ?it/s]"
      ]
     },
     "metadata": {},
     "output_type": "display_data"
    },
    {
     "name": "stderr",
     "output_type": "stream",
     "text": [
      "Exception ignored in: <function _MultiProcessingDataLoaderIter.__del__ at 0x14dcf8f6bac0>\n",
      "Traceback (most recent call last):\n",
      "  File \"/n/home12/binxuwang/.conda/envs/torch2/lib/python3.10/site-packages/torch/utils/data/dataloader.py\", line 1479, in __del__\n",
      "    self._shutdown_workers()\n",
      "  File \"/n/home12/binxuwang/.conda/envs/torch2/lib/python3.10/site-packages/torch/utils/data/dataloader.py\", line 1462, in _shutdown_workers\n",
      "    if w.is_alive():\n",
      "  File \"/n/home12/binxuwang/.conda/envs/torch2/lib/python3.10/multiprocessing/process.py\", line 160, in is_alive\n",
      "    assert self._parent_pid == os.getpid(), 'can only test a child process'\n",
      "AssertionError: can only test a child process\n",
      "Exception ignored in: <function _MultiProcessingDataLoaderIter.__del__ at 0x14dcf8f6bac0>\n",
      "Traceback (most recent call last):\n",
      "  File \"/n/home12/binxuwang/.conda/envs/torch2/lib/python3.10/site-packages/torch/utils/data/dataloader.py\", line 1479, in __del__\n",
      "    self._shutdown_workers()\n",
      "  File \"/n/home12/binxuwang/.conda/envs/torch2/lib/python3.10/site-packages/torch/utils/data/dataloader.py\", line 1462, in _shutdown_workers\n",
      "    if w.is_alive():\n",
      "  File \"/n/home12/binxuwang/.conda/envs/torch2/lib/python3.10/multiprocessing/process.py\", line 160, in is_alive\n",
      "    assert self._parent_pid == os.getpid(), 'can only test a child process'\n",
      "AssertionError: can only test a child process\n",
      "Exception ignored in: <function _MultiProcessingDataLoaderIter.__del__ at 0x14dcf8f6bac0>\n",
      "Traceback (most recent call last):\n",
      "  File \"/n/home12/binxuwang/.conda/envs/torch2/lib/python3.10/site-packages/torch/utils/data/dataloader.py\", line 1479, in __del__\n",
      "    self._shutdown_workers()\n",
      "  File \"/n/home12/binxuwang/.conda/envs/torch2/lib/python3.10/site-packages/torch/utils/data/dataloader.py\", line 1462, in _shutdown_workers\n",
      "    if w.is_alive():\n",
      "  File \"/n/home12/binxuwang/.conda/envs/torch2/lib/python3.10/multiprocessing/process.py\", line 160, in is_alive\n",
      "    assert self._parent_pid == os.getpid(), 'can only test a child process'\n",
      "AssertionError: can only test a child process\n",
      "Exception ignored in: <function _MultiProcessingDataLoaderIter.__del__ at 0x14dcf8f6bac0>\n",
      "Traceback (most recent call last):\n",
      "  File \"/n/home12/binxuwang/.conda/envs/torch2/lib/python3.10/site-packages/torch/utils/data/dataloader.py\", line 1479, in __del__\n",
      "    self._shutdown_workers()\n",
      "  File \"/n/home12/binxuwang/.conda/envs/torch2/lib/python3.10/site-packages/torch/utils/data/dataloader.py\", line 1462, in _shutdown_workers\n",
      "    if w.is_alive():\n",
      "  File \"/n/home12/binxuwang/.conda/envs/torch2/lib/python3.10/multiprocessing/process.py\", line 160, in is_alive\n",
      "    assert self._parent_pid == os.getpid(), 'can only test a child process'\n",
      "AssertionError: can only test a child process\n",
      "Exception ignored in: <function _MultiProcessingDataLoaderIter.__del__ at 0x14dcf8f6bac0>\n",
      "Traceback (most recent call last):\n",
      "  File \"/n/home12/binxuwang/.conda/envs/torch2/lib/python3.10/site-packages/torch/utils/data/dataloader.py\", line 1479, in __del__\n",
      "    self._shutdown_workers()\n",
      "  File \"/n/home12/binxuwang/.conda/envs/torch2/lib/python3.10/site-packages/torch/utils/data/dataloader.py\", line 1462, in _shutdown_workers\n",
      "    if w.is_alive():\n",
      "  File \"/n/home12/binxuwang/.conda/envs/torch2/lib/python3.10/multiprocessing/process.py\", line 160, in is_alive\n",
      "    assert self._parent_pid == os.getpid(), 'can only test a child process'\n",
      "AssertionError: can only test a child process\n",
      "Exception ignored in: <function _MultiProcessingDataLoaderIter.__del__ at 0x14dcf8f6bac0>\n",
      "Traceback (most recent call last):\n",
      "  File \"/n/home12/binxuwang/.conda/envs/torch2/lib/python3.10/site-packages/torch/utils/data/dataloader.py\", line 1479, in __del__\n",
      "    self._shutdown_workers()\n",
      "  File \"/n/home12/binxuwang/.conda/envs/torch2/lib/python3.10/site-packages/torch/utils/data/dataloader.py\", line 1462, in _shutdown_workers\n",
      "    if w.is_alive():\n",
      "  File \"/n/home12/binxuwang/.conda/envs/torch2/lib/python3.10/multiprocessing/process.py\", line 160, in is_alive\n",
      "    assert self._parent_pid == os.getpid(), 'can only test a child process'\n",
      "AssertionError: can only test a child process\n",
      "Exception ignored in: Exception ignored in: <function _MultiProcessingDataLoaderIter.__del__ at 0x14dcf8f6bac0>\n",
      "<function _MultiProcessingDataLoaderIter.__del__ at 0x14dcf8f6bac0>Traceback (most recent call last):\n",
      "  File \"/n/home12/binxuwang/.conda/envs/torch2/lib/python3.10/site-packages/torch/utils/data/dataloader.py\", line 1479, in __del__\n",
      "\n",
      "Traceback (most recent call last):\n",
      "      File \"/n/home12/binxuwang/.conda/envs/torch2/lib/python3.10/site-packages/torch/utils/data/dataloader.py\", line 1479, in __del__\n",
      "self._shutdown_workers()    self._shutdown_workers()\n",
      "  File \"/n/home12/binxuwang/.conda/envs/torch2/lib/python3.10/site-packages/torch/utils/data/dataloader.py\", line 1462, in _shutdown_workers\n",
      "\n",
      "Exception ignored in:   File \"/n/home12/binxuwang/.conda/envs/torch2/lib/python3.10/site-packages/torch/utils/data/dataloader.py\", line 1462, in _shutdown_workers\n",
      "        if w.is_alive():<function _MultiProcessingDataLoaderIter.__del__ at 0x14dcf8f6bac0>if w.is_alive():\n",
      "\n",
      "\n",
      "  File \"/n/home12/binxuwang/.conda/envs/torch2/lib/python3.10/multiprocessing/process.py\", line 160, in is_alive\n",
      "Traceback (most recent call last):\n",
      "  File \"/n/home12/binxuwang/.conda/envs/torch2/lib/python3.10/multiprocessing/process.py\", line 160, in is_alive\n",
      "  File \"/n/home12/binxuwang/.conda/envs/torch2/lib/python3.10/site-packages/torch/utils/data/dataloader.py\", line 1479, in __del__\n",
      "        assert self._parent_pid == os.getpid(), 'can only test a child process'    assert self._parent_pid == os.getpid(), 'can only test a child process'\n",
      "self._shutdown_workers()AssertionError\n",
      "\n",
      "  File \"/n/home12/binxuwang/.conda/envs/torch2/lib/python3.10/site-packages/torch/utils/data/dataloader.py\", line 1462, in _shutdown_workers\n",
      ": AssertionError    can only test a child process: if w.is_alive():\n",
      "can only test a child process\n",
      "\n",
      "  File \"/n/home12/binxuwang/.conda/envs/torch2/lib/python3.10/multiprocessing/process.py\", line 160, in is_alive\n",
      "Exception ignored in:     <function _MultiProcessingDataLoaderIter.__del__ at 0x14dcf8f6bac0>assert self._parent_pid == os.getpid(), 'can only test a child process'\n",
      "AssertionError: \n",
      "can only test a child processTraceback (most recent call last):\n",
      "\n",
      "  File \"/n/home12/binxuwang/.conda/envs/torch2/lib/python3.10/site-packages/torch/utils/data/dataloader.py\", line 1479, in __del__\n",
      "    self._shutdown_workers()Exception ignored in: <function _MultiProcessingDataLoaderIter.__del__ at 0x14dcf8f6bac0>\n",
      "  File \"/n/home12/binxuwang/.conda/envs/torch2/lib/python3.10/site-packages/torch/utils/data/dataloader.py\", line 1462, in _shutdown_workers\n",
      "\n",
      "    Traceback (most recent call last):\n",
      "  File \"/n/home12/binxuwang/.conda/envs/torch2/lib/python3.10/site-packages/torch/utils/data/dataloader.py\", line 1479, in __del__\n",
      "if w.is_alive():    \n",
      "self._shutdown_workers()\n",
      "  File \"/n/home12/binxuwang/.conda/envs/torch2/lib/python3.10/multiprocessing/process.py\", line 160, in is_alive\n",
      "  File \"/n/home12/binxuwang/.conda/envs/torch2/lib/python3.10/site-packages/torch/utils/data/dataloader.py\", line 1462, in _shutdown_workers\n",
      "        if w.is_alive():assert self._parent_pid == os.getpid(), 'can only test a child process'\n",
      "\n",
      "  File \"/n/home12/binxuwang/.conda/envs/torch2/lib/python3.10/multiprocessing/process.py\", line 160, in is_alive\n",
      "AssertionError    assert self._parent_pid == os.getpid(), 'can only test a child process': \n",
      "can only test a child process\n",
      "AssertionError: can only test a child process\n"
     ]
    },
    {
     "name": "stdout",
     "output_type": "stream",
     "text": [
      "Loading model and set up feature extraction: model AlexNet_training_seed_01, layer .features.ReLU11\n",
      "Target unit ids: [9]\n",
      "Loading readout layer and PCA transform: readout /n/holylabs/LABS/alvarez_lab/Everyone/Accentuate_VVS/Encoding_model_outputs/red_20250428-20250430/red_20250428-20250430_AlexNet_training_seed_01_Ch09_readout_.features.ReLU11_pca750_RidgeCV.pth, xtransform             /n/holylabs/LABS/alvarez_lab/Everyone/Accentuate_VVS/Encoding_model_outputs/red_20250428-20250430/red_20250428-20250430_AlexNet_training_seed_01_Ch09_Xtfmer_.features.ReLU11_pca750_RidgeCV_JITscript.pt\n"
     ]
    },
    {
     "name": "stderr",
     "output_type": "stream",
     "text": [
      "/n/home12/binxuwang/.conda/envs/torch2/lib/python3.10/site-packages/torch/serialization.py:1006: UserWarning: 'torch.load' received a zip file that looks like a TorchScript archive dispatching to 'torch.jit.load' (call 'torch.jit.load' directly to silence this warning)\n",
      "  warnings.warn(\"'torch.load' received a zip file that looks like a TorchScript archive\"\n"
     ]
    },
    {
     "name": "stdout",
     "output_type": "stream",
     "text": [
      "torch.Size([1, 64])\n",
      "Gradient check passed!\n",
      "The (227, 227) setting is overwritten by the size in custom transform\n"
     ]
    },
    {
     "data": {
      "application/vnd.jupyter.widget-view+json": {
       "model_id": "470d0ad2ba4c400ebba8532d6ae23e77",
       "version_major": 2,
       "version_minor": 0
      },
      "text/plain": [
       "  0%|          | 0/55 [00:00<?, ?it/s]"
      ]
     },
     "metadata": {},
     "output_type": "display_data"
    },
    {
     "name": "stdout",
     "output_type": "stream",
     "text": [
      "Loading model and set up feature extraction: model clipag_vitb32, layer .transformer.resblocks.ResidualAttentionBlock8\n",
      "Target unit ids: [0]\n",
      "Loading readout layer and PCA transform: readout /n/holylabs/LABS/alvarez_lab/Everyone/Accentuate_VVS/Encoding_model_outputs/red_20250428-20250430/red_20250428-20250430_clipag_vitb32_Ch00_readout_.transformer.resblocks.ResidualAttentionBlock8_pca750_RidgeCV.pth, xtransform             /n/holylabs/LABS/alvarez_lab/Everyone/Accentuate_VVS/Encoding_model_outputs/red_20250428-20250430/red_20250428-20250430_clipag_vitb32_Ch00_Xtfmer_.transformer.resblocks.ResidualAttentionBlock8_pca750_RidgeCV_JITscript.pt\n"
     ]
    },
    {
     "name": "stderr",
     "output_type": "stream",
     "text": [
      "/n/home12/binxuwang/.conda/envs/torch2/lib/python3.10/site-packages/torch/serialization.py:1006: UserWarning: 'torch.load' received a zip file that looks like a TorchScript archive dispatching to 'torch.jit.load' (call 'torch.jit.load' directly to silence this warning)\n",
      "  warnings.warn(\"'torch.load' received a zip file that looks like a TorchScript archive\"\n"
     ]
    },
    {
     "name": "stdout",
     "output_type": "stream",
     "text": [
      "torch.Size([1, 64])\n",
      "Gradient check passed!\n",
      "The (227, 227) setting is overwritten by the size in custom transform\n"
     ]
    },
    {
     "data": {
      "application/vnd.jupyter.widget-view+json": {
       "model_id": "df8ade804d4e4d0c8e291ca1fb612d08",
       "version_major": 2,
       "version_minor": 0
      },
      "text/plain": [
       "  0%|          | 0/55 [00:00<?, ?it/s]"
      ]
     },
     "metadata": {},
     "output_type": "display_data"
    },
    {
     "name": "stdout",
     "output_type": "stream",
     "text": [
      "Loading model and set up feature extraction: model clipag_vitb32, layer .transformer.resblocks.ResidualAttentionBlock6\n",
      "Target unit ids: [15]\n",
      "Loading readout layer and PCA transform: readout /n/holylabs/LABS/alvarez_lab/Everyone/Accentuate_VVS/Encoding_model_outputs/red_20250428-20250430/red_20250428-20250430_clipag_vitb32_Ch15_readout_.transformer.resblocks.ResidualAttentionBlock6_pca750_RidgeCV.pth, xtransform             /n/holylabs/LABS/alvarez_lab/Everyone/Accentuate_VVS/Encoding_model_outputs/red_20250428-20250430/red_20250428-20250430_clipag_vitb32_Ch15_Xtfmer_.transformer.resblocks.ResidualAttentionBlock6_pca750_RidgeCV_JITscript.pt\n"
     ]
    },
    {
     "name": "stderr",
     "output_type": "stream",
     "text": [
      "/n/home12/binxuwang/.conda/envs/torch2/lib/python3.10/site-packages/torch/serialization.py:1006: UserWarning: 'torch.load' received a zip file that looks like a TorchScript archive dispatching to 'torch.jit.load' (call 'torch.jit.load' directly to silence this warning)\n",
      "  warnings.warn(\"'torch.load' received a zip file that looks like a TorchScript archive\"\n"
     ]
    },
    {
     "name": "stdout",
     "output_type": "stream",
     "text": [
      "torch.Size([1, 64])\n",
      "Gradient check passed!\n",
      "The (227, 227) setting is overwritten by the size in custom transform\n"
     ]
    },
    {
     "data": {
      "application/vnd.jupyter.widget-view+json": {
       "model_id": "30fa16b6683249729e11cd5d9d2bc86f",
       "version_major": 2,
       "version_minor": 0
      },
      "text/plain": [
       "  0%|          | 0/55 [00:00<?, ?it/s]"
      ]
     },
     "metadata": {},
     "output_type": "display_data"
    },
    {
     "name": "stdout",
     "output_type": "stream",
     "text": [
      "Loading model and set up feature extraction: model clipag_vitb32, layer .transformer.resblocks.ResidualAttentionBlock9\n",
      "Target unit ids: [19]\n",
      "Loading readout layer and PCA transform: readout /n/holylabs/LABS/alvarez_lab/Everyone/Accentuate_VVS/Encoding_model_outputs/red_20250428-20250430/red_20250428-20250430_clipag_vitb32_Ch19_readout_.transformer.resblocks.ResidualAttentionBlock9_pca750_RidgeCV.pth, xtransform             /n/holylabs/LABS/alvarez_lab/Everyone/Accentuate_VVS/Encoding_model_outputs/red_20250428-20250430/red_20250428-20250430_clipag_vitb32_Ch19_Xtfmer_.transformer.resblocks.ResidualAttentionBlock9_pca750_RidgeCV_JITscript.pt\n",
      "torch.Size([1, 64])\n",
      "Gradient check passed!\n",
      "The (227, 227) setting is overwritten by the size in custom transform\n"
     ]
    },
    {
     "name": "stderr",
     "output_type": "stream",
     "text": [
      "/n/home12/binxuwang/.conda/envs/torch2/lib/python3.10/site-packages/torch/serialization.py:1006: UserWarning: 'torch.load' received a zip file that looks like a TorchScript archive dispatching to 'torch.jit.load' (call 'torch.jit.load' directly to silence this warning)\n",
      "  warnings.warn(\"'torch.load' received a zip file that looks like a TorchScript archive\"\n"
     ]
    },
    {
     "data": {
      "application/vnd.jupyter.widget-view+json": {
       "model_id": "516694ef34644d10a4aa504af71cfce2",
       "version_major": 2,
       "version_minor": 0
      },
      "text/plain": [
       "  0%|          | 0/55 [00:00<?, ?it/s]"
      ]
     },
     "metadata": {},
     "output_type": "display_data"
    },
    {
     "name": "stdout",
     "output_type": "stream",
     "text": [
      "Loading model and set up feature extraction: model clipag_vitb32, layer .transformer.resblocks.ResidualAttentionBlock8\n",
      "Target unit ids: [2]\n",
      "Loading readout layer and PCA transform: readout /n/holylabs/LABS/alvarez_lab/Everyone/Accentuate_VVS/Encoding_model_outputs/red_20250428-20250430/red_20250428-20250430_clipag_vitb32_Ch02_readout_.transformer.resblocks.ResidualAttentionBlock8_pca750_RidgeCV.pth, xtransform             /n/holylabs/LABS/alvarez_lab/Everyone/Accentuate_VVS/Encoding_model_outputs/red_20250428-20250430/red_20250428-20250430_clipag_vitb32_Ch02_Xtfmer_.transformer.resblocks.ResidualAttentionBlock8_pca750_RidgeCV_JITscript.pt\n"
     ]
    },
    {
     "name": "stderr",
     "output_type": "stream",
     "text": [
      "/n/home12/binxuwang/.conda/envs/torch2/lib/python3.10/site-packages/torch/serialization.py:1006: UserWarning: 'torch.load' received a zip file that looks like a TorchScript archive dispatching to 'torch.jit.load' (call 'torch.jit.load' directly to silence this warning)\n",
      "  warnings.warn(\"'torch.load' received a zip file that looks like a TorchScript archive\"\n"
     ]
    },
    {
     "name": "stdout",
     "output_type": "stream",
     "text": [
      "torch.Size([1, 64])\n",
      "Gradient check passed!\n",
      "The (227, 227) setting is overwritten by the size in custom transform\n"
     ]
    },
    {
     "data": {
      "application/vnd.jupyter.widget-view+json": {
       "model_id": "9368ad5f313b4fe0b50fea60258a6721",
       "version_major": 2,
       "version_minor": 0
      },
      "text/plain": [
       "  0%|          | 0/55 [00:00<?, ?it/s]"
      ]
     },
     "metadata": {},
     "output_type": "display_data"
    },
    {
     "name": "stdout",
     "output_type": "stream",
     "text": [
      "Loading model and set up feature extraction: model clipag_vitb32, layer .transformer.resblocks.ResidualAttentionBlock8\n",
      "Target unit ids: [9]\n",
      "Loading readout layer and PCA transform: readout /n/holylabs/LABS/alvarez_lab/Everyone/Accentuate_VVS/Encoding_model_outputs/red_20250428-20250430/red_20250428-20250430_clipag_vitb32_Ch09_readout_.transformer.resblocks.ResidualAttentionBlock8_pca750_RidgeCV.pth, xtransform             /n/holylabs/LABS/alvarez_lab/Everyone/Accentuate_VVS/Encoding_model_outputs/red_20250428-20250430/red_20250428-20250430_clipag_vitb32_Ch09_Xtfmer_.transformer.resblocks.ResidualAttentionBlock8_pca750_RidgeCV_JITscript.pt\n"
     ]
    },
    {
     "name": "stderr",
     "output_type": "stream",
     "text": [
      "/n/home12/binxuwang/.conda/envs/torch2/lib/python3.10/site-packages/torch/serialization.py:1006: UserWarning: 'torch.load' received a zip file that looks like a TorchScript archive dispatching to 'torch.jit.load' (call 'torch.jit.load' directly to silence this warning)\n",
      "  warnings.warn(\"'torch.load' received a zip file that looks like a TorchScript archive\"\n"
     ]
    },
    {
     "name": "stdout",
     "output_type": "stream",
     "text": [
      "torch.Size([1, 64])\n",
      "Gradient check passed!\n",
      "The (227, 227) setting is overwritten by the size in custom transform\n"
     ]
    },
    {
     "data": {
      "application/vnd.jupyter.widget-view+json": {
       "model_id": "8682017de2df4eebb2feba26f530533f",
       "version_major": 2,
       "version_minor": 0
      },
      "text/plain": [
       "  0%|          | 0/55 [00:01<?, ?it/s]"
      ]
     },
     "metadata": {},
     "output_type": "display_data"
    },
    {
     "name": "stdout",
     "output_type": "stream",
     "text": [
      "Loading model and set up feature extraction: model dinov2_vitb14_reg, layer .blocks.NestedTensorBlock8\n",
      "Target unit ids: [0]\n",
      "Loading readout layer and PCA transform: readout /n/holylabs/LABS/alvarez_lab/Everyone/Accentuate_VVS/Encoding_model_outputs/red_20250428-20250430/red_20250428-20250430_dinov2_vitb14_reg_Ch00_readout_.blocks.NestedTensorBlock8_pca750_RidgeCV.pth, xtransform             /n/holylabs/LABS/alvarez_lab/Everyone/Accentuate_VVS/Encoding_model_outputs/red_20250428-20250430/red_20250428-20250430_dinov2_vitb14_reg_Ch00_Xtfmer_.blocks.NestedTensorBlock8_pca750_RidgeCV_JITscript.pt\n"
     ]
    },
    {
     "name": "stderr",
     "output_type": "stream",
     "text": [
      "Using cache found in /n/holylfs06/LABS/kempner_fellow_binxuwang/Users/binxuwang/torch_cache/hub/facebookresearch_dinov2_main\n",
      "/n/home12/binxuwang/.conda/envs/torch2/lib/python3.10/site-packages/torch/serialization.py:1006: UserWarning: 'torch.load' received a zip file that looks like a TorchScript archive dispatching to 'torch.jit.load' (call 'torch.jit.load' directly to silence this warning)\n",
      "  warnings.warn(\"'torch.load' received a zip file that looks like a TorchScript archive\"\n"
     ]
    },
    {
     "name": "stdout",
     "output_type": "stream",
     "text": [
      "torch.Size([1, 64])\n",
      "Gradient check passed!\n",
      "The (227, 227) setting is overwritten by the size in custom transform\n"
     ]
    },
    {
     "data": {
      "application/vnd.jupyter.widget-view+json": {
       "model_id": "e095a3beeb584c718f2503518b00026d",
       "version_major": 2,
       "version_minor": 0
      },
      "text/plain": [
       "  0%|          | 0/55 [00:00<?, ?it/s]"
      ]
     },
     "metadata": {},
     "output_type": "display_data"
    },
    {
     "name": "stdout",
     "output_type": "stream",
     "text": [
      "Loading model and set up feature extraction: model dinov2_vitb14_reg, layer .blocks.NestedTensorBlock8\n",
      "Target unit ids: [15]\n",
      "Loading readout layer and PCA transform: readout /n/holylabs/LABS/alvarez_lab/Everyone/Accentuate_VVS/Encoding_model_outputs/red_20250428-20250430/red_20250428-20250430_dinov2_vitb14_reg_Ch15_readout_.blocks.NestedTensorBlock8_pca750_RidgeCV.pth, xtransform             /n/holylabs/LABS/alvarez_lab/Everyone/Accentuate_VVS/Encoding_model_outputs/red_20250428-20250430/red_20250428-20250430_dinov2_vitb14_reg_Ch15_Xtfmer_.blocks.NestedTensorBlock8_pca750_RidgeCV_JITscript.pt\n"
     ]
    },
    {
     "name": "stderr",
     "output_type": "stream",
     "text": [
      "Using cache found in /n/holylfs06/LABS/kempner_fellow_binxuwang/Users/binxuwang/torch_cache/hub/facebookresearch_dinov2_main\n",
      "/n/home12/binxuwang/.conda/envs/torch2/lib/python3.10/site-packages/torch/serialization.py:1006: UserWarning: 'torch.load' received a zip file that looks like a TorchScript archive dispatching to 'torch.jit.load' (call 'torch.jit.load' directly to silence this warning)\n",
      "  warnings.warn(\"'torch.load' received a zip file that looks like a TorchScript archive\"\n"
     ]
    },
    {
     "name": "stdout",
     "output_type": "stream",
     "text": [
      "torch.Size([1, 64])\n",
      "Gradient check passed!\n",
      "The (227, 227) setting is overwritten by the size in custom transform\n"
     ]
    },
    {
     "data": {
      "application/vnd.jupyter.widget-view+json": {
       "model_id": "d45dc63812ad483584da91b4ce874550",
       "version_major": 2,
       "version_minor": 0
      },
      "text/plain": [
       "  0%|          | 0/55 [00:00<?, ?it/s]"
      ]
     },
     "metadata": {},
     "output_type": "display_data"
    },
    {
     "name": "stdout",
     "output_type": "stream",
     "text": [
      "Loading model and set up feature extraction: model dinov2_vitb14_reg, layer .blocks.NestedTensorBlock11\n",
      "Target unit ids: [19]\n",
      "Loading readout layer and PCA transform: readout /n/holylabs/LABS/alvarez_lab/Everyone/Accentuate_VVS/Encoding_model_outputs/red_20250428-20250430/red_20250428-20250430_dinov2_vitb14_reg_Ch19_readout_.blocks.NestedTensorBlock11_pca750_RidgeCV.pth, xtransform             /n/holylabs/LABS/alvarez_lab/Everyone/Accentuate_VVS/Encoding_model_outputs/red_20250428-20250430/red_20250428-20250430_dinov2_vitb14_reg_Ch19_Xtfmer_.blocks.NestedTensorBlock11_pca750_RidgeCV_JITscript.pt\n"
     ]
    },
    {
     "name": "stderr",
     "output_type": "stream",
     "text": [
      "Using cache found in /n/holylfs06/LABS/kempner_fellow_binxuwang/Users/binxuwang/torch_cache/hub/facebookresearch_dinov2_main\n",
      "/n/home12/binxuwang/.conda/envs/torch2/lib/python3.10/site-packages/torch/serialization.py:1006: UserWarning: 'torch.load' received a zip file that looks like a TorchScript archive dispatching to 'torch.jit.load' (call 'torch.jit.load' directly to silence this warning)\n",
      "  warnings.warn(\"'torch.load' received a zip file that looks like a TorchScript archive\"\n"
     ]
    },
    {
     "name": "stdout",
     "output_type": "stream",
     "text": [
      "torch.Size([1, 64])\n",
      "Gradient check passed!\n",
      "The (227, 227) setting is overwritten by the size in custom transform\n"
     ]
    },
    {
     "data": {
      "application/vnd.jupyter.widget-view+json": {
       "model_id": "50f6f914e78f4b748c7c49ebdebd1de4",
       "version_major": 2,
       "version_minor": 0
      },
      "text/plain": [
       "  0%|          | 0/55 [00:00<?, ?it/s]"
      ]
     },
     "metadata": {},
     "output_type": "display_data"
    },
    {
     "name": "stdout",
     "output_type": "stream",
     "text": [
      "Loading model and set up feature extraction: model dinov2_vitb14_reg, layer .blocks.NestedTensorBlock10\n",
      "Target unit ids: [2]\n",
      "Loading readout layer and PCA transform: readout /n/holylabs/LABS/alvarez_lab/Everyone/Accentuate_VVS/Encoding_model_outputs/red_20250428-20250430/red_20250428-20250430_dinov2_vitb14_reg_Ch02_readout_.blocks.NestedTensorBlock10_pca750_RidgeCV.pth, xtransform             /n/holylabs/LABS/alvarez_lab/Everyone/Accentuate_VVS/Encoding_model_outputs/red_20250428-20250430/red_20250428-20250430_dinov2_vitb14_reg_Ch02_Xtfmer_.blocks.NestedTensorBlock10_pca750_RidgeCV_JITscript.pt\n"
     ]
    },
    {
     "name": "stderr",
     "output_type": "stream",
     "text": [
      "Using cache found in /n/holylfs06/LABS/kempner_fellow_binxuwang/Users/binxuwang/torch_cache/hub/facebookresearch_dinov2_main\n",
      "/n/home12/binxuwang/.conda/envs/torch2/lib/python3.10/site-packages/torch/serialization.py:1006: UserWarning: 'torch.load' received a zip file that looks like a TorchScript archive dispatching to 'torch.jit.load' (call 'torch.jit.load' directly to silence this warning)\n",
      "  warnings.warn(\"'torch.load' received a zip file that looks like a TorchScript archive\"\n"
     ]
    },
    {
     "name": "stdout",
     "output_type": "stream",
     "text": [
      "torch.Size([1, 64])\n",
      "Gradient check passed!\n",
      "The (227, 227) setting is overwritten by the size in custom transform\n"
     ]
    },
    {
     "data": {
      "application/vnd.jupyter.widget-view+json": {
       "model_id": "3e33f10a162b4effad52bef5f7c0a7d9",
       "version_major": 2,
       "version_minor": 0
      },
      "text/plain": [
       "  0%|          | 0/55 [00:00<?, ?it/s]"
      ]
     },
     "metadata": {},
     "output_type": "display_data"
    },
    {
     "name": "stdout",
     "output_type": "stream",
     "text": [
      "Loading model and set up feature extraction: model dinov2_vitb14_reg, layer .blocks.NestedTensorBlock11\n",
      "Target unit ids: [9]\n",
      "Loading readout layer and PCA transform: readout /n/holylabs/LABS/alvarez_lab/Everyone/Accentuate_VVS/Encoding_model_outputs/red_20250428-20250430/red_20250428-20250430_dinov2_vitb14_reg_Ch09_readout_.blocks.NestedTensorBlock11_pca750_RidgeCV.pth, xtransform             /n/holylabs/LABS/alvarez_lab/Everyone/Accentuate_VVS/Encoding_model_outputs/red_20250428-20250430/red_20250428-20250430_dinov2_vitb14_reg_Ch09_Xtfmer_.blocks.NestedTensorBlock11_pca750_RidgeCV_JITscript.pt\n"
     ]
    },
    {
     "name": "stderr",
     "output_type": "stream",
     "text": [
      "Using cache found in /n/holylfs06/LABS/kempner_fellow_binxuwang/Users/binxuwang/torch_cache/hub/facebookresearch_dinov2_main\n",
      "/n/home12/binxuwang/.conda/envs/torch2/lib/python3.10/site-packages/torch/serialization.py:1006: UserWarning: 'torch.load' received a zip file that looks like a TorchScript archive dispatching to 'torch.jit.load' (call 'torch.jit.load' directly to silence this warning)\n",
      "  warnings.warn(\"'torch.load' received a zip file that looks like a TorchScript archive\"\n"
     ]
    },
    {
     "name": "stdout",
     "output_type": "stream",
     "text": [
      "torch.Size([1, 64])\n",
      "Gradient check passed!\n",
      "The (227, 227) setting is overwritten by the size in custom transform\n"
     ]
    },
    {
     "data": {
      "application/vnd.jupyter.widget-view+json": {
       "model_id": "0eb1a559aca541579ed66f8ed184667c",
       "version_major": 2,
       "version_minor": 0
      },
      "text/plain": [
       "  0%|          | 0/55 [00:00<?, ?it/s]"
      ]
     },
     "metadata": {},
     "output_type": "display_data"
    },
    {
     "name": "stdout",
     "output_type": "stream",
     "text": [
      "Loading model and set up feature extraction: model radio_v2.5-b, layer .model.blocks.Block10\n",
      "Target unit ids: [0]\n",
      "Loading readout layer and PCA transform: readout /n/holylabs/LABS/alvarez_lab/Everyone/Accentuate_VVS/Encoding_model_outputs/red_20250428-20250430/red_20250428-20250430_radio_v2.5-b_Ch00_readout_.model.blocks.Block10_pca750_RidgeCV.pth, xtransform             /n/holylabs/LABS/alvarez_lab/Everyone/Accentuate_VVS/Encoding_model_outputs/red_20250428-20250430/red_20250428-20250430_radio_v2.5-b_Ch00_Xtfmer_.model.blocks.Block10_pca750_RidgeCV_JITscript.pt\n"
     ]
    },
    {
     "name": "stderr",
     "output_type": "stream",
     "text": [
      "Using cache found in /n/holylfs06/LABS/kempner_fellow_binxuwang/Users/binxuwang/torch_cache/hub/NVlabs_RADIO_main\n",
      "/n/home12/binxuwang/.conda/envs/torch2/lib/python3.10/site-packages/torch/serialization.py:1006: UserWarning: 'torch.load' received a zip file that looks like a TorchScript archive dispatching to 'torch.jit.load' (call 'torch.jit.load' directly to silence this warning)\n",
      "  warnings.warn(\"'torch.load' received a zip file that looks like a TorchScript archive\"\n"
     ]
    },
    {
     "name": "stdout",
     "output_type": "stream",
     "text": [
      "torch.Size([1, 64])\n",
      "Gradient check passed!\n",
      "The (227, 227) setting is overwritten by the size in custom transform\n"
     ]
    },
    {
     "data": {
      "application/vnd.jupyter.widget-view+json": {
       "model_id": "e97c0a85a66d4b48bb4fcb53cbdfb573",
       "version_major": 2,
       "version_minor": 0
      },
      "text/plain": [
       "  0%|          | 0/55 [00:00<?, ?it/s]"
      ]
     },
     "metadata": {},
     "output_type": "display_data"
    },
    {
     "name": "stdout",
     "output_type": "stream",
     "text": [
      "Loading model and set up feature extraction: model radio_v2.5-b, layer .model.blocks.Block10\n",
      "Target unit ids: [15]\n",
      "Loading readout layer and PCA transform: readout /n/holylabs/LABS/alvarez_lab/Everyone/Accentuate_VVS/Encoding_model_outputs/red_20250428-20250430/red_20250428-20250430_radio_v2.5-b_Ch15_readout_.model.blocks.Block10_pca750_RidgeCV.pth, xtransform             /n/holylabs/LABS/alvarez_lab/Everyone/Accentuate_VVS/Encoding_model_outputs/red_20250428-20250430/red_20250428-20250430_radio_v2.5-b_Ch15_Xtfmer_.model.blocks.Block10_pca750_RidgeCV_JITscript.pt\n"
     ]
    },
    {
     "name": "stderr",
     "output_type": "stream",
     "text": [
      "Using cache found in /n/holylfs06/LABS/kempner_fellow_binxuwang/Users/binxuwang/torch_cache/hub/NVlabs_RADIO_main\n",
      "/n/home12/binxuwang/.conda/envs/torch2/lib/python3.10/site-packages/torch/serialization.py:1006: UserWarning: 'torch.load' received a zip file that looks like a TorchScript archive dispatching to 'torch.jit.load' (call 'torch.jit.load' directly to silence this warning)\n",
      "  warnings.warn(\"'torch.load' received a zip file that looks like a TorchScript archive\"\n"
     ]
    },
    {
     "name": "stdout",
     "output_type": "stream",
     "text": [
      "torch.Size([1, 64])\n",
      "Gradient check passed!\n",
      "The (227, 227) setting is overwritten by the size in custom transform\n"
     ]
    },
    {
     "data": {
      "application/vnd.jupyter.widget-view+json": {
       "model_id": "1241404c612d4d4c8dad376df67f519a",
       "version_major": 2,
       "version_minor": 0
      },
      "text/plain": [
       "  0%|          | 0/55 [00:00<?, ?it/s]"
      ]
     },
     "metadata": {},
     "output_type": "display_data"
    },
    {
     "name": "stdout",
     "output_type": "stream",
     "text": [
      "Loading model and set up feature extraction: model radio_v2.5-b, layer .model.blocks.Block10\n",
      "Target unit ids: [19]\n",
      "Loading readout layer and PCA transform: readout /n/holylabs/LABS/alvarez_lab/Everyone/Accentuate_VVS/Encoding_model_outputs/red_20250428-20250430/red_20250428-20250430_radio_v2.5-b_Ch19_readout_.model.blocks.Block10_pca750_RidgeCV.pth, xtransform             /n/holylabs/LABS/alvarez_lab/Everyone/Accentuate_VVS/Encoding_model_outputs/red_20250428-20250430/red_20250428-20250430_radio_v2.5-b_Ch19_Xtfmer_.model.blocks.Block10_pca750_RidgeCV_JITscript.pt\n"
     ]
    },
    {
     "name": "stderr",
     "output_type": "stream",
     "text": [
      "Using cache found in /n/holylfs06/LABS/kempner_fellow_binxuwang/Users/binxuwang/torch_cache/hub/NVlabs_RADIO_main\n",
      "/n/home12/binxuwang/.conda/envs/torch2/lib/python3.10/site-packages/torch/serialization.py:1006: UserWarning: 'torch.load' received a zip file that looks like a TorchScript archive dispatching to 'torch.jit.load' (call 'torch.jit.load' directly to silence this warning)\n",
      "  warnings.warn(\"'torch.load' received a zip file that looks like a TorchScript archive\"\n"
     ]
    },
    {
     "name": "stdout",
     "output_type": "stream",
     "text": [
      "torch.Size([1, 64])\n",
      "Gradient check passed!\n",
      "The (227, 227) setting is overwritten by the size in custom transform\n"
     ]
    },
    {
     "data": {
      "application/vnd.jupyter.widget-view+json": {
       "model_id": "b8b6a9ced8ec40b483db65a3513c1a37",
       "version_major": 2,
       "version_minor": 0
      },
      "text/plain": [
       "  0%|          | 0/55 [00:01<?, ?it/s]"
      ]
     },
     "metadata": {},
     "output_type": "display_data"
    },
    {
     "name": "stdout",
     "output_type": "stream",
     "text": [
      "Loading model and set up feature extraction: model radio_v2.5-b, layer .model.blocks.Block11\n",
      "Target unit ids: [2]\n",
      "Loading readout layer and PCA transform: readout /n/holylabs/LABS/alvarez_lab/Everyone/Accentuate_VVS/Encoding_model_outputs/red_20250428-20250430/red_20250428-20250430_radio_v2.5-b_Ch02_readout_.model.blocks.Block11_pca750_RidgeCV.pth, xtransform             /n/holylabs/LABS/alvarez_lab/Everyone/Accentuate_VVS/Encoding_model_outputs/red_20250428-20250430/red_20250428-20250430_radio_v2.5-b_Ch02_Xtfmer_.model.blocks.Block11_pca750_RidgeCV_JITscript.pt\n"
     ]
    },
    {
     "name": "stderr",
     "output_type": "stream",
     "text": [
      "Using cache found in /n/holylfs06/LABS/kempner_fellow_binxuwang/Users/binxuwang/torch_cache/hub/NVlabs_RADIO_main\n",
      "/n/home12/binxuwang/.conda/envs/torch2/lib/python3.10/site-packages/torch/serialization.py:1006: UserWarning: 'torch.load' received a zip file that looks like a TorchScript archive dispatching to 'torch.jit.load' (call 'torch.jit.load' directly to silence this warning)\n",
      "  warnings.warn(\"'torch.load' received a zip file that looks like a TorchScript archive\"\n"
     ]
    },
    {
     "name": "stdout",
     "output_type": "stream",
     "text": [
      "torch.Size([1, 64])\n",
      "Gradient check passed!\n",
      "The (227, 227) setting is overwritten by the size in custom transform\n"
     ]
    },
    {
     "data": {
      "application/vnd.jupyter.widget-view+json": {
       "model_id": "5c478d33c3b149058a25d4886669cccf",
       "version_major": 2,
       "version_minor": 0
      },
      "text/plain": [
       "  0%|          | 0/55 [00:00<?, ?it/s]"
      ]
     },
     "metadata": {},
     "output_type": "display_data"
    },
    {
     "name": "stdout",
     "output_type": "stream",
     "text": [
      "Loading model and set up feature extraction: model radio_v2.5-b, layer .model.blocks.Block10\n",
      "Target unit ids: [9]\n",
      "Loading readout layer and PCA transform: readout /n/holylabs/LABS/alvarez_lab/Everyone/Accentuate_VVS/Encoding_model_outputs/red_20250428-20250430/red_20250428-20250430_radio_v2.5-b_Ch09_readout_.model.blocks.Block10_pca750_RidgeCV.pth, xtransform             /n/holylabs/LABS/alvarez_lab/Everyone/Accentuate_VVS/Encoding_model_outputs/red_20250428-20250430/red_20250428-20250430_radio_v2.5-b_Ch09_Xtfmer_.model.blocks.Block10_pca750_RidgeCV_JITscript.pt\n"
     ]
    },
    {
     "name": "stderr",
     "output_type": "stream",
     "text": [
      "Using cache found in /n/holylfs06/LABS/kempner_fellow_binxuwang/Users/binxuwang/torch_cache/hub/NVlabs_RADIO_main\n",
      "/n/home12/binxuwang/.conda/envs/torch2/lib/python3.10/site-packages/torch/serialization.py:1006: UserWarning: 'torch.load' received a zip file that looks like a TorchScript archive dispatching to 'torch.jit.load' (call 'torch.jit.load' directly to silence this warning)\n",
      "  warnings.warn(\"'torch.load' received a zip file that looks like a TorchScript archive\"\n"
     ]
    },
    {
     "name": "stdout",
     "output_type": "stream",
     "text": [
      "torch.Size([1, 64])\n",
      "Gradient check passed!\n",
      "The (227, 227) setting is overwritten by the size in custom transform\n"
     ]
    },
    {
     "data": {
      "application/vnd.jupyter.widget-view+json": {
       "model_id": "c94d5c5a61364f2a828ad1c9a2e0be8e",
       "version_major": 2,
       "version_minor": 0
      },
      "text/plain": [
       "  0%|          | 0/55 [00:01<?, ?it/s]"
      ]
     },
     "metadata": {},
     "output_type": "display_data"
    },
    {
     "name": "stdout",
     "output_type": "stream",
     "text": [
      "Loading model and set up feature extraction: model regnety_640, layer .s3.Bottleneckb9\n",
      "Target unit ids: [0]\n",
      "Loading readout layer and PCA transform: readout /n/holylabs/LABS/alvarez_lab/Everyone/Accentuate_VVS/Encoding_model_outputs/red_20250428-20250430/red_20250428-20250430_regnety_640_Ch00_readout_.s3.Bottleneckb9_pca750_RidgeCV.pth, xtransform             /n/holylabs/LABS/alvarez_lab/Everyone/Accentuate_VVS/Encoding_model_outputs/red_20250428-20250430/red_20250428-20250430_regnety_640_Ch00_Xtfmer_.s3.Bottleneckb9_pca750_RidgeCV_JITscript.pt\n"
     ]
    },
    {
     "name": "stderr",
     "output_type": "stream",
     "text": [
      "/n/home12/binxuwang/.conda/envs/torch2/lib/python3.10/site-packages/torch/serialization.py:1006: UserWarning: 'torch.load' received a zip file that looks like a TorchScript archive dispatching to 'torch.jit.load' (call 'torch.jit.load' directly to silence this warning)\n",
      "  warnings.warn(\"'torch.load' received a zip file that looks like a TorchScript archive\"\n"
     ]
    },
    {
     "name": "stdout",
     "output_type": "stream",
     "text": [
      "torch.Size([1, 64])\n",
      "Gradient check passed!\n",
      "The (227, 227) setting is overwritten by the size in custom transform\n"
     ]
    },
    {
     "data": {
      "application/vnd.jupyter.widget-view+json": {
       "model_id": "b1db2017c4e4411585c457a0555471d3",
       "version_major": 2,
       "version_minor": 0
      },
      "text/plain": [
       "  0%|          | 0/55 [00:00<?, ?it/s]"
      ]
     },
     "metadata": {},
     "output_type": "display_data"
    },
    {
     "name": "stdout",
     "output_type": "stream",
     "text": [
      "Loading model and set up feature extraction: model regnety_640, layer .s3.Bottleneckb9\n",
      "Target unit ids: [15]\n",
      "Loading readout layer and PCA transform: readout /n/holylabs/LABS/alvarez_lab/Everyone/Accentuate_VVS/Encoding_model_outputs/red_20250428-20250430/red_20250428-20250430_regnety_640_Ch15_readout_.s3.Bottleneckb9_pca750_RidgeCV.pth, xtransform             /n/holylabs/LABS/alvarez_lab/Everyone/Accentuate_VVS/Encoding_model_outputs/red_20250428-20250430/red_20250428-20250430_regnety_640_Ch15_Xtfmer_.s3.Bottleneckb9_pca750_RidgeCV_JITscript.pt\n"
     ]
    },
    {
     "name": "stderr",
     "output_type": "stream",
     "text": [
      "/n/home12/binxuwang/.conda/envs/torch2/lib/python3.10/site-packages/torch/serialization.py:1006: UserWarning: 'torch.load' received a zip file that looks like a TorchScript archive dispatching to 'torch.jit.load' (call 'torch.jit.load' directly to silence this warning)\n",
      "  warnings.warn(\"'torch.load' received a zip file that looks like a TorchScript archive\"\n"
     ]
    },
    {
     "name": "stdout",
     "output_type": "stream",
     "text": [
      "torch.Size([1, 64])\n",
      "Gradient check passed!\n",
      "The (227, 227) setting is overwritten by the size in custom transform\n"
     ]
    },
    {
     "data": {
      "application/vnd.jupyter.widget-view+json": {
       "model_id": "12f51c06c157406ab86cd3cea1523fa4",
       "version_major": 2,
       "version_minor": 0
      },
      "text/plain": [
       "  0%|          | 0/55 [00:00<?, ?it/s]"
      ]
     },
     "metadata": {},
     "output_type": "display_data"
    },
    {
     "name": "stdout",
     "output_type": "stream",
     "text": [
      "Loading model and set up feature extraction: model regnety_640, layer .s4.Bottleneckb1\n",
      "Target unit ids: [19]\n",
      "Loading readout layer and PCA transform: readout /n/holylabs/LABS/alvarez_lab/Everyone/Accentuate_VVS/Encoding_model_outputs/red_20250428-20250430/red_20250428-20250430_regnety_640_Ch19_readout_.s4.Bottleneckb1_pca750_RidgeCV.pth, xtransform             /n/holylabs/LABS/alvarez_lab/Everyone/Accentuate_VVS/Encoding_model_outputs/red_20250428-20250430/red_20250428-20250430_regnety_640_Ch19_Xtfmer_.s4.Bottleneckb1_pca750_RidgeCV_JITscript.pt\n"
     ]
    },
    {
     "name": "stderr",
     "output_type": "stream",
     "text": [
      "/n/home12/binxuwang/.conda/envs/torch2/lib/python3.10/site-packages/torch/serialization.py:1006: UserWarning: 'torch.load' received a zip file that looks like a TorchScript archive dispatching to 'torch.jit.load' (call 'torch.jit.load' directly to silence this warning)\n",
      "  warnings.warn(\"'torch.load' received a zip file that looks like a TorchScript archive\"\n"
     ]
    },
    {
     "name": "stdout",
     "output_type": "stream",
     "text": [
      "torch.Size([1, 64])\n",
      "Gradient check passed!\n",
      "The (227, 227) setting is overwritten by the size in custom transform\n"
     ]
    },
    {
     "data": {
      "application/vnd.jupyter.widget-view+json": {
       "model_id": "946e7651a2614939be9890fd92b003ff",
       "version_major": 2,
       "version_minor": 0
      },
      "text/plain": [
       "  0%|          | 0/55 [00:01<?, ?it/s]"
      ]
     },
     "metadata": {},
     "output_type": "display_data"
    },
    {
     "name": "stdout",
     "output_type": "stream",
     "text": [
      "Loading model and set up feature extraction: model regnety_640, layer .s4.Bottleneckb1\n",
      "Target unit ids: [2]\n",
      "Loading readout layer and PCA transform: readout /n/holylabs/LABS/alvarez_lab/Everyone/Accentuate_VVS/Encoding_model_outputs/red_20250428-20250430/red_20250428-20250430_regnety_640_Ch02_readout_.s4.Bottleneckb1_pca750_RidgeCV.pth, xtransform             /n/holylabs/LABS/alvarez_lab/Everyone/Accentuate_VVS/Encoding_model_outputs/red_20250428-20250430/red_20250428-20250430_regnety_640_Ch02_Xtfmer_.s4.Bottleneckb1_pca750_RidgeCV_JITscript.pt\n"
     ]
    },
    {
     "name": "stderr",
     "output_type": "stream",
     "text": [
      "/n/home12/binxuwang/.conda/envs/torch2/lib/python3.10/site-packages/torch/serialization.py:1006: UserWarning: 'torch.load' received a zip file that looks like a TorchScript archive dispatching to 'torch.jit.load' (call 'torch.jit.load' directly to silence this warning)\n",
      "  warnings.warn(\"'torch.load' received a zip file that looks like a TorchScript archive\"\n"
     ]
    },
    {
     "name": "stdout",
     "output_type": "stream",
     "text": [
      "torch.Size([1, 64])\n",
      "Gradient check passed!\n",
      "The (227, 227) setting is overwritten by the size in custom transform\n"
     ]
    },
    {
     "data": {
      "application/vnd.jupyter.widget-view+json": {
       "model_id": "d3bea4a25c874ba286dcd4115288df4e",
       "version_major": 2,
       "version_minor": 0
      },
      "text/plain": [
       "  0%|          | 0/55 [00:00<?, ?it/s]"
      ]
     },
     "metadata": {},
     "output_type": "display_data"
    },
    {
     "name": "stdout",
     "output_type": "stream",
     "text": [
      "Loading model and set up feature extraction: model regnety_640, layer .s4.Bottleneckb1\n",
      "Target unit ids: [9]\n",
      "Loading readout layer and PCA transform: readout /n/holylabs/LABS/alvarez_lab/Everyone/Accentuate_VVS/Encoding_model_outputs/red_20250428-20250430/red_20250428-20250430_regnety_640_Ch09_readout_.s4.Bottleneckb1_pca750_RidgeCV.pth, xtransform             /n/holylabs/LABS/alvarez_lab/Everyone/Accentuate_VVS/Encoding_model_outputs/red_20250428-20250430/red_20250428-20250430_regnety_640_Ch09_Xtfmer_.s4.Bottleneckb1_pca750_RidgeCV_JITscript.pt\n"
     ]
    },
    {
     "name": "stderr",
     "output_type": "stream",
     "text": [
      "/n/home12/binxuwang/.conda/envs/torch2/lib/python3.10/site-packages/torch/serialization.py:1006: UserWarning: 'torch.load' received a zip file that looks like a TorchScript archive dispatching to 'torch.jit.load' (call 'torch.jit.load' directly to silence this warning)\n",
      "  warnings.warn(\"'torch.load' received a zip file that looks like a TorchScript archive\"\n"
     ]
    },
    {
     "name": "stdout",
     "output_type": "stream",
     "text": [
      "torch.Size([1, 64])\n",
      "Gradient check passed!\n",
      "The (227, 227) setting is overwritten by the size in custom transform\n"
     ]
    },
    {
     "data": {
      "application/vnd.jupyter.widget-view+json": {
       "model_id": "ce5dcb1f477b4eceb063d44b27e039ba",
       "version_major": 2,
       "version_minor": 0
      },
      "text/plain": [
       "  0%|          | 0/55 [00:00<?, ?it/s]"
      ]
     },
     "metadata": {},
     "output_type": "display_data"
    },
    {
     "name": "stdout",
     "output_type": "stream",
     "text": [
      "Loading model and set up feature extraction: model resnet50, layer .layer4.Bottleneck0\n",
      "Target unit ids: [0]\n",
      "Loading readout layer and PCA transform: readout /n/holylabs/LABS/alvarez_lab/Everyone/Accentuate_VVS/Encoding_model_outputs/red_20250428-20250430/red_20250428-20250430_resnet50_Ch00_readout_.layer4.Bottleneck0_pca750_RidgeCV.pth, xtransform             /n/holylabs/LABS/alvarez_lab/Everyone/Accentuate_VVS/Encoding_model_outputs/red_20250428-20250430/red_20250428-20250430_resnet50_Ch00_Xtfmer_.layer4.Bottleneck0_pca750_RidgeCV_JITscript.pt\n"
     ]
    },
    {
     "name": "stderr",
     "output_type": "stream",
     "text": [
      "/n/home12/binxuwang/.conda/envs/torch2/lib/python3.10/site-packages/torchvision/models/_utils.py:208: UserWarning: The parameter 'pretrained' is deprecated since 0.13 and may be removed in the future, please use 'weights' instead.\n",
      "  warnings.warn(\n",
      "/n/home12/binxuwang/.conda/envs/torch2/lib/python3.10/site-packages/torchvision/models/_utils.py:223: UserWarning: Arguments other than a weight enum or `None` for 'weights' are deprecated since 0.13 and may be removed in the future. The current behavior is equivalent to passing `weights=ResNet50_Weights.IMAGENET1K_V1`. You can also use `weights=ResNet50_Weights.DEFAULT` to get the most up-to-date weights.\n",
      "  warnings.warn(msg)\n",
      "/n/home12/binxuwang/.conda/envs/torch2/lib/python3.10/site-packages/torch/serialization.py:1006: UserWarning: 'torch.load' received a zip file that looks like a TorchScript archive dispatching to 'torch.jit.load' (call 'torch.jit.load' directly to silence this warning)\n",
      "  warnings.warn(\"'torch.load' received a zip file that looks like a TorchScript archive\"\n"
     ]
    },
    {
     "name": "stdout",
     "output_type": "stream",
     "text": [
      "torch.Size([1, 64])\n",
      "Gradient check passed!\n",
      "The (227, 227) setting is overwritten by the size in custom transform\n"
     ]
    },
    {
     "data": {
      "application/vnd.jupyter.widget-view+json": {
       "model_id": "f4a48b3796e04251bda301cdac94c9da",
       "version_major": 2,
       "version_minor": 0
      },
      "text/plain": [
       "  0%|          | 0/55 [00:00<?, ?it/s]"
      ]
     },
     "metadata": {},
     "output_type": "display_data"
    },
    {
     "name": "stdout",
     "output_type": "stream",
     "text": [
      "Loading model and set up feature extraction: model resnet50, layer .layer3.Bottleneck5\n",
      "Target unit ids: [15]\n",
      "Loading readout layer and PCA transform: readout /n/holylabs/LABS/alvarez_lab/Everyone/Accentuate_VVS/Encoding_model_outputs/red_20250428-20250430/red_20250428-20250430_resnet50_Ch15_readout_.layer3.Bottleneck5_pca750_RidgeCV.pth, xtransform             /n/holylabs/LABS/alvarez_lab/Everyone/Accentuate_VVS/Encoding_model_outputs/red_20250428-20250430/red_20250428-20250430_resnet50_Ch15_Xtfmer_.layer3.Bottleneck5_pca750_RidgeCV_JITscript.pt\n"
     ]
    },
    {
     "name": "stderr",
     "output_type": "stream",
     "text": [
      "/n/home12/binxuwang/.conda/envs/torch2/lib/python3.10/site-packages/torchvision/models/_utils.py:208: UserWarning: The parameter 'pretrained' is deprecated since 0.13 and may be removed in the future, please use 'weights' instead.\n",
      "  warnings.warn(\n",
      "/n/home12/binxuwang/.conda/envs/torch2/lib/python3.10/site-packages/torchvision/models/_utils.py:223: UserWarning: Arguments other than a weight enum or `None` for 'weights' are deprecated since 0.13 and may be removed in the future. The current behavior is equivalent to passing `weights=ResNet50_Weights.IMAGENET1K_V1`. You can also use `weights=ResNet50_Weights.DEFAULT` to get the most up-to-date weights.\n",
      "  warnings.warn(msg)\n",
      "/n/home12/binxuwang/.conda/envs/torch2/lib/python3.10/site-packages/torch/serialization.py:1006: UserWarning: 'torch.load' received a zip file that looks like a TorchScript archive dispatching to 'torch.jit.load' (call 'torch.jit.load' directly to silence this warning)\n",
      "  warnings.warn(\"'torch.load' received a zip file that looks like a TorchScript archive\"\n"
     ]
    },
    {
     "name": "stdout",
     "output_type": "stream",
     "text": [
      "torch.Size([1, 64])\n",
      "Gradient check passed!\n",
      "The (227, 227) setting is overwritten by the size in custom transform\n"
     ]
    },
    {
     "data": {
      "application/vnd.jupyter.widget-view+json": {
       "model_id": "3f0fbcadcd5944be8f8d3f2260c75ea6",
       "version_major": 2,
       "version_minor": 0
      },
      "text/plain": [
       "  0%|          | 0/55 [00:00<?, ?it/s]"
      ]
     },
     "metadata": {},
     "output_type": "display_data"
    },
    {
     "name": "stdout",
     "output_type": "stream",
     "text": [
      "Loading model and set up feature extraction: model resnet50, layer .layer4.Bottleneck0\n",
      "Target unit ids: [19]\n",
      "Loading readout layer and PCA transform: readout /n/holylabs/LABS/alvarez_lab/Everyone/Accentuate_VVS/Encoding_model_outputs/red_20250428-20250430/red_20250428-20250430_resnet50_Ch19_readout_.layer4.Bottleneck0_pca750_RidgeCV.pth, xtransform             /n/holylabs/LABS/alvarez_lab/Everyone/Accentuate_VVS/Encoding_model_outputs/red_20250428-20250430/red_20250428-20250430_resnet50_Ch19_Xtfmer_.layer4.Bottleneck0_pca750_RidgeCV_JITscript.pt\n"
     ]
    },
    {
     "name": "stderr",
     "output_type": "stream",
     "text": [
      "/n/home12/binxuwang/.conda/envs/torch2/lib/python3.10/site-packages/torchvision/models/_utils.py:208: UserWarning: The parameter 'pretrained' is deprecated since 0.13 and may be removed in the future, please use 'weights' instead.\n",
      "  warnings.warn(\n",
      "/n/home12/binxuwang/.conda/envs/torch2/lib/python3.10/site-packages/torchvision/models/_utils.py:223: UserWarning: Arguments other than a weight enum or `None` for 'weights' are deprecated since 0.13 and may be removed in the future. The current behavior is equivalent to passing `weights=ResNet50_Weights.IMAGENET1K_V1`. You can also use `weights=ResNet50_Weights.DEFAULT` to get the most up-to-date weights.\n",
      "  warnings.warn(msg)\n",
      "/n/home12/binxuwang/.conda/envs/torch2/lib/python3.10/site-packages/torch/serialization.py:1006: UserWarning: 'torch.load' received a zip file that looks like a TorchScript archive dispatching to 'torch.jit.load' (call 'torch.jit.load' directly to silence this warning)\n",
      "  warnings.warn(\"'torch.load' received a zip file that looks like a TorchScript archive\"\n"
     ]
    },
    {
     "name": "stdout",
     "output_type": "stream",
     "text": [
      "torch.Size([1, 64])\n",
      "Gradient check passed!\n",
      "The (227, 227) setting is overwritten by the size in custom transform\n"
     ]
    },
    {
     "data": {
      "application/vnd.jupyter.widget-view+json": {
       "model_id": "3544f7e6ba774855a677f3961074157d",
       "version_major": 2,
       "version_minor": 0
      },
      "text/plain": [
       "  0%|          | 0/55 [00:00<?, ?it/s]"
      ]
     },
     "metadata": {},
     "output_type": "display_data"
    },
    {
     "name": "stdout",
     "output_type": "stream",
     "text": [
      "Loading model and set up feature extraction: model resnet50, layer .layer4.Bottleneck1\n",
      "Target unit ids: [2]\n",
      "Loading readout layer and PCA transform: readout /n/holylabs/LABS/alvarez_lab/Everyone/Accentuate_VVS/Encoding_model_outputs/red_20250428-20250430/red_20250428-20250430_resnet50_Ch02_readout_.layer4.Bottleneck1_pca750_RidgeCV.pth, xtransform             /n/holylabs/LABS/alvarez_lab/Everyone/Accentuate_VVS/Encoding_model_outputs/red_20250428-20250430/red_20250428-20250430_resnet50_Ch02_Xtfmer_.layer4.Bottleneck1_pca750_RidgeCV_JITscript.pt\n"
     ]
    },
    {
     "name": "stderr",
     "output_type": "stream",
     "text": [
      "/n/home12/binxuwang/.conda/envs/torch2/lib/python3.10/site-packages/torchvision/models/_utils.py:208: UserWarning: The parameter 'pretrained' is deprecated since 0.13 and may be removed in the future, please use 'weights' instead.\n",
      "  warnings.warn(\n",
      "/n/home12/binxuwang/.conda/envs/torch2/lib/python3.10/site-packages/torchvision/models/_utils.py:223: UserWarning: Arguments other than a weight enum or `None` for 'weights' are deprecated since 0.13 and may be removed in the future. The current behavior is equivalent to passing `weights=ResNet50_Weights.IMAGENET1K_V1`. You can also use `weights=ResNet50_Weights.DEFAULT` to get the most up-to-date weights.\n",
      "  warnings.warn(msg)\n",
      "/n/home12/binxuwang/.conda/envs/torch2/lib/python3.10/site-packages/torch/serialization.py:1006: UserWarning: 'torch.load' received a zip file that looks like a TorchScript archive dispatching to 'torch.jit.load' (call 'torch.jit.load' directly to silence this warning)\n",
      "  warnings.warn(\"'torch.load' received a zip file that looks like a TorchScript archive\"\n"
     ]
    },
    {
     "name": "stdout",
     "output_type": "stream",
     "text": [
      "torch.Size([1, 64])\n",
      "Gradient check passed!\n",
      "The (227, 227) setting is overwritten by the size in custom transform\n"
     ]
    },
    {
     "data": {
      "application/vnd.jupyter.widget-view+json": {
       "model_id": "7f3b8c9e1b87480b8943ae5496c29664",
       "version_major": 2,
       "version_minor": 0
      },
      "text/plain": [
       "  0%|          | 0/55 [00:00<?, ?it/s]"
      ]
     },
     "metadata": {},
     "output_type": "display_data"
    },
    {
     "name": "stdout",
     "output_type": "stream",
     "text": [
      "Loading model and set up feature extraction: model resnet50, layer .layer4.Bottleneck0\n",
      "Target unit ids: [9]\n",
      "Loading readout layer and PCA transform: readout /n/holylabs/LABS/alvarez_lab/Everyone/Accentuate_VVS/Encoding_model_outputs/red_20250428-20250430/red_20250428-20250430_resnet50_Ch09_readout_.layer4.Bottleneck0_pca750_RidgeCV.pth, xtransform             /n/holylabs/LABS/alvarez_lab/Everyone/Accentuate_VVS/Encoding_model_outputs/red_20250428-20250430/red_20250428-20250430_resnet50_Ch09_Xtfmer_.layer4.Bottleneck0_pca750_RidgeCV_JITscript.pt\n"
     ]
    },
    {
     "name": "stderr",
     "output_type": "stream",
     "text": [
      "/n/home12/binxuwang/.conda/envs/torch2/lib/python3.10/site-packages/torchvision/models/_utils.py:208: UserWarning: The parameter 'pretrained' is deprecated since 0.13 and may be removed in the future, please use 'weights' instead.\n",
      "  warnings.warn(\n",
      "/n/home12/binxuwang/.conda/envs/torch2/lib/python3.10/site-packages/torchvision/models/_utils.py:223: UserWarning: Arguments other than a weight enum or `None` for 'weights' are deprecated since 0.13 and may be removed in the future. The current behavior is equivalent to passing `weights=ResNet50_Weights.IMAGENET1K_V1`. You can also use `weights=ResNet50_Weights.DEFAULT` to get the most up-to-date weights.\n",
      "  warnings.warn(msg)\n",
      "/n/home12/binxuwang/.conda/envs/torch2/lib/python3.10/site-packages/torch/serialization.py:1006: UserWarning: 'torch.load' received a zip file that looks like a TorchScript archive dispatching to 'torch.jit.load' (call 'torch.jit.load' directly to silence this warning)\n",
      "  warnings.warn(\"'torch.load' received a zip file that looks like a TorchScript archive\"\n"
     ]
    },
    {
     "name": "stdout",
     "output_type": "stream",
     "text": [
      "torch.Size([1, 64])\n",
      "Gradient check passed!\n",
      "The (227, 227) setting is overwritten by the size in custom transform\n"
     ]
    },
    {
     "data": {
      "application/vnd.jupyter.widget-view+json": {
       "model_id": "1626756310264139a111731314d636f8",
       "version_major": 2,
       "version_minor": 0
      },
      "text/plain": [
       "  0%|          | 0/55 [00:00<?, ?it/s]"
      ]
     },
     "metadata": {},
     "output_type": "display_data"
    },
    {
     "name": "stdout",
     "output_type": "stream",
     "text": [
      "Loading model and set up feature extraction: model resnet50_clip, layer .layer4.Bottleneck0\n",
      "Target unit ids: [0]\n",
      "Loading readout layer and PCA transform: readout /n/holylabs/LABS/alvarez_lab/Everyone/Accentuate_VVS/Encoding_model_outputs/red_20250428-20250430/red_20250428-20250430_resnet50_clip_Ch00_readout_.layer4.Bottleneck0_pca750_RidgeCV.pth, xtransform             /n/holylabs/LABS/alvarez_lab/Everyone/Accentuate_VVS/Encoding_model_outputs/red_20250428-20250430/red_20250428-20250430_resnet50_clip_Ch00_Xtfmer_.layer4.Bottleneck0_pca750_RidgeCV_JITscript.pt\n"
     ]
    },
    {
     "name": "stderr",
     "output_type": "stream",
     "text": [
      "/n/home12/binxuwang/.conda/envs/torch2/lib/python3.10/site-packages/torch/serialization.py:1006: UserWarning: 'torch.load' received a zip file that looks like a TorchScript archive dispatching to 'torch.jit.load' (call 'torch.jit.load' directly to silence this warning)\n",
      "  warnings.warn(\"'torch.load' received a zip file that looks like a TorchScript archive\"\n"
     ]
    },
    {
     "name": "stdout",
     "output_type": "stream",
     "text": [
      "torch.Size([1, 64])\n",
      "Gradient check passed!\n",
      "The (227, 227) setting is overwritten by the size in custom transform\n"
     ]
    },
    {
     "data": {
      "application/vnd.jupyter.widget-view+json": {
       "model_id": "ca3aa9acf3c647ff9d804a521942ed0a",
       "version_major": 2,
       "version_minor": 0
      },
      "text/plain": [
       "  0%|          | 0/55 [00:00<?, ?it/s]"
      ]
     },
     "metadata": {},
     "output_type": "display_data"
    },
    {
     "name": "stdout",
     "output_type": "stream",
     "text": [
      "Loading model and set up feature extraction: model resnet50_clip, layer .layer3.Bottleneck5\n",
      "Target unit ids: [15]\n",
      "Loading readout layer and PCA transform: readout /n/holylabs/LABS/alvarez_lab/Everyone/Accentuate_VVS/Encoding_model_outputs/red_20250428-20250430/red_20250428-20250430_resnet50_clip_Ch15_readout_.layer3.Bottleneck5_pca750_RidgeCV.pth, xtransform             /n/holylabs/LABS/alvarez_lab/Everyone/Accentuate_VVS/Encoding_model_outputs/red_20250428-20250430/red_20250428-20250430_resnet50_clip_Ch15_Xtfmer_.layer3.Bottleneck5_pca750_RidgeCV_JITscript.pt\n"
     ]
    },
    {
     "name": "stderr",
     "output_type": "stream",
     "text": [
      "/n/home12/binxuwang/.conda/envs/torch2/lib/python3.10/site-packages/torch/serialization.py:1006: UserWarning: 'torch.load' received a zip file that looks like a TorchScript archive dispatching to 'torch.jit.load' (call 'torch.jit.load' directly to silence this warning)\n",
      "  warnings.warn(\"'torch.load' received a zip file that looks like a TorchScript archive\"\n"
     ]
    },
    {
     "name": "stdout",
     "output_type": "stream",
     "text": [
      "torch.Size([1, 64])\n",
      "Gradient check passed!\n",
      "The (227, 227) setting is overwritten by the size in custom transform\n"
     ]
    },
    {
     "data": {
      "application/vnd.jupyter.widget-view+json": {
       "model_id": "7af8a88af20e496b8a8b2117cfa098bd",
       "version_major": 2,
       "version_minor": 0
      },
      "text/plain": [
       "  0%|          | 0/55 [00:00<?, ?it/s]"
      ]
     },
     "metadata": {},
     "output_type": "display_data"
    },
    {
     "name": "stdout",
     "output_type": "stream",
     "text": [
      "Loading model and set up feature extraction: model resnet50_clip, layer .layer4.Bottleneck1\n",
      "Target unit ids: [19]\n",
      "Loading readout layer and PCA transform: readout /n/holylabs/LABS/alvarez_lab/Everyone/Accentuate_VVS/Encoding_model_outputs/red_20250428-20250430/red_20250428-20250430_resnet50_clip_Ch19_readout_.layer4.Bottleneck1_pca750_RidgeCV.pth, xtransform             /n/holylabs/LABS/alvarez_lab/Everyone/Accentuate_VVS/Encoding_model_outputs/red_20250428-20250430/red_20250428-20250430_resnet50_clip_Ch19_Xtfmer_.layer4.Bottleneck1_pca750_RidgeCV_JITscript.pt\n"
     ]
    },
    {
     "name": "stderr",
     "output_type": "stream",
     "text": [
      "/n/home12/binxuwang/.conda/envs/torch2/lib/python3.10/site-packages/torch/serialization.py:1006: UserWarning: 'torch.load' received a zip file that looks like a TorchScript archive dispatching to 'torch.jit.load' (call 'torch.jit.load' directly to silence this warning)\n",
      "  warnings.warn(\"'torch.load' received a zip file that looks like a TorchScript archive\"\n"
     ]
    },
    {
     "name": "stdout",
     "output_type": "stream",
     "text": [
      "torch.Size([1, 64])\n",
      "Gradient check passed!\n",
      "The (227, 227) setting is overwritten by the size in custom transform\n"
     ]
    },
    {
     "data": {
      "application/vnd.jupyter.widget-view+json": {
       "model_id": "5db370276e964817906712c578ba8d44",
       "version_major": 2,
       "version_minor": 0
      },
      "text/plain": [
       "  0%|          | 0/55 [00:00<?, ?it/s]"
      ]
     },
     "metadata": {},
     "output_type": "display_data"
    },
    {
     "name": "stdout",
     "output_type": "stream",
     "text": [
      "Loading model and set up feature extraction: model resnet50_clip, layer .layer4.Bottleneck0\n",
      "Target unit ids: [2]\n",
      "Loading readout layer and PCA transform: readout /n/holylabs/LABS/alvarez_lab/Everyone/Accentuate_VVS/Encoding_model_outputs/red_20250428-20250430/red_20250428-20250430_resnet50_clip_Ch02_readout_.layer4.Bottleneck0_pca750_RidgeCV.pth, xtransform             /n/holylabs/LABS/alvarez_lab/Everyone/Accentuate_VVS/Encoding_model_outputs/red_20250428-20250430/red_20250428-20250430_resnet50_clip_Ch02_Xtfmer_.layer4.Bottleneck0_pca750_RidgeCV_JITscript.pt\n"
     ]
    },
    {
     "name": "stderr",
     "output_type": "stream",
     "text": [
      "/n/home12/binxuwang/.conda/envs/torch2/lib/python3.10/site-packages/torch/serialization.py:1006: UserWarning: 'torch.load' received a zip file that looks like a TorchScript archive dispatching to 'torch.jit.load' (call 'torch.jit.load' directly to silence this warning)\n",
      "  warnings.warn(\"'torch.load' received a zip file that looks like a TorchScript archive\"\n"
     ]
    },
    {
     "name": "stdout",
     "output_type": "stream",
     "text": [
      "torch.Size([1, 64])\n",
      "Gradient check passed!\n",
      "The (227, 227) setting is overwritten by the size in custom transform\n"
     ]
    },
    {
     "data": {
      "application/vnd.jupyter.widget-view+json": {
       "model_id": "40db60cf013c4894bb281e14dd753e11",
       "version_major": 2,
       "version_minor": 0
      },
      "text/plain": [
       "  0%|          | 0/55 [00:00<?, ?it/s]"
      ]
     },
     "metadata": {},
     "output_type": "display_data"
    },
    {
     "name": "stdout",
     "output_type": "stream",
     "text": [
      "Loading model and set up feature extraction: model resnet50_clip, layer .layer4.Bottleneck1\n",
      "Target unit ids: [9]\n",
      "Loading readout layer and PCA transform: readout /n/holylabs/LABS/alvarez_lab/Everyone/Accentuate_VVS/Encoding_model_outputs/red_20250428-20250430/red_20250428-20250430_resnet50_clip_Ch09_readout_.layer4.Bottleneck1_pca750_RidgeCV.pth, xtransform             /n/holylabs/LABS/alvarez_lab/Everyone/Accentuate_VVS/Encoding_model_outputs/red_20250428-20250430/red_20250428-20250430_resnet50_clip_Ch09_Xtfmer_.layer4.Bottleneck1_pca750_RidgeCV_JITscript.pt\n"
     ]
    },
    {
     "name": "stderr",
     "output_type": "stream",
     "text": [
      "/n/home12/binxuwang/.conda/envs/torch2/lib/python3.10/site-packages/torch/serialization.py:1006: UserWarning: 'torch.load' received a zip file that looks like a TorchScript archive dispatching to 'torch.jit.load' (call 'torch.jit.load' directly to silence this warning)\n",
      "  warnings.warn(\"'torch.load' received a zip file that looks like a TorchScript archive\"\n"
     ]
    },
    {
     "name": "stdout",
     "output_type": "stream",
     "text": [
      "torch.Size([1, 64])\n",
      "Gradient check passed!\n",
      "The (227, 227) setting is overwritten by the size in custom transform\n"
     ]
    },
    {
     "data": {
      "application/vnd.jupyter.widget-view+json": {
       "model_id": "10b2983e618c453b965eb6287ef0bac6",
       "version_major": 2,
       "version_minor": 0
      },
      "text/plain": [
       "  0%|          | 0/55 [00:01<?, ?it/s]"
      ]
     },
     "metadata": {},
     "output_type": "display_data"
    },
    {
     "name": "stdout",
     "output_type": "stream",
     "text": [
      "Loading model and set up feature extraction: model resnet50_dino, layer .layer4.Bottleneck0\n",
      "Target unit ids: [0]\n",
      "Loading readout layer and PCA transform: readout /n/holylabs/LABS/alvarez_lab/Everyone/Accentuate_VVS/Encoding_model_outputs/red_20250428-20250430/red_20250428-20250430_resnet50_dino_Ch00_readout_.layer4.Bottleneck0_pca750_RidgeCV.pth, xtransform             /n/holylabs/LABS/alvarez_lab/Everyone/Accentuate_VVS/Encoding_model_outputs/red_20250428-20250430/red_20250428-20250430_resnet50_dino_Ch00_Xtfmer_.layer4.Bottleneck0_pca750_RidgeCV_JITscript.pt\n"
     ]
    },
    {
     "name": "stderr",
     "output_type": "stream",
     "text": [
      "Using cache found in /n/holylfs06/LABS/kempner_fellow_binxuwang/Users/binxuwang/torch_cache/hub/facebookresearch_dino_main\n",
      "/n/home12/binxuwang/.conda/envs/torch2/lib/python3.10/site-packages/torchvision/models/_utils.py:208: UserWarning: The parameter 'pretrained' is deprecated since 0.13 and may be removed in the future, please use 'weights' instead.\n",
      "  warnings.warn(\n",
      "/n/home12/binxuwang/.conda/envs/torch2/lib/python3.10/site-packages/torchvision/models/_utils.py:223: UserWarning: Arguments other than a weight enum or `None` for 'weights' are deprecated since 0.13 and may be removed in the future. The current behavior is equivalent to passing `weights=None`.\n",
      "  warnings.warn(msg)\n",
      "/n/home12/binxuwang/.conda/envs/torch2/lib/python3.10/site-packages/torch/serialization.py:1006: UserWarning: 'torch.load' received a zip file that looks like a TorchScript archive dispatching to 'torch.jit.load' (call 'torch.jit.load' directly to silence this warning)\n",
      "  warnings.warn(\"'torch.load' received a zip file that looks like a TorchScript archive\"\n"
     ]
    },
    {
     "name": "stdout",
     "output_type": "stream",
     "text": [
      "torch.Size([1, 64])\n",
      "Gradient check passed!\n",
      "The (227, 227) setting is overwritten by the size in custom transform\n"
     ]
    },
    {
     "data": {
      "application/vnd.jupyter.widget-view+json": {
       "model_id": "aa47a318c4f04d72bb85b31c6b509779",
       "version_major": 2,
       "version_minor": 0
      },
      "text/plain": [
       "  0%|          | 0/55 [00:00<?, ?it/s]"
      ]
     },
     "metadata": {},
     "output_type": "display_data"
    },
    {
     "name": "stdout",
     "output_type": "stream",
     "text": [
      "Loading model and set up feature extraction: model resnet50_dino, layer .layer4.Bottleneck2\n",
      "Target unit ids: [15]\n",
      "Loading readout layer and PCA transform: readout /n/holylabs/LABS/alvarez_lab/Everyone/Accentuate_VVS/Encoding_model_outputs/red_20250428-20250430/red_20250428-20250430_resnet50_dino_Ch15_readout_.layer4.Bottleneck2_pca750_RidgeCV.pth, xtransform             /n/holylabs/LABS/alvarez_lab/Everyone/Accentuate_VVS/Encoding_model_outputs/red_20250428-20250430/red_20250428-20250430_resnet50_dino_Ch15_Xtfmer_.layer4.Bottleneck2_pca750_RidgeCV_JITscript.pt\n"
     ]
    },
    {
     "name": "stderr",
     "output_type": "stream",
     "text": [
      "Using cache found in /n/holylfs06/LABS/kempner_fellow_binxuwang/Users/binxuwang/torch_cache/hub/facebookresearch_dino_main\n",
      "/n/home12/binxuwang/.conda/envs/torch2/lib/python3.10/site-packages/torchvision/models/_utils.py:208: UserWarning: The parameter 'pretrained' is deprecated since 0.13 and may be removed in the future, please use 'weights' instead.\n",
      "  warnings.warn(\n",
      "/n/home12/binxuwang/.conda/envs/torch2/lib/python3.10/site-packages/torchvision/models/_utils.py:223: UserWarning: Arguments other than a weight enum or `None` for 'weights' are deprecated since 0.13 and may be removed in the future. The current behavior is equivalent to passing `weights=None`.\n",
      "  warnings.warn(msg)\n",
      "/n/home12/binxuwang/.conda/envs/torch2/lib/python3.10/site-packages/torch/serialization.py:1006: UserWarning: 'torch.load' received a zip file that looks like a TorchScript archive dispatching to 'torch.jit.load' (call 'torch.jit.load' directly to silence this warning)\n",
      "  warnings.warn(\"'torch.load' received a zip file that looks like a TorchScript archive\"\n"
     ]
    },
    {
     "name": "stdout",
     "output_type": "stream",
     "text": [
      "torch.Size([1, 64])\n",
      "Gradient check passed!\n",
      "The (227, 227) setting is overwritten by the size in custom transform\n"
     ]
    },
    {
     "data": {
      "application/vnd.jupyter.widget-view+json": {
       "model_id": "40b99ecb0a474a48836e5df49d6a5a0d",
       "version_major": 2,
       "version_minor": 0
      },
      "text/plain": [
       "  0%|          | 0/55 [00:00<?, ?it/s]"
      ]
     },
     "metadata": {},
     "output_type": "display_data"
    },
    {
     "name": "stdout",
     "output_type": "stream",
     "text": [
      "Loading model and set up feature extraction: model resnet50_dino, layer .layer4.Bottleneck1\n",
      "Target unit ids: [19]\n",
      "Loading readout layer and PCA transform: readout /n/holylabs/LABS/alvarez_lab/Everyone/Accentuate_VVS/Encoding_model_outputs/red_20250428-20250430/red_20250428-20250430_resnet50_dino_Ch19_readout_.layer4.Bottleneck1_pca750_RidgeCV.pth, xtransform             /n/holylabs/LABS/alvarez_lab/Everyone/Accentuate_VVS/Encoding_model_outputs/red_20250428-20250430/red_20250428-20250430_resnet50_dino_Ch19_Xtfmer_.layer4.Bottleneck1_pca750_RidgeCV_JITscript.pt\n"
     ]
    },
    {
     "name": "stderr",
     "output_type": "stream",
     "text": [
      "Using cache found in /n/holylfs06/LABS/kempner_fellow_binxuwang/Users/binxuwang/torch_cache/hub/facebookresearch_dino_main\n",
      "/n/home12/binxuwang/.conda/envs/torch2/lib/python3.10/site-packages/torchvision/models/_utils.py:208: UserWarning: The parameter 'pretrained' is deprecated since 0.13 and may be removed in the future, please use 'weights' instead.\n",
      "  warnings.warn(\n",
      "/n/home12/binxuwang/.conda/envs/torch2/lib/python3.10/site-packages/torchvision/models/_utils.py:223: UserWarning: Arguments other than a weight enum or `None` for 'weights' are deprecated since 0.13 and may be removed in the future. The current behavior is equivalent to passing `weights=None`.\n",
      "  warnings.warn(msg)\n",
      "/n/home12/binxuwang/.conda/envs/torch2/lib/python3.10/site-packages/torch/serialization.py:1006: UserWarning: 'torch.load' received a zip file that looks like a TorchScript archive dispatching to 'torch.jit.load' (call 'torch.jit.load' directly to silence this warning)\n",
      "  warnings.warn(\"'torch.load' received a zip file that looks like a TorchScript archive\"\n"
     ]
    },
    {
     "name": "stdout",
     "output_type": "stream",
     "text": [
      "torch.Size([1, 64])\n",
      "Gradient check passed!\n",
      "The (227, 227) setting is overwritten by the size in custom transform\n"
     ]
    },
    {
     "data": {
      "application/vnd.jupyter.widget-view+json": {
       "model_id": "38badd83261848f3abb064268f4714c3",
       "version_major": 2,
       "version_minor": 0
      },
      "text/plain": [
       "  0%|          | 0/55 [00:00<?, ?it/s]"
      ]
     },
     "metadata": {},
     "output_type": "display_data"
    },
    {
     "ename": "KeyboardInterrupt",
     "evalue": "",
     "output_type": "error",
     "traceback": [
      "\u001b[0;31m---------------------------------------------------------------------------\u001b[0m",
      "\u001b[0;31mKeyboardInterrupt\u001b[0m                         Traceback (most recent call last)",
      "Cell \u001b[0;32mIn[44], line 19\u001b[0m\n\u001b[1;32m     15\u001b[0m model_name \u001b[38;5;241m=\u001b[39m acc_config[\u001b[38;5;124m'\u001b[39m\u001b[38;5;124mmodel_name\u001b[39m\u001b[38;5;124m'\u001b[39m]\n\u001b[1;32m     16\u001b[0m population_predictor, target_unit_predictor, \\\n\u001b[1;32m     17\u001b[0m     model, transforms_pipeline, _, _, _ \\\n\u001b[1;32m     18\u001b[0m         \u001b[38;5;241m=\u001b[39m get_predictor_from_config(config_file, device\u001b[38;5;241m=\u001b[39m\u001b[38;5;124m\"\u001b[39m\u001b[38;5;124mcuda\u001b[39m\u001b[38;5;124m\"\u001b[39m)\n\u001b[0;32m---> 19\u001b[0m acc_img_chan_resp \u001b[38;5;241m=\u001b[39m \u001b[43mget_prediction_responses\u001b[49m\u001b[43m(\u001b[49m\u001b[43mtarget_unit_predictor\u001b[49m\u001b[43m,\u001b[49m\u001b[43m \u001b[49m\u001b[43mtransforms_pipeline\u001b[49m\u001b[43m,\u001b[49m\u001b[43m \u001b[49m\n\u001b[1;32m     20\u001b[0m \u001b[43m                                        \u001b[49m\u001b[43mdf_accentuated\u001b[49m\u001b[43m[\u001b[49m\u001b[38;5;124;43m\"\u001b[39;49m\u001b[38;5;124;43mfilepath\u001b[39;49m\u001b[38;5;124;43m\"\u001b[39;49m\u001b[43m]\u001b[49m\u001b[43m)\u001b[49m\n\u001b[1;32m     21\u001b[0m pred_resp_dict[(model_name, unit_ids)] \u001b[38;5;241m=\u001b[39m acc_img_chan_resp\u001b[38;5;241m.\u001b[39mcpu()\u001b[38;5;241m.\u001b[39mnumpy()\n\u001b[1;32m     22\u001b[0m df_acc_w_pred_resp[\u001b[38;5;124mf\u001b[39m\u001b[38;5;124m\"\u001b[39m\u001b[38;5;124mpred_resp_\u001b[39m\u001b[38;5;132;01m{\u001b[39;00mmodel_name\u001b[38;5;132;01m}\u001b[39;00m\u001b[38;5;124m_unit_\u001b[39m\u001b[38;5;132;01m{\u001b[39;00munit_ids\u001b[38;5;132;01m}\u001b[39;00m\u001b[38;5;124m\"\u001b[39m] \u001b[38;5;241m=\u001b[39m acc_img_chan_resp\u001b[38;5;241m.\u001b[39mcpu()\u001b[38;5;241m.\u001b[39mnumpy()\n",
      "Cell \u001b[0;32mIn[38], line 9\u001b[0m, in \u001b[0;36mget_prediction_responses\u001b[0;34m(pred_fn, transforms_pipeline, image_fps, device, batch_size, num_workers)\u001b[0m\n\u001b[1;32m      7\u001b[0m dataloader \u001b[38;5;241m=\u001b[39m DataLoader(dataset, batch_size\u001b[38;5;241m=\u001b[39mbatch_size, shuffle\u001b[38;5;241m=\u001b[39m\u001b[38;5;28;01mFalse\u001b[39;00m, num_workers\u001b[38;5;241m=\u001b[39mnum_workers)\n\u001b[1;32m      8\u001b[0m pred_resp \u001b[38;5;241m=\u001b[39m []\n\u001b[0;32m----> 9\u001b[0m \u001b[38;5;28;01mfor\u001b[39;00m batch \u001b[38;5;129;01min\u001b[39;00m tqdm(dataloader):\n\u001b[1;32m     10\u001b[0m     batch_img \u001b[38;5;241m=\u001b[39m batch[\u001b[38;5;241m0\u001b[39m]\u001b[38;5;241m.\u001b[39mto(device)\n\u001b[1;32m     11\u001b[0m     \u001b[38;5;28;01mwith\u001b[39;00m th\u001b[38;5;241m.\u001b[39mno_grad():\n",
      "File \u001b[0;32m~/.conda/envs/torch2/lib/python3.10/site-packages/tqdm/notebook.py:250\u001b[0m, in \u001b[0;36mtqdm_notebook.__iter__\u001b[0;34m(self)\u001b[0m\n\u001b[1;32m    248\u001b[0m \u001b[38;5;28;01mtry\u001b[39;00m:\n\u001b[1;32m    249\u001b[0m     it \u001b[38;5;241m=\u001b[39m \u001b[38;5;28msuper\u001b[39m()\u001b[38;5;241m.\u001b[39m\u001b[38;5;21m__iter__\u001b[39m()\n\u001b[0;32m--> 250\u001b[0m     \u001b[38;5;28;01mfor\u001b[39;00m obj \u001b[38;5;129;01min\u001b[39;00m it:\n\u001b[1;32m    251\u001b[0m         \u001b[38;5;66;03m# return super(tqdm...) will not catch exception\u001b[39;00m\n\u001b[1;32m    252\u001b[0m         \u001b[38;5;28;01myield\u001b[39;00m obj\n\u001b[1;32m    253\u001b[0m \u001b[38;5;66;03m# NB: except ... [ as ...] breaks IPython async KeyboardInterrupt\u001b[39;00m\n",
      "File \u001b[0;32m~/.conda/envs/torch2/lib/python3.10/site-packages/tqdm/std.py:1181\u001b[0m, in \u001b[0;36mtqdm.__iter__\u001b[0;34m(self)\u001b[0m\n\u001b[1;32m   1178\u001b[0m time \u001b[38;5;241m=\u001b[39m \u001b[38;5;28mself\u001b[39m\u001b[38;5;241m.\u001b[39m_time\n\u001b[1;32m   1180\u001b[0m \u001b[38;5;28;01mtry\u001b[39;00m:\n\u001b[0;32m-> 1181\u001b[0m     \u001b[38;5;28;01mfor\u001b[39;00m obj \u001b[38;5;129;01min\u001b[39;00m iterable:\n\u001b[1;32m   1182\u001b[0m         \u001b[38;5;28;01myield\u001b[39;00m obj\n\u001b[1;32m   1183\u001b[0m         \u001b[38;5;66;03m# Update and possibly print the progressbar.\u001b[39;00m\n\u001b[1;32m   1184\u001b[0m         \u001b[38;5;66;03m# Note: does not call self.update(1) for speed optimisation.\u001b[39;00m\n",
      "File \u001b[0;32m~/.conda/envs/torch2/lib/python3.10/site-packages/torch/utils/data/dataloader.py:631\u001b[0m, in \u001b[0;36m_BaseDataLoaderIter.__next__\u001b[0;34m(self)\u001b[0m\n\u001b[1;32m    628\u001b[0m \u001b[38;5;28;01mif\u001b[39;00m \u001b[38;5;28mself\u001b[39m\u001b[38;5;241m.\u001b[39m_sampler_iter \u001b[38;5;129;01mis\u001b[39;00m \u001b[38;5;28;01mNone\u001b[39;00m:\n\u001b[1;32m    629\u001b[0m     \u001b[38;5;66;03m# TODO(https://github.com/pytorch/pytorch/issues/76750)\u001b[39;00m\n\u001b[1;32m    630\u001b[0m     \u001b[38;5;28mself\u001b[39m\u001b[38;5;241m.\u001b[39m_reset()  \u001b[38;5;66;03m# type: ignore[call-arg]\u001b[39;00m\n\u001b[0;32m--> 631\u001b[0m data \u001b[38;5;241m=\u001b[39m \u001b[38;5;28;43mself\u001b[39;49m\u001b[38;5;241;43m.\u001b[39;49m\u001b[43m_next_data\u001b[49m\u001b[43m(\u001b[49m\u001b[43m)\u001b[49m\n\u001b[1;32m    632\u001b[0m \u001b[38;5;28mself\u001b[39m\u001b[38;5;241m.\u001b[39m_num_yielded \u001b[38;5;241m+\u001b[39m\u001b[38;5;241m=\u001b[39m \u001b[38;5;241m1\u001b[39m\n\u001b[1;32m    633\u001b[0m \u001b[38;5;28;01mif\u001b[39;00m \u001b[38;5;28mself\u001b[39m\u001b[38;5;241m.\u001b[39m_dataset_kind \u001b[38;5;241m==\u001b[39m _DatasetKind\u001b[38;5;241m.\u001b[39mIterable \u001b[38;5;129;01mand\u001b[39;00m \\\n\u001b[1;32m    634\u001b[0m         \u001b[38;5;28mself\u001b[39m\u001b[38;5;241m.\u001b[39m_IterableDataset_len_called \u001b[38;5;129;01mis\u001b[39;00m \u001b[38;5;129;01mnot\u001b[39;00m \u001b[38;5;28;01mNone\u001b[39;00m \u001b[38;5;129;01mand\u001b[39;00m \\\n\u001b[1;32m    635\u001b[0m         \u001b[38;5;28mself\u001b[39m\u001b[38;5;241m.\u001b[39m_num_yielded \u001b[38;5;241m>\u001b[39m \u001b[38;5;28mself\u001b[39m\u001b[38;5;241m.\u001b[39m_IterableDataset_len_called:\n",
      "File \u001b[0;32m~/.conda/envs/torch2/lib/python3.10/site-packages/torch/utils/data/dataloader.py:1329\u001b[0m, in \u001b[0;36m_MultiProcessingDataLoaderIter._next_data\u001b[0;34m(self)\u001b[0m\n\u001b[1;32m   1326\u001b[0m     \u001b[38;5;28;01mreturn\u001b[39;00m \u001b[38;5;28mself\u001b[39m\u001b[38;5;241m.\u001b[39m_process_data(data)\n\u001b[1;32m   1328\u001b[0m \u001b[38;5;28;01massert\u001b[39;00m \u001b[38;5;129;01mnot\u001b[39;00m \u001b[38;5;28mself\u001b[39m\u001b[38;5;241m.\u001b[39m_shutdown \u001b[38;5;129;01mand\u001b[39;00m \u001b[38;5;28mself\u001b[39m\u001b[38;5;241m.\u001b[39m_tasks_outstanding \u001b[38;5;241m>\u001b[39m \u001b[38;5;241m0\u001b[39m\n\u001b[0;32m-> 1329\u001b[0m idx, data \u001b[38;5;241m=\u001b[39m \u001b[38;5;28;43mself\u001b[39;49m\u001b[38;5;241;43m.\u001b[39;49m\u001b[43m_get_data\u001b[49m\u001b[43m(\u001b[49m\u001b[43m)\u001b[49m\n\u001b[1;32m   1330\u001b[0m \u001b[38;5;28mself\u001b[39m\u001b[38;5;241m.\u001b[39m_tasks_outstanding \u001b[38;5;241m-\u001b[39m\u001b[38;5;241m=\u001b[39m \u001b[38;5;241m1\u001b[39m\n\u001b[1;32m   1331\u001b[0m \u001b[38;5;28;01mif\u001b[39;00m \u001b[38;5;28mself\u001b[39m\u001b[38;5;241m.\u001b[39m_dataset_kind \u001b[38;5;241m==\u001b[39m _DatasetKind\u001b[38;5;241m.\u001b[39mIterable:\n\u001b[1;32m   1332\u001b[0m     \u001b[38;5;66;03m# Check for _IterableDatasetStopIteration\u001b[39;00m\n",
      "File \u001b[0;32m~/.conda/envs/torch2/lib/python3.10/site-packages/torch/utils/data/dataloader.py:1295\u001b[0m, in \u001b[0;36m_MultiProcessingDataLoaderIter._get_data\u001b[0;34m(self)\u001b[0m\n\u001b[1;32m   1291\u001b[0m     \u001b[38;5;66;03m# In this case, `self._data_queue` is a `queue.Queue`,. But we don't\u001b[39;00m\n\u001b[1;32m   1292\u001b[0m     \u001b[38;5;66;03m# need to call `.task_done()` because we don't use `.join()`.\u001b[39;00m\n\u001b[1;32m   1293\u001b[0m \u001b[38;5;28;01melse\u001b[39;00m:\n\u001b[1;32m   1294\u001b[0m     \u001b[38;5;28;01mwhile\u001b[39;00m \u001b[38;5;28;01mTrue\u001b[39;00m:\n\u001b[0;32m-> 1295\u001b[0m         success, data \u001b[38;5;241m=\u001b[39m \u001b[38;5;28;43mself\u001b[39;49m\u001b[38;5;241;43m.\u001b[39;49m\u001b[43m_try_get_data\u001b[49m\u001b[43m(\u001b[49m\u001b[43m)\u001b[49m\n\u001b[1;32m   1296\u001b[0m         \u001b[38;5;28;01mif\u001b[39;00m success:\n\u001b[1;32m   1297\u001b[0m             \u001b[38;5;28;01mreturn\u001b[39;00m data\n",
      "File \u001b[0;32m~/.conda/envs/torch2/lib/python3.10/site-packages/torch/utils/data/dataloader.py:1133\u001b[0m, in \u001b[0;36m_MultiProcessingDataLoaderIter._try_get_data\u001b[0;34m(self, timeout)\u001b[0m\n\u001b[1;32m   1120\u001b[0m \u001b[38;5;28;01mdef\u001b[39;00m \u001b[38;5;21m_try_get_data\u001b[39m(\u001b[38;5;28mself\u001b[39m, timeout\u001b[38;5;241m=\u001b[39m_utils\u001b[38;5;241m.\u001b[39mMP_STATUS_CHECK_INTERVAL):\n\u001b[1;32m   1121\u001b[0m     \u001b[38;5;66;03m# Tries to fetch data from `self._data_queue` once for a given timeout.\u001b[39;00m\n\u001b[1;32m   1122\u001b[0m     \u001b[38;5;66;03m# This can also be used as inner loop of fetching without timeout, with\u001b[39;00m\n\u001b[0;32m   (...)\u001b[0m\n\u001b[1;32m   1130\u001b[0m     \u001b[38;5;66;03m# Returns a 2-tuple:\u001b[39;00m\n\u001b[1;32m   1131\u001b[0m     \u001b[38;5;66;03m#   (bool: whether successfully get data, any: data if successful else None)\u001b[39;00m\n\u001b[1;32m   1132\u001b[0m     \u001b[38;5;28;01mtry\u001b[39;00m:\n\u001b[0;32m-> 1133\u001b[0m         data \u001b[38;5;241m=\u001b[39m \u001b[38;5;28;43mself\u001b[39;49m\u001b[38;5;241;43m.\u001b[39;49m\u001b[43m_data_queue\u001b[49m\u001b[38;5;241;43m.\u001b[39;49m\u001b[43mget\u001b[49m\u001b[43m(\u001b[49m\u001b[43mtimeout\u001b[49m\u001b[38;5;241;43m=\u001b[39;49m\u001b[43mtimeout\u001b[49m\u001b[43m)\u001b[49m\n\u001b[1;32m   1134\u001b[0m         \u001b[38;5;28;01mreturn\u001b[39;00m (\u001b[38;5;28;01mTrue\u001b[39;00m, data)\n\u001b[1;32m   1135\u001b[0m     \u001b[38;5;28;01mexcept\u001b[39;00m \u001b[38;5;167;01mException\u001b[39;00m \u001b[38;5;28;01mas\u001b[39;00m e:\n\u001b[1;32m   1136\u001b[0m         \u001b[38;5;66;03m# At timeout and error, we manually check whether any worker has\u001b[39;00m\n\u001b[1;32m   1137\u001b[0m         \u001b[38;5;66;03m# failed. Note that this is the only mechanism for Windows to detect\u001b[39;00m\n\u001b[1;32m   1138\u001b[0m         \u001b[38;5;66;03m# worker failures.\u001b[39;00m\n",
      "File \u001b[0;32m~/.conda/envs/torch2/lib/python3.10/multiprocessing/queues.py:113\u001b[0m, in \u001b[0;36mQueue.get\u001b[0;34m(self, block, timeout)\u001b[0m\n\u001b[1;32m    111\u001b[0m \u001b[38;5;28;01mif\u001b[39;00m block:\n\u001b[1;32m    112\u001b[0m     timeout \u001b[38;5;241m=\u001b[39m deadline \u001b[38;5;241m-\u001b[39m time\u001b[38;5;241m.\u001b[39mmonotonic()\n\u001b[0;32m--> 113\u001b[0m     \u001b[38;5;28;01mif\u001b[39;00m \u001b[38;5;129;01mnot\u001b[39;00m \u001b[38;5;28;43mself\u001b[39;49m\u001b[38;5;241;43m.\u001b[39;49m\u001b[43m_poll\u001b[49m\u001b[43m(\u001b[49m\u001b[43mtimeout\u001b[49m\u001b[43m)\u001b[49m:\n\u001b[1;32m    114\u001b[0m         \u001b[38;5;28;01mraise\u001b[39;00m Empty\n\u001b[1;32m    115\u001b[0m \u001b[38;5;28;01melif\u001b[39;00m \u001b[38;5;129;01mnot\u001b[39;00m \u001b[38;5;28mself\u001b[39m\u001b[38;5;241m.\u001b[39m_poll():\n",
      "File \u001b[0;32m~/.conda/envs/torch2/lib/python3.10/multiprocessing/connection.py:257\u001b[0m, in \u001b[0;36m_ConnectionBase.poll\u001b[0;34m(self, timeout)\u001b[0m\n\u001b[1;32m    255\u001b[0m \u001b[38;5;28mself\u001b[39m\u001b[38;5;241m.\u001b[39m_check_closed()\n\u001b[1;32m    256\u001b[0m \u001b[38;5;28mself\u001b[39m\u001b[38;5;241m.\u001b[39m_check_readable()\n\u001b[0;32m--> 257\u001b[0m \u001b[38;5;28;01mreturn\u001b[39;00m \u001b[38;5;28;43mself\u001b[39;49m\u001b[38;5;241;43m.\u001b[39;49m\u001b[43m_poll\u001b[49m\u001b[43m(\u001b[49m\u001b[43mtimeout\u001b[49m\u001b[43m)\u001b[49m\n",
      "File \u001b[0;32m~/.conda/envs/torch2/lib/python3.10/multiprocessing/connection.py:424\u001b[0m, in \u001b[0;36mConnection._poll\u001b[0;34m(self, timeout)\u001b[0m\n\u001b[1;32m    423\u001b[0m \u001b[38;5;28;01mdef\u001b[39;00m \u001b[38;5;21m_poll\u001b[39m(\u001b[38;5;28mself\u001b[39m, timeout):\n\u001b[0;32m--> 424\u001b[0m     r \u001b[38;5;241m=\u001b[39m \u001b[43mwait\u001b[49m\u001b[43m(\u001b[49m\u001b[43m[\u001b[49m\u001b[38;5;28;43mself\u001b[39;49m\u001b[43m]\u001b[49m\u001b[43m,\u001b[49m\u001b[43m \u001b[49m\u001b[43mtimeout\u001b[49m\u001b[43m)\u001b[49m\n\u001b[1;32m    425\u001b[0m     \u001b[38;5;28;01mreturn\u001b[39;00m \u001b[38;5;28mbool\u001b[39m(r)\n",
      "File \u001b[0;32m~/.conda/envs/torch2/lib/python3.10/multiprocessing/connection.py:931\u001b[0m, in \u001b[0;36mwait\u001b[0;34m(object_list, timeout)\u001b[0m\n\u001b[1;32m    928\u001b[0m     deadline \u001b[38;5;241m=\u001b[39m time\u001b[38;5;241m.\u001b[39mmonotonic() \u001b[38;5;241m+\u001b[39m timeout\n\u001b[1;32m    930\u001b[0m \u001b[38;5;28;01mwhile\u001b[39;00m \u001b[38;5;28;01mTrue\u001b[39;00m:\n\u001b[0;32m--> 931\u001b[0m     ready \u001b[38;5;241m=\u001b[39m \u001b[43mselector\u001b[49m\u001b[38;5;241;43m.\u001b[39;49m\u001b[43mselect\u001b[49m\u001b[43m(\u001b[49m\u001b[43mtimeout\u001b[49m\u001b[43m)\u001b[49m\n\u001b[1;32m    932\u001b[0m     \u001b[38;5;28;01mif\u001b[39;00m ready:\n\u001b[1;32m    933\u001b[0m         \u001b[38;5;28;01mreturn\u001b[39;00m [key\u001b[38;5;241m.\u001b[39mfileobj \u001b[38;5;28;01mfor\u001b[39;00m (key, events) \u001b[38;5;129;01min\u001b[39;00m ready]\n",
      "File \u001b[0;32m~/.conda/envs/torch2/lib/python3.10/selectors.py:416\u001b[0m, in \u001b[0;36m_PollLikeSelector.select\u001b[0;34m(self, timeout)\u001b[0m\n\u001b[1;32m    414\u001b[0m ready \u001b[38;5;241m=\u001b[39m []\n\u001b[1;32m    415\u001b[0m \u001b[38;5;28;01mtry\u001b[39;00m:\n\u001b[0;32m--> 416\u001b[0m     fd_event_list \u001b[38;5;241m=\u001b[39m \u001b[38;5;28;43mself\u001b[39;49m\u001b[38;5;241;43m.\u001b[39;49m\u001b[43m_selector\u001b[49m\u001b[38;5;241;43m.\u001b[39;49m\u001b[43mpoll\u001b[49m\u001b[43m(\u001b[49m\u001b[43mtimeout\u001b[49m\u001b[43m)\u001b[49m\n\u001b[1;32m    417\u001b[0m \u001b[38;5;28;01mexcept\u001b[39;00m \u001b[38;5;167;01mInterruptedError\u001b[39;00m:\n\u001b[1;32m    418\u001b[0m     \u001b[38;5;28;01mreturn\u001b[39;00m ready\n",
      "\u001b[0;31mKeyboardInterrupt\u001b[0m: "
     ]
    }
   ],
   "source": [
    "config_root = r\"/n/holylabs/LABS/alvarez_lab/Everyone/Accentuate_VVS/accentuation_configs\"\n",
    "subject_id = \"red_20250428-20250430\"\n",
    "config_dir = join(config_root, subject_id)\n",
    "config_files = sorted(glob.glob(join(config_dir, \"*.yaml\")))\n",
    "# chan_pattern = \"_Ch19_\"\n",
    "# config_pre_chan = [f for f in config_files if chan_pattern in f]\n",
    "# config_file = config_pre_chan[0]\n",
    "pred_resp_dict = {}\n",
    "df_acc_w_pred_resp = df_accentuated.copy()\n",
    "for config_file in config_files:\n",
    "    acc_config = yaml.safe_load(open(config_file))\n",
    "    unit_ids = acc_config['unit_ids']\n",
    "    assert len(unit_ids) == 1, \"Only one unit is supported for now\"\n",
    "    unit_ids = unit_ids[0]\n",
    "    model_name = acc_config['model_name']\n",
    "    population_predictor, target_unit_predictor, \\\n",
    "        model, transforms_pipeline, _, _, _ \\\n",
    "            = get_predictor_from_config(config_file, device=\"cuda\")\n",
    "    acc_img_chan_resp = get_prediction_responses(target_unit_predictor, transforms_pipeline, \n",
    "                                            df_accentuated[\"filepath\"])\n",
    "    pred_resp_dict[(model_name, unit_ids)] = acc_img_chan_resp.cpu().numpy()\n",
    "    df_acc_w_pred_resp[f\"pred_resp_{model_name}_unit_{unit_ids}\"] = acc_img_chan_resp.cpu().numpy()"
   ]
  },
  {
   "cell_type": "code",
   "execution_count": null,
   "metadata": {},
   "outputs": [],
   "source": [
    "posthoc_dir = f\"/n/holylabs/LABS/alvarez_lab/Lab/VVS_Accentuation/Encoding_models/{subject_id}/posthoc_model_predict\"\n",
    "os.makedirs(posthoc_dir, exist_ok=True)\n",
    "df_accentuated.to_pickle(join(posthoc_dir, f\"accentuated_stim_info_{subject_id}.pkl\"))\n",
    "df_accentuated.to_csv(join(posthoc_dir, f\"accentuated_stim_info_{subject_id}.csv\"))\n",
    "df_acc_w_pred_resp.to_pickle(join(posthoc_dir, f\"accentuated_stim_info_w_pred_resp_{subject_id}.pkl\"))\n",
    "pkl.dump(pred_resp_dict, open(join(posthoc_dir, f\"pred_resp_dict_{subject_id}.pkl\"), \"wb\"))"
   ]
  },
  {
   "cell_type": "markdown",
   "metadata": {},
   "source": []
  },
  {
   "cell_type": "code",
   "execution_count": 45,
   "metadata": {},
   "outputs": [],
   "source": [
    "posthoc_dir = f\"/n/holylabs/LABS/alvarez_lab/Lab/VVS_Accentuation/Encoding_models/{subject_id}/posthoc_model_predict\"\n",
    "os.makedirs(posthoc_dir, exist_ok=True)\n",
    "df_acc_w_pred_resp = pd.read_pickle(join(posthoc_dir, f\"accentuated_stim_info_w_pred_resp_{subject_id}.pkl\"))\n",
    "pred_resp_dict = pkl.load(open(join(posthoc_dir, f\"pred_resp_dict_{subject_id}.pkl\"), \"rb\"))"
   ]
  },
  {
   "cell_type": "code",
   "execution_count": 47,
   "metadata": {},
   "outputs": [
    {
     "data": {
      "text/html": [
       "<div>\n",
       "<style scoped>\n",
       "    .dataframe tbody tr th:only-of-type {\n",
       "        vertical-align: middle;\n",
       "    }\n",
       "\n",
       "    .dataframe tbody tr th {\n",
       "        vertical-align: top;\n",
       "    }\n",
       "\n",
       "    .dataframe thead th {\n",
       "        text-align: right;\n",
       "    }\n",
       "</style>\n",
       "<table border=\"1\" class=\"dataframe\">\n",
       "  <thead>\n",
       "    <tr style=\"text-align: right;\">\n",
       "      <th></th>\n",
       "      <th>model_name</th>\n",
       "      <th>unit_id</th>\n",
       "      <th>img_id</th>\n",
       "      <th>level</th>\n",
       "      <th>score</th>\n",
       "      <th>filepath</th>\n",
       "      <th>pred_resp_AlexNet_training_seed_01_unit_0</th>\n",
       "      <th>pred_resp_AlexNet_training_seed_01_unit_15</th>\n",
       "      <th>pred_resp_AlexNet_training_seed_01_unit_19</th>\n",
       "      <th>pred_resp_AlexNet_training_seed_01_unit_2</th>\n",
       "      <th>...</th>\n",
       "      <th>pred_resp_resnet50_robust_unit_0</th>\n",
       "      <th>pred_resp_resnet50_robust_unit_15</th>\n",
       "      <th>pred_resp_resnet50_robust_unit_19</th>\n",
       "      <th>pred_resp_resnet50_robust_unit_2</th>\n",
       "      <th>pred_resp_resnet50_robust_unit_9</th>\n",
       "      <th>pred_resp_siglip2_vitb16_unit_0</th>\n",
       "      <th>pred_resp_siglip2_vitb16_unit_15</th>\n",
       "      <th>pred_resp_siglip2_vitb16_unit_19</th>\n",
       "      <th>pred_resp_siglip2_vitb16_unit_2</th>\n",
       "      <th>pred_resp_siglip2_vitb16_unit_9</th>\n",
       "    </tr>\n",
       "  </thead>\n",
       "  <tbody>\n",
       "    <tr>\n",
       "      <th>0</th>\n",
       "      <td>AlexNet_training_seed_01</td>\n",
       "      <td>0</td>\n",
       "      <td>0</td>\n",
       "      <td>-0.228237</td>\n",
       "      <td>-0.221289</td>\n",
       "      <td>/n/holylabs/LABS/alvarez_lab/Everyone/Accentua...</td>\n",
       "      <td>-0.215352</td>\n",
       "      <td>-0.048412</td>\n",
       "      <td>-0.032983</td>\n",
       "      <td>0.312984</td>\n",
       "      <td>...</td>\n",
       "      <td>0.678680</td>\n",
       "      <td>0.822875</td>\n",
       "      <td>1.137569</td>\n",
       "      <td>1.059690</td>\n",
       "      <td>1.138820</td>\n",
       "      <td>0.177207</td>\n",
       "      <td>0.327468</td>\n",
       "      <td>0.359148</td>\n",
       "      <td>0.677599</td>\n",
       "      <td>0.348708</td>\n",
       "    </tr>\n",
       "    <tr>\n",
       "      <th>1</th>\n",
       "      <td>AlexNet_training_seed_01</td>\n",
       "      <td>0</td>\n",
       "      <td>0</td>\n",
       "      <td>-1.037346</td>\n",
       "      <td>-1.027856</td>\n",
       "      <td>/n/holylabs/LABS/alvarez_lab/Everyone/Accentua...</td>\n",
       "      <td>-1.030597</td>\n",
       "      <td>-0.547346</td>\n",
       "      <td>-0.718770</td>\n",
       "      <td>0.264506</td>\n",
       "      <td>...</td>\n",
       "      <td>0.666396</td>\n",
       "      <td>0.790431</td>\n",
       "      <td>1.157040</td>\n",
       "      <td>1.017175</td>\n",
       "      <td>1.147675</td>\n",
       "      <td>0.297980</td>\n",
       "      <td>0.394564</td>\n",
       "      <td>0.400089</td>\n",
       "      <td>0.560250</td>\n",
       "      <td>0.432954</td>\n",
       "    </tr>\n",
       "    <tr>\n",
       "      <th>2</th>\n",
       "      <td>AlexNet_training_seed_01</td>\n",
       "      <td>0</td>\n",
       "      <td>0</td>\n",
       "      <td>-1.846455</td>\n",
       "      <td>-1.838532</td>\n",
       "      <td>/n/holylabs/LABS/alvarez_lab/Everyone/Accentua...</td>\n",
       "      <td>-1.840062</td>\n",
       "      <td>-1.077613</td>\n",
       "      <td>-1.406070</td>\n",
       "      <td>0.208471</td>\n",
       "      <td>...</td>\n",
       "      <td>0.626149</td>\n",
       "      <td>0.732566</td>\n",
       "      <td>1.169050</td>\n",
       "      <td>0.938542</td>\n",
       "      <td>1.145592</td>\n",
       "      <td>0.301777</td>\n",
       "      <td>0.365760</td>\n",
       "      <td>0.453462</td>\n",
       "      <td>0.503688</td>\n",
       "      <td>0.471211</td>\n",
       "    </tr>\n",
       "    <tr>\n",
       "      <th>3</th>\n",
       "      <td>AlexNet_training_seed_01</td>\n",
       "      <td>0</td>\n",
       "      <td>0</td>\n",
       "      <td>0.580873</td>\n",
       "      <td>0.572135</td>\n",
       "      <td>/n/holylabs/LABS/alvarez_lab/Everyone/Accentua...</td>\n",
       "      <td>0.580558</td>\n",
       "      <td>0.408522</td>\n",
       "      <td>0.621783</td>\n",
       "      <td>0.270804</td>\n",
       "      <td>...</td>\n",
       "      <td>0.664914</td>\n",
       "      <td>0.816001</td>\n",
       "      <td>1.122917</td>\n",
       "      <td>1.029036</td>\n",
       "      <td>1.127711</td>\n",
       "      <td>0.121254</td>\n",
       "      <td>0.343337</td>\n",
       "      <td>0.375945</td>\n",
       "      <td>0.712595</td>\n",
       "      <td>0.344175</td>\n",
       "    </tr>\n",
       "    <tr>\n",
       "      <th>4</th>\n",
       "      <td>AlexNet_training_seed_01</td>\n",
       "      <td>0</td>\n",
       "      <td>0</td>\n",
       "      <td>1.389982</td>\n",
       "      <td>1.380919</td>\n",
       "      <td>/n/holylabs/LABS/alvarez_lab/Everyone/Accentua...</td>\n",
       "      <td>1.389751</td>\n",
       "      <td>0.828179</td>\n",
       "      <td>1.236538</td>\n",
       "      <td>0.221984</td>\n",
       "      <td>...</td>\n",
       "      <td>0.650314</td>\n",
       "      <td>0.816000</td>\n",
       "      <td>1.163512</td>\n",
       "      <td>0.985825</td>\n",
       "      <td>1.166690</td>\n",
       "      <td>0.219089</td>\n",
       "      <td>0.379959</td>\n",
       "      <td>0.363606</td>\n",
       "      <td>0.496675</td>\n",
       "      <td>0.362347</td>\n",
       "    </tr>\n",
       "    <tr>\n",
       "      <th>...</th>\n",
       "      <td>...</td>\n",
       "      <td>...</td>\n",
       "      <td>...</td>\n",
       "      <td>...</td>\n",
       "      <td>...</td>\n",
       "      <td>...</td>\n",
       "      <td>...</td>\n",
       "      <td>...</td>\n",
       "      <td>...</td>\n",
       "      <td>...</td>\n",
       "      <td>...</td>\n",
       "      <td>...</td>\n",
       "      <td>...</td>\n",
       "      <td>...</td>\n",
       "      <td>...</td>\n",
       "      <td>...</td>\n",
       "      <td>...</td>\n",
       "      <td>...</td>\n",
       "      <td>...</td>\n",
       "      <td>...</td>\n",
       "      <td>...</td>\n",
       "    </tr>\n",
       "    <tr>\n",
       "      <th>5495</th>\n",
       "      <td>siglip2_vitb16</td>\n",
       "      <td>9</td>\n",
       "      <td>9</td>\n",
       "      <td>2.701443</td>\n",
       "      <td>2.691693</td>\n",
       "      <td>/n/holylabs/LABS/alvarez_lab/Everyone/Accentua...</td>\n",
       "      <td>0.675457</td>\n",
       "      <td>0.179394</td>\n",
       "      <td>0.570379</td>\n",
       "      <td>-0.125893</td>\n",
       "      <td>...</td>\n",
       "      <td>0.408323</td>\n",
       "      <td>0.443555</td>\n",
       "      <td>0.057397</td>\n",
       "      <td>0.191934</td>\n",
       "      <td>0.037918</td>\n",
       "      <td>2.072134</td>\n",
       "      <td>1.186616</td>\n",
       "      <td>2.423980</td>\n",
       "      <td>0.319658</td>\n",
       "      <td>2.686192</td>\n",
       "    </tr>\n",
       "    <tr>\n",
       "      <th>5496</th>\n",
       "      <td>siglip2_vitb16</td>\n",
       "      <td>9</td>\n",
       "      <td>9</td>\n",
       "      <td>3.442825</td>\n",
       "      <td>3.434636</td>\n",
       "      <td>/n/holylabs/LABS/alvarez_lab/Everyone/Accentua...</td>\n",
       "      <td>0.496783</td>\n",
       "      <td>0.132663</td>\n",
       "      <td>0.397479</td>\n",
       "      <td>-0.125035</td>\n",
       "      <td>...</td>\n",
       "      <td>0.405369</td>\n",
       "      <td>0.433399</td>\n",
       "      <td>0.042641</td>\n",
       "      <td>0.194160</td>\n",
       "      <td>0.029552</td>\n",
       "      <td>2.505370</td>\n",
       "      <td>1.492182</td>\n",
       "      <td>3.184868</td>\n",
       "      <td>0.360922</td>\n",
       "      <td>3.430079</td>\n",
       "    </tr>\n",
       "    <tr>\n",
       "      <th>5497</th>\n",
       "      <td>siglip2_vitb16</td>\n",
       "      <td>9</td>\n",
       "      <td>9</td>\n",
       "      <td>4.184206</td>\n",
       "      <td>4.180340</td>\n",
       "      <td>/n/holylabs/LABS/alvarez_lab/Everyone/Accentua...</td>\n",
       "      <td>0.514549</td>\n",
       "      <td>0.225759</td>\n",
       "      <td>0.436111</td>\n",
       "      <td>-0.121330</td>\n",
       "      <td>...</td>\n",
       "      <td>0.413317</td>\n",
       "      <td>0.419002</td>\n",
       "      <td>0.027742</td>\n",
       "      <td>0.201799</td>\n",
       "      <td>0.020518</td>\n",
       "      <td>2.701764</td>\n",
       "      <td>1.564144</td>\n",
       "      <td>3.877917</td>\n",
       "      <td>0.409598</td>\n",
       "      <td>4.169995</td>\n",
       "    </tr>\n",
       "    <tr>\n",
       "      <th>5498</th>\n",
       "      <td>siglip2_vitb16</td>\n",
       "      <td>9</td>\n",
       "      <td>9</td>\n",
       "      <td>4.925587</td>\n",
       "      <td>4.921776</td>\n",
       "      <td>/n/holylabs/LABS/alvarez_lab/Everyone/Accentua...</td>\n",
       "      <td>0.305701</td>\n",
       "      <td>-0.034255</td>\n",
       "      <td>0.171149</td>\n",
       "      <td>-0.112103</td>\n",
       "      <td>...</td>\n",
       "      <td>0.370868</td>\n",
       "      <td>0.370514</td>\n",
       "      <td>-0.012873</td>\n",
       "      <td>0.205893</td>\n",
       "      <td>-0.012511</td>\n",
       "      <td>3.149135</td>\n",
       "      <td>1.826766</td>\n",
       "      <td>4.706793</td>\n",
       "      <td>0.256107</td>\n",
       "      <td>4.929672</td>\n",
       "    </tr>\n",
       "    <tr>\n",
       "      <th>5499</th>\n",
       "      <td>siglip2_vitb16</td>\n",
       "      <td>9</td>\n",
       "      <td>9</td>\n",
       "      <td>5.666968</td>\n",
       "      <td>5.657128</td>\n",
       "      <td>/n/holylabs/LABS/alvarez_lab/Everyone/Accentua...</td>\n",
       "      <td>0.195528</td>\n",
       "      <td>0.101603</td>\n",
       "      <td>0.184035</td>\n",
       "      <td>-0.134632</td>\n",
       "      <td>...</td>\n",
       "      <td>0.358734</td>\n",
       "      <td>0.345463</td>\n",
       "      <td>-0.033911</td>\n",
       "      <td>0.190913</td>\n",
       "      <td>-0.031214</td>\n",
       "      <td>3.402702</td>\n",
       "      <td>2.149546</td>\n",
       "      <td>5.396996</td>\n",
       "      <td>0.236318</td>\n",
       "      <td>5.663766</td>\n",
       "    </tr>\n",
       "  </tbody>\n",
       "</table>\n",
       "<p>5500 rows × 56 columns</p>\n",
       "</div>"
      ],
      "text/plain": [
       "                    model_name  unit_id  img_id     level     score  \\\n",
       "0     AlexNet_training_seed_01        0       0 -0.228237 -0.221289   \n",
       "1     AlexNet_training_seed_01        0       0 -1.037346 -1.027856   \n",
       "2     AlexNet_training_seed_01        0       0 -1.846455 -1.838532   \n",
       "3     AlexNet_training_seed_01        0       0  0.580873  0.572135   \n",
       "4     AlexNet_training_seed_01        0       0  1.389982  1.380919   \n",
       "...                        ...      ...     ...       ...       ...   \n",
       "5495            siglip2_vitb16        9       9  2.701443  2.691693   \n",
       "5496            siglip2_vitb16        9       9  3.442825  3.434636   \n",
       "5497            siglip2_vitb16        9       9  4.184206  4.180340   \n",
       "5498            siglip2_vitb16        9       9  4.925587  4.921776   \n",
       "5499            siglip2_vitb16        9       9  5.666968  5.657128   \n",
       "\n",
       "                                               filepath  \\\n",
       "0     /n/holylabs/LABS/alvarez_lab/Everyone/Accentua...   \n",
       "1     /n/holylabs/LABS/alvarez_lab/Everyone/Accentua...   \n",
       "2     /n/holylabs/LABS/alvarez_lab/Everyone/Accentua...   \n",
       "3     /n/holylabs/LABS/alvarez_lab/Everyone/Accentua...   \n",
       "4     /n/holylabs/LABS/alvarez_lab/Everyone/Accentua...   \n",
       "...                                                 ...   \n",
       "5495  /n/holylabs/LABS/alvarez_lab/Everyone/Accentua...   \n",
       "5496  /n/holylabs/LABS/alvarez_lab/Everyone/Accentua...   \n",
       "5497  /n/holylabs/LABS/alvarez_lab/Everyone/Accentua...   \n",
       "5498  /n/holylabs/LABS/alvarez_lab/Everyone/Accentua...   \n",
       "5499  /n/holylabs/LABS/alvarez_lab/Everyone/Accentua...   \n",
       "\n",
       "      pred_resp_AlexNet_training_seed_01_unit_0  \\\n",
       "0                                     -0.215352   \n",
       "1                                     -1.030597   \n",
       "2                                     -1.840062   \n",
       "3                                      0.580558   \n",
       "4                                      1.389751   \n",
       "...                                         ...   \n",
       "5495                                   0.675457   \n",
       "5496                                   0.496783   \n",
       "5497                                   0.514549   \n",
       "5498                                   0.305701   \n",
       "5499                                   0.195528   \n",
       "\n",
       "      pred_resp_AlexNet_training_seed_01_unit_15  \\\n",
       "0                                      -0.048412   \n",
       "1                                      -0.547346   \n",
       "2                                      -1.077613   \n",
       "3                                       0.408522   \n",
       "4                                       0.828179   \n",
       "...                                          ...   \n",
       "5495                                    0.179394   \n",
       "5496                                    0.132663   \n",
       "5497                                    0.225759   \n",
       "5498                                   -0.034255   \n",
       "5499                                    0.101603   \n",
       "\n",
       "      pred_resp_AlexNet_training_seed_01_unit_19  \\\n",
       "0                                      -0.032983   \n",
       "1                                      -0.718770   \n",
       "2                                      -1.406070   \n",
       "3                                       0.621783   \n",
       "4                                       1.236538   \n",
       "...                                          ...   \n",
       "5495                                    0.570379   \n",
       "5496                                    0.397479   \n",
       "5497                                    0.436111   \n",
       "5498                                    0.171149   \n",
       "5499                                    0.184035   \n",
       "\n",
       "      pred_resp_AlexNet_training_seed_01_unit_2  ...  \\\n",
       "0                                      0.312984  ...   \n",
       "1                                      0.264506  ...   \n",
       "2                                      0.208471  ...   \n",
       "3                                      0.270804  ...   \n",
       "4                                      0.221984  ...   \n",
       "...                                         ...  ...   \n",
       "5495                                  -0.125893  ...   \n",
       "5496                                  -0.125035  ...   \n",
       "5497                                  -0.121330  ...   \n",
       "5498                                  -0.112103  ...   \n",
       "5499                                  -0.134632  ...   \n",
       "\n",
       "      pred_resp_resnet50_robust_unit_0  pred_resp_resnet50_robust_unit_15  \\\n",
       "0                             0.678680                           0.822875   \n",
       "1                             0.666396                           0.790431   \n",
       "2                             0.626149                           0.732566   \n",
       "3                             0.664914                           0.816001   \n",
       "4                             0.650314                           0.816000   \n",
       "...                                ...                                ...   \n",
       "5495                          0.408323                           0.443555   \n",
       "5496                          0.405369                           0.433399   \n",
       "5497                          0.413317                           0.419002   \n",
       "5498                          0.370868                           0.370514   \n",
       "5499                          0.358734                           0.345463   \n",
       "\n",
       "      pred_resp_resnet50_robust_unit_19  pred_resp_resnet50_robust_unit_2  \\\n",
       "0                              1.137569                          1.059690   \n",
       "1                              1.157040                          1.017175   \n",
       "2                              1.169050                          0.938542   \n",
       "3                              1.122917                          1.029036   \n",
       "4                              1.163512                          0.985825   \n",
       "...                                 ...                               ...   \n",
       "5495                           0.057397                          0.191934   \n",
       "5496                           0.042641                          0.194160   \n",
       "5497                           0.027742                          0.201799   \n",
       "5498                          -0.012873                          0.205893   \n",
       "5499                          -0.033911                          0.190913   \n",
       "\n",
       "      pred_resp_resnet50_robust_unit_9  pred_resp_siglip2_vitb16_unit_0  \\\n",
       "0                             1.138820                         0.177207   \n",
       "1                             1.147675                         0.297980   \n",
       "2                             1.145592                         0.301777   \n",
       "3                             1.127711                         0.121254   \n",
       "4                             1.166690                         0.219089   \n",
       "...                                ...                              ...   \n",
       "5495                          0.037918                         2.072134   \n",
       "5496                          0.029552                         2.505370   \n",
       "5497                          0.020518                         2.701764   \n",
       "5498                         -0.012511                         3.149135   \n",
       "5499                         -0.031214                         3.402702   \n",
       "\n",
       "      pred_resp_siglip2_vitb16_unit_15  pred_resp_siglip2_vitb16_unit_19  \\\n",
       "0                             0.327468                          0.359148   \n",
       "1                             0.394564                          0.400089   \n",
       "2                             0.365760                          0.453462   \n",
       "3                             0.343337                          0.375945   \n",
       "4                             0.379959                          0.363606   \n",
       "...                                ...                               ...   \n",
       "5495                          1.186616                          2.423980   \n",
       "5496                          1.492182                          3.184868   \n",
       "5497                          1.564144                          3.877917   \n",
       "5498                          1.826766                          4.706793   \n",
       "5499                          2.149546                          5.396996   \n",
       "\n",
       "      pred_resp_siglip2_vitb16_unit_2  pred_resp_siglip2_vitb16_unit_9  \n",
       "0                            0.677599                         0.348708  \n",
       "1                            0.560250                         0.432954  \n",
       "2                            0.503688                         0.471211  \n",
       "3                            0.712595                         0.344175  \n",
       "4                            0.496675                         0.362347  \n",
       "...                               ...                              ...  \n",
       "5495                         0.319658                         2.686192  \n",
       "5496                         0.360922                         3.430079  \n",
       "5497                         0.409598                         4.169995  \n",
       "5498                         0.256107                         4.929672  \n",
       "5499                         0.236318                         5.663766  \n",
       "\n",
       "[5500 rows x 56 columns]"
      ]
     },
     "execution_count": 47,
     "metadata": {},
     "output_type": "execute_result"
    }
   ],
   "source": [
    "df_acc_w_pred_resp"
   ]
  },
  {
   "cell_type": "code",
   "execution_count": null,
   "metadata": {},
   "outputs": [],
   "source": []
  },
  {
   "cell_type": "markdown",
   "metadata": {},
   "source": [
    "### Old code"
   ]
  },
  {
   "cell_type": "code",
   "execution_count": null,
   "metadata": {},
   "outputs": [],
   "source": [
    "# \"vvs-accentuate-day1_normalize_red_20241212-20241220.h5\" # day 1 neural data\n",
    "# \"vvs_accentuate_day3_normalize_red_20250123-20250126.hdf5\" # day 3 neural data \n",
    "# \"/n/holylabs/LABS/alvarez_lab/Lab/VVS_Accentuation/Stimuli/results_12-01-2025\" # generated accentuated stimuli  \n",
    "\n",
    "# stimuli_root = \"/n/holylabs/LABS/alvarez_lab/Lab/VVS_Accentuation/Stimuli\"\n",
    "# ephys_root = \"/n/holylabs/LABS/alvarez_lab/Lab/VVS_Accentuation/Ephys_Data\"\n",
    "\n",
    "# datapath_day1 = join(ephys_root, \"vvs-accentuate-day1_normalize_red_20241212-20241220.h5\")\n",
    "# datapath_day3 = join(ephys_root, \"vvs_accentuate_day3_normalize_red_20250123-20250126.hdf5\")\n",
    "\n",
    "# imgdir_shared = join(stimuli_root, \"shared1000\")\n",
    "# imgdir_day1 = join(stimuli_root, \"stimuli_pilot_20241119/results\")\n",
    "# imgdir_day3 = join(stimuli_root, \"results_12-01-2025\")"
   ]
  },
  {
   "cell_type": "code",
   "execution_count": null,
   "metadata": {},
   "outputs": [],
   "source": [
    "# # data_fulldict_day1 = load_from_hdf5(datapath_day1,)\n",
    "# # data_fulldict_day3 = load_from_hdf5(datapath_day3,)\n",
    "# subject_id1 = \"red_20241212-20241220\"\n",
    "# subject_id3 = \"red_20250123-20250126\"\n",
    "# data_dict_day1 = load_neural_data(datapath_day1, subject_id1, None)\n",
    "# data_dict_day3 = load_neural_data(datapath_day3, subject_id3, None)"
   ]
  },
  {
   "cell_type": "code",
   "execution_count": null,
   "metadata": {},
   "outputs": [
    {
     "name": "stdout",
     "output_type": "stream",
     "text": [
      "All stimulus files were found\n",
      "All stimulus files were found\n"
     ]
    }
   ],
   "source": [
    "# data_dict_day1[\"image_fps\"] = parse_image_fullpaths(data_dict_day1[\"stimulus_names\"], [imgdir_shared, imgdir_day1])\n",
    "# data_dict_day3[\"image_fps\"] = parse_image_fullpaths(data_dict_day3[\"stimulus_names\"], [imgdir_shared, imgdir_day3])"
   ]
  },
  {
   "cell_type": "markdown",
   "metadata": {},
   "source": [
    "### Model loading"
   ]
  },
  {
   "cell_type": "code",
   "execution_count": null,
   "metadata": {},
   "outputs": [],
   "source": [
    "encoding_root = r\"/n/holylabs/LABS/alvarez_lab/Lab/VVS_Accentuation/Encoding_model_outputs\"\n",
    "encoding_dir = join(encoding_root, \"red_20241212-20241220\")"
   ]
  },
  {
   "cell_type": "code",
   "execution_count": null,
   "metadata": {},
   "outputs": [],
   "source": [
    "subject_id = \"red_20241212-20241220\"\n",
    "model_name = \"resnet50\"\n",
    "layer_name = \".layer4.Bottleneck1\"\n",
    "dimred_str = \"pca1000\"\n",
    "regressor = \"MultiTaskLassoCV\"\n",
    "meta_path = f\"{subject_id}_{model_name}_meta_{layer_name}_{dimred_str}_{regressor}.pkl\"\n",
    "readout_path = f\"{subject_id}_{model_name}_readout_{layer_name}_{dimred_str}_{regressor}.pth\"\n",
    "Xtransform_path = f\"{subject_id}_{model_name}_Xtfmer_{layer_name}_{dimred_str}_{regressor}.pkl\""
   ]
  },
  {
   "cell_type": "code",
   "execution_count": null,
   "metadata": {},
   "outputs": [],
   "source": [
    "def check_gradient(objective_fn):\n",
    "    \"\"\"Check if gradients can flow through the objective function.\"\"\"\n",
    "    img_opt = th.randn(1, 3, 224, 224).cuda()\n",
    "    img_opt.requires_grad_(True)\n",
    "    resp = objective_fn(img_opt)\n",
    "    resp.mean().backward()\n",
    "    print(resp.shape)\n",
    "    assert img_opt.grad is not None\n",
    "\n",
    "\n",
    "def get_population_predictor_compact(subject_id=\"red_20241212-20241220\",\n",
    "                            model_name=\"resnet50\",\n",
    "                            layer_name=\".layer4.Bottleneck1\",\n",
    "                            dimred_str=\"pca1000\",\n",
    "                            regressor=\"MultiTaskLassoCV\", device=\"cuda\"):\n",
    "    \"\"\"Create a function that predicts neural population responses for images.\n",
    "    \n",
    "    Args:\n",
    "        subject_id (str): ID of the subject\n",
    "        modelname (str): Name of the model to use (e.g. \"resnet50_robust\") \n",
    "        layer_name (str): Name of layer to extract features from\n",
    "        device (str): Device to run model on (\"cuda\" or \"cpu\")\n",
    "        \n",
    "    Returns:\n",
    "        function: A function that takes images as input and returns predicted population responses\n",
    "    \"\"\"\n",
    "    # Construct paths\n",
    "    \n",
    "    model_root = f\"/n/holylabs/LABS/alvarez_lab/Lab/VVS_Accentuation/Encoding_model_outputs/red_20241212-20241220\"\n",
    "    meta_path = join(model_root, f\"{subject_id}_{model_name}_meta_{layer_name}_{dimred_str}_{regressor}.pkl\")\n",
    "    readout_path = join(model_root, f\"{subject_id}_{model_name}_readout_{layer_name}_{dimred_str}_{regressor}.pth\")\n",
    "    Xtransform_path = join(model_root, f\"{subject_id}_{model_name}_Xtfmer_{layer_name}_{dimred_str}_{regressor}.pkl\")\n",
    "    key = (f'{layer_name}_{dimred_str}', regressor)\n",
    "    # readout_path = join(base_path, f\"{subject_id}_{modelname}_sweep_regressors_readout_RidgeCV_{key[0]}.pth\")\n",
    "    # Xtransform_path = join(base_path, f\"{subject_id}_{modelname}_sweep_regressors_Xtfmer_RidgeCV_{key[0]}.pkl\")\n",
    "    \n",
    "    # Load model and set up feature extraction\n",
    "    model, transforms_pipeline = load_model_transform(model_name, device=device)\n",
    "    model = model.eval().to(device)\n",
    "    model.requires_grad_(False)\n",
    "    fetcher = featureFetcher(model, input_size=(3, 224, 224), print_module=False)\n",
    "    fetcher.record(layer_name, ingraph=True, store_device=device)\n",
    "\n",
    "    # Load readout layer\n",
    "    state_dict = th.load(readout_path)\n",
    "    readout = nn.Linear(state_dict['weight'].shape[1], state_dict['weight'].shape[0], bias=True).to(device)\n",
    "    readout.load_state_dict(state_dict)\n",
    "    \n",
    "    # Load PCA transform\n",
    "    pca = pkl.load(open(Xtransform_path, \"rb\"))\n",
    "    Xtransform = PCA_torch(pca, device=device)\n",
    "\n",
    "    def predict_population_response(images):\n",
    "        \"\"\"Predict neural population responses for input images.\n",
    "        \n",
    "        Args:\n",
    "            images (torch.Tensor): Input images of shape (batch_size, 3, 224, 224)\n",
    "            \n",
    "        Returns:\n",
    "            torch.Tensor: Predicted neural responses\n",
    "        \"\"\"\n",
    "        model(images)\n",
    "        feat_tsr = fetcher[layer_name]\n",
    "        feat_vec = Xtransform(feat_tsr)\n",
    "        return readout(feat_vec)\n",
    "\n",
    "    check_gradient(predict_population_response)\n",
    "    print(\"Gradient check passed!\")\n",
    "    return predict_population_response, model, transforms_pipeline, fetcher, Xtransform, readout"
   ]
  },
  {
   "cell_type": "code",
   "execution_count": null,
   "metadata": {},
   "outputs": [
    {
     "name": "stderr",
     "output_type": "stream",
     "text": [
      "/n/home12/binxuwang/.conda/envs/torch2/lib/python3.10/site-packages/torchvision/models/_utils.py:208: UserWarning: The parameter 'pretrained' is deprecated since 0.13 and may be removed in the future, please use 'weights' instead.\n",
      "  warnings.warn(\n",
      "/n/home12/binxuwang/.conda/envs/torch2/lib/python3.10/site-packages/torchvision/models/_utils.py:223: UserWarning: Arguments other than a weight enum or `None` for 'weights' are deprecated since 0.13 and may be removed in the future. The current behavior is equivalent to passing `weights=ResNet50_Weights.IMAGENET1K_V1`. You can also use `weights=ResNet50_Weights.DEFAULT` to get the most up-to-date weights.\n",
      "  warnings.warn(msg)\n"
     ]
    },
    {
     "name": "stdout",
     "output_type": "stream",
     "text": [
      "torch.Size([1, 64])\n",
      "Gradient check passed!\n",
      "torch.Size([1, 64])\n",
      "Gradient check passed!\n"
     ]
    },
    {
     "name": "stderr",
     "output_type": "stream",
     "text": [
      "/n/home12/binxuwang/.conda/envs/torch2/lib/python3.10/site-packages/torchvision/models/_utils.py:223: UserWarning: Arguments other than a weight enum or `None` for 'weights' are deprecated since 0.13 and may be removed in the future. The current behavior is equivalent to passing `weights=None`.\n",
      "  warnings.warn(msg)\n"
     ]
    },
    {
     "name": "stdout",
     "output_type": "stream",
     "text": [
      "torch.Size([1, 64])\n",
      "Gradient check passed!\n",
      "torch.Size([1, 64])\n",
      "Gradient check passed!\n"
     ]
    }
   ],
   "source": [
    "layer_name = \".layer4.Bottleneck1\"\n",
    "dimred_str = \"pca1000\"\n",
    "pred_fn_RN50_Lasso, model_RNLasso, transforms_pipeline, _, _, _ = get_population_predictor(model_name=\"resnet50\", regressor=\"MultiTaskLassoCV\", )\n",
    "pred_fn_RN50_Ridge, model_RNRidge, transforms_pipeline, _, _, _ = get_population_predictor(model_name=\"resnet50\", regressor=\"RidgeCV\", )\n",
    "pred_fn_RN50robust_Lasso, model_RNrbstLasso, transforms_pipeline_rbst, _, _, _ = get_population_predictor(model_name=\"resnet50_robust\", regressor=\"MultiTaskLassoCV\", )\n",
    "pred_fn_RN50robust_Ridge, model_RNrbstRidge, transforms_pipeline_rbst, _, _, _ = get_population_predictor(model_name=\"resnet50_robust\", regressor=\"RidgeCV\", )"
   ]
  },
  {
   "cell_type": "code",
   "execution_count": null,
   "metadata": {},
   "outputs": [],
   "source": []
  },
  {
   "cell_type": "code",
   "execution_count": null,
   "metadata": {},
   "outputs": [],
   "source": []
  },
  {
   "cell_type": "code",
   "execution_count": null,
   "metadata": {},
   "outputs": [],
   "source": [
    "dataset_day1 = ImagePathDataset(data_dict_day1[\"image_fps\"])\n",
    "dataloader_day1 = DataLoader(dataset_day1, batch_size=100, shuffle=False, num_workers=10)\n",
    "dataset_day3 = ImagePathDataset(data_dict_day3[\"image_fps\"])\n",
    "dataloader_day3 = DataLoader(dataset_day3, batch_size=100, shuffle=False, num_workers=10)"
   ]
  },
  {
   "cell_type": "code",
   "execution_count": null,
   "metadata": {},
   "outputs": [
    {
     "name": "stdout",
     "output_type": "stream",
     "text": [
      "The (227, 227) setting is overwritten by the size in custom transform\n"
     ]
    },
    {
     "data": {
      "application/vnd.jupyter.widget-view+json": {
       "model_id": "3f7a181948a24bc7a87296dcc39c30ef",
       "version_major": 2,
       "version_minor": 0
      },
      "text/plain": [
       "  0%|          | 0/35 [00:00<?, ?it/s]"
      ]
     },
     "metadata": {},
     "output_type": "display_data"
    },
    {
     "name": "stderr",
     "output_type": "stream",
     "text": [
      "Exception ignored in: <function _MultiProcessingDataLoaderIter.__del__ at 0x14994a833ac0>\n",
      "Exception ignored in: <function _MultiProcessingDataLoaderIter.__del__ at 0x14994a833ac0>Traceback (most recent call last):\n",
      "  File \"/n/home12/binxuwang/.conda/envs/torch2/lib/python3.10/site-packages/torch/utils/data/dataloader.py\", line 1479, in __del__\n",
      "\n",
      "Exception ignored in: Traceback (most recent call last):\n",
      "    <function _MultiProcessingDataLoaderIter.__del__ at 0x14994a833ac0>  File \"/n/home12/binxuwang/.conda/envs/torch2/lib/python3.10/site-packages/torch/utils/data/dataloader.py\", line 1479, in __del__\n",
      "self._shutdown_workers()\n",
      "\n",
      "Traceback (most recent call last):\n",
      "  File \"/n/home12/binxuwang/.conda/envs/torch2/lib/python3.10/site-packages/torch/utils/data/dataloader.py\", line 1462, in _shutdown_workers\n",
      "      File \"/n/home12/binxuwang/.conda/envs/torch2/lib/python3.10/site-packages/torch/utils/data/dataloader.py\", line 1479, in __del__\n",
      "self._shutdown_workers()    \n",
      "    if w.is_alive():  File \"/n/home12/binxuwang/.conda/envs/torch2/lib/python3.10/site-packages/torch/utils/data/dataloader.py\", line 1462, in _shutdown_workers\n",
      "\n",
      "self._shutdown_workers()  File \"/n/home12/binxuwang/.conda/envs/torch2/lib/python3.10/multiprocessing/process.py\", line 160, in is_alive\n",
      "    \n",
      "  File \"/n/home12/binxuwang/.conda/envs/torch2/lib/python3.10/site-packages/torch/utils/data/dataloader.py\", line 1462, in _shutdown_workers\n",
      "if w.is_alive():    \n",
      "      File \"/n/home12/binxuwang/.conda/envs/torch2/lib/python3.10/multiprocessing/process.py\", line 160, in is_alive\n",
      "assert self._parent_pid == os.getpid(), 'can only test a child process'\n",
      "if w.is_alive():AssertionError\n",
      "Exception ignored in:       File \"/n/home12/binxuwang/.conda/envs/torch2/lib/python3.10/multiprocessing/process.py\", line 160, in is_alive\n",
      ": <function _MultiProcessingDataLoaderIter.__del__ at 0x14994a833ac0>assert self._parent_pid == os.getpid(), 'can only test a child process'    \n",
      "can only test a child processassert self._parent_pid == os.getpid(), 'can only test a child process'\n",
      "\n",
      "AssertionError\n",
      ": AssertionErrorTraceback (most recent call last):\n",
      "  File \"/n/home12/binxuwang/.conda/envs/torch2/lib/python3.10/site-packages/torch/utils/data/dataloader.py\", line 1479, in __del__\n",
      ": can only test a child process    can only test a child processself._shutdown_workers()\n",
      "\n",
      "\n",
      "  File \"/n/home12/binxuwang/.conda/envs/torch2/lib/python3.10/site-packages/torch/utils/data/dataloader.py\", line 1462, in _shutdown_workers\n",
      "    if w.is_alive():\n",
      "  File \"/n/home12/binxuwang/.conda/envs/torch2/lib/python3.10/multiprocessing/process.py\", line 160, in is_alive\n",
      "    assert self._parent_pid == os.getpid(), 'can only test a child process'\n",
      "AssertionError: can only test a child process\n",
      "Exception ignored in: <function _MultiProcessingDataLoaderIter.__del__ at 0x14994a833ac0>\n",
      "Traceback (most recent call last):\n",
      "  File \"/n/home12/binxuwang/.conda/envs/torch2/lib/python3.10/site-packages/torch/utils/data/dataloader.py\", line 1479, in __del__\n",
      "    self._shutdown_workers()\n",
      "  File \"/n/home12/binxuwang/.conda/envs/torch2/lib/python3.10/site-packages/torch/utils/data/dataloader.py\", line 1462, in _shutdown_workers\n",
      "    if w.is_alive():\n",
      "  File \"/n/home12/binxuwang/.conda/envs/torch2/lib/python3.10/multiprocessing/process.py\", line 160, in is_alive\n",
      "    assert self._parent_pid == os.getpid(), 'can only test a child process'\n",
      "AssertionError: can only test a child process\n",
      "Exception ignored in: <function _MultiProcessingDataLoaderIter.__del__ at 0x14994a833ac0>\n",
      "Traceback (most recent call last):\n",
      "  File \"/n/home12/binxuwang/.conda/envs/torch2/lib/python3.10/site-packages/torch/utils/data/dataloader.py\", line 1479, in __del__\n",
      "    self._shutdown_workers()\n",
      "  File \"/n/home12/binxuwang/.conda/envs/torch2/lib/python3.10/site-packages/torch/utils/data/dataloader.py\", line 1462, in _shutdown_workers\n",
      "    if w.is_alive():\n",
      "  File \"/n/home12/binxuwang/.conda/envs/torch2/lib/python3.10/multiprocessing/process.py\", line 160, in is_alive\n",
      "    assert self._parent_pid == os.getpid(), 'can only test a child process'\n",
      "AssertionError: can only test a child process\n",
      "Exception ignored in: <function _MultiProcessingDataLoaderIter.__del__ at 0x14994a833ac0>\n",
      "Traceback (most recent call last):\n",
      "  File \"/n/home12/binxuwang/.conda/envs/torch2/lib/python3.10/site-packages/torch/utils/data/dataloader.py\", line 1479, in __del__\n",
      "    self._shutdown_workers()\n",
      "  File \"/n/home12/binxuwang/.conda/envs/torch2/lib/python3.10/site-packages/torch/utils/data/dataloader.py\", line 1462, in _shutdown_workers\n",
      "    if w.is_alive():\n",
      "  File \"/n/home12/binxuwang/.conda/envs/torch2/lib/python3.10/multiprocessing/process.py\", line 160, in is_alive\n",
      "    assert self._parent_pid == os.getpid(), 'can only test a child process'\n",
      "AssertionError: can only test a child process\n",
      "Exception ignored in: <function _MultiProcessingDataLoaderIter.__del__ at 0x14994a833ac0>\n",
      "Traceback (most recent call last):\n",
      "  File \"/n/home12/binxuwang/.conda/envs/torch2/lib/python3.10/site-packages/torch/utils/data/dataloader.py\", line 1479, in __del__\n",
      "    self._shutdown_workers()\n",
      "  File \"/n/home12/binxuwang/.conda/envs/torch2/lib/python3.10/site-packages/torch/utils/data/dataloader.py\", line 1462, in _shutdown_workers\n",
      "    if w.is_alive():\n",
      "  File \"/n/home12/binxuwang/.conda/envs/torch2/lib/python3.10/multiprocessing/process.py\", line 160, in is_alive\n",
      "    assert self._parent_pid == os.getpid(), 'can only test a child process'\n",
      "AssertionError: can only test a child process\n",
      "Exception ignored in: <function _MultiProcessingDataLoaderIter.__del__ at 0x14994a833ac0>\n",
      "Traceback (most recent call last):\n",
      "  File \"/n/home12/binxuwang/.conda/envs/torch2/lib/python3.10/site-packages/torch/utils/data/dataloader.py\", line 1479, in __del__\n",
      "    self._shutdown_workers()\n",
      "  File \"/n/home12/binxuwang/.conda/envs/torch2/lib/python3.10/site-packages/torch/utils/data/dataloader.py\", line 1462, in _shutdown_workers\n",
      "    if w.is_alive():\n",
      "  File \"/n/home12/binxuwang/.conda/envs/torch2/lib/python3.10/multiprocessing/process.py\", line 160, in is_alive\n",
      "    assert self._parent_pid == os.getpid(), 'can only test a child process'\n",
      "AssertionError: can only test a child process\n",
      "Exception ignored in: <function _MultiProcessingDataLoaderIter.__del__ at 0x14994a833ac0>\n",
      "Traceback (most recent call last):\n",
      "  File \"/n/home12/binxuwang/.conda/envs/torch2/lib/python3.10/site-packages/torch/utils/data/dataloader.py\", line 1479, in __del__\n",
      "    self._shutdown_workers()\n",
      "  File \"/n/home12/binxuwang/.conda/envs/torch2/lib/python3.10/site-packages/torch/utils/data/dataloader.py\", line 1462, in _shutdown_workers\n",
      "    if w.is_alive():\n",
      "  File \"/n/home12/binxuwang/.conda/envs/torch2/lib/python3.10/multiprocessing/process.py\", line 160, in is_alive\n",
      "    assert self._parent_pid == os.getpid(), 'can only test a child process'\n",
      "AssertionError: can only test a child process\n",
      "Exception ignored in: <function _MultiProcessingDataLoaderIter.__del__ at 0x14994a833ac0>Exception ignored in: \n",
      "Traceback (most recent call last):\n",
      "<function _MultiProcessingDataLoaderIter.__del__ at 0x14994a833ac0>\n",
      "  File \"/n/home12/binxuwang/.conda/envs/torch2/lib/python3.10/site-packages/torch/utils/data/dataloader.py\", line 1479, in __del__\n",
      "Traceback (most recent call last):\n",
      "  File \"/n/home12/binxuwang/.conda/envs/torch2/lib/python3.10/site-packages/torch/utils/data/dataloader.py\", line 1479, in __del__\n",
      "    self._shutdown_workers()    self._shutdown_workers()\n",
      "\n",
      "  File \"/n/home12/binxuwang/.conda/envs/torch2/lib/python3.10/site-packages/torch/utils/data/dataloader.py\", line 1462, in _shutdown_workers\n",
      "    if w.is_alive():  File \"/n/home12/binxuwang/.conda/envs/torch2/lib/python3.10/site-packages/torch/utils/data/dataloader.py\", line 1462, in _shutdown_workers\n",
      "\n",
      "      File \"/n/home12/binxuwang/.conda/envs/torch2/lib/python3.10/multiprocessing/process.py\", line 160, in is_alive\n",
      "if w.is_alive():\n",
      "  File \"/n/home12/binxuwang/.conda/envs/torch2/lib/python3.10/multiprocessing/process.py\", line 160, in is_alive\n",
      "        assert self._parent_pid == os.getpid(), 'can only test a child process'assert self._parent_pid == os.getpid(), 'can only test a child process'\n",
      "\n",
      "AssertionErrorAssertionError: can only test a child process: can only test a child process\n",
      "\n",
      "Exception ignored in: <function _MultiProcessingDataLoaderIter.__del__ at 0x14994a833ac0>\n",
      "Traceback (most recent call last):\n",
      "  File \"/n/home12/binxuwang/.conda/envs/torch2/lib/python3.10/site-packages/torch/utils/data/dataloader.py\", line 1479, in __del__\n",
      "    self._shutdown_workers()\n",
      "  File \"/n/home12/binxuwang/.conda/envs/torch2/lib/python3.10/site-packages/torch/utils/data/dataloader.py\", line 1462, in _shutdown_workers\n",
      "    if w.is_alive():\n",
      "  File \"/n/home12/binxuwang/.conda/envs/torch2/lib/python3.10/multiprocessing/process.py\", line 160, in is_alive\n",
      "    assert self._parent_pid == os.getpid(), 'can only test a child process'\n",
      "AssertionError: can only test a child process\n",
      "Exception ignored in: <function _MultiProcessingDataLoaderIter.__del__ at 0x14994a833ac0>\n",
      "Traceback (most recent call last):\n",
      "  File \"/n/home12/binxuwang/.conda/envs/torch2/lib/python3.10/site-packages/torch/utils/data/dataloader.py\", line 1479, in __del__\n",
      "    self._shutdown_workers()\n",
      "  File \"/n/home12/binxuwang/.conda/envs/torch2/lib/python3.10/site-packages/torch/utils/data/dataloader.py\", line 1462, in _shutdown_workers\n",
      "    if w.is_alive():\n",
      "  File \"/n/home12/binxuwang/.conda/envs/torch2/lib/python3.10/multiprocessing/process.py\", line 160, in is_alive\n",
      "    assert self._parent_pid == os.getpid(), 'can only test a child process'\n",
      "AssertionError: can only test a child process\n",
      "Exception ignored in: <function _MultiProcessingDataLoaderIter.__del__ at 0x14994a833ac0>\n",
      "Traceback (most recent call last):\n",
      "  File \"/n/home12/binxuwang/.conda/envs/torch2/lib/python3.10/site-packages/torch/utils/data/dataloader.py\", line 1479, in __del__\n",
      "    self._shutdown_workers()\n",
      "  File \"/n/home12/binxuwang/.conda/envs/torch2/lib/python3.10/site-packages/torch/utils/data/dataloader.py\", line 1462, in _shutdown_workers\n",
      "    if w.is_alive():\n",
      "  File \"/n/home12/binxuwang/.conda/envs/torch2/lib/python3.10/multiprocessing/process.py\", line 160, in is_alive\n",
      "    assert self._parent_pid == os.getpid(), 'can only test a child process'\n",
      "AssertionError: can only test a child process\n",
      "Exception ignored in: <function _MultiProcessingDataLoaderIter.__del__ at 0x14994a833ac0>\n",
      "Traceback (most recent call last):\n",
      "  File \"/n/home12/binxuwang/.conda/envs/torch2/lib/python3.10/site-packages/torch/utils/data/dataloader.py\", line 1479, in __del__\n",
      "    self._shutdown_workers()\n",
      "  File \"/n/home12/binxuwang/.conda/envs/torch2/lib/python3.10/site-packages/torch/utils/data/dataloader.py\", line 1462, in _shutdown_workers\n",
      "    if w.is_alive():\n",
      "  File \"/n/home12/binxuwang/.conda/envs/torch2/lib/python3.10/multiprocessing/process.py\", line 160, in is_alive\n",
      "    assert self._parent_pid == os.getpid(), 'can only test a child process'\n",
      "AssertionError: can only test a child process\n"
     ]
    },
    {
     "name": "stdout",
     "output_type": "stream",
     "text": [
      "The (227, 227) setting is overwritten by the size in custom transform\n"
     ]
    },
    {
     "data": {
      "application/vnd.jupyter.widget-view+json": {
       "model_id": "6758cd4ffa444b0f827a2c17e8379020",
       "version_major": 2,
       "version_minor": 0
      },
      "text/plain": [
       "  0%|          | 0/35 [00:00<?, ?it/s]"
      ]
     },
     "metadata": {},
     "output_type": "display_data"
    },
    {
     "name": "stdout",
     "output_type": "stream",
     "text": [
      "The (227, 227) setting is overwritten by the size in custom transform\n"
     ]
    },
    {
     "data": {
      "application/vnd.jupyter.widget-view+json": {
       "model_id": "908296c3c8f9442aabb53cab17845d6e",
       "version_major": 2,
       "version_minor": 0
      },
      "text/plain": [
       "  0%|          | 0/35 [00:00<?, ?it/s]"
      ]
     },
     "metadata": {},
     "output_type": "display_data"
    },
    {
     "name": "stdout",
     "output_type": "stream",
     "text": [
      "The (227, 227) setting is overwritten by the size in custom transform\n"
     ]
    },
    {
     "data": {
      "application/vnd.jupyter.widget-view+json": {
       "model_id": "566e694b416c4480b51a3406f14a472a",
       "version_major": 2,
       "version_minor": 0
      },
      "text/plain": [
       "  0%|          | 0/35 [00:00<?, ?it/s]"
      ]
     },
     "metadata": {},
     "output_type": "display_data"
    },
    {
     "name": "stderr",
     "output_type": "stream",
     "text": [
      "Exception ignored in: <function _MultiProcessingDataLoaderIter.__del__ at 0x14994a833ac0>\n",
      "Traceback (most recent call last):\n",
      "  File \"/n/home12/binxuwang/.conda/envs/torch2/lib/python3.10/site-packages/torch/utils/data/dataloader.py\", line 1479, in __del__\n",
      "    self._shutdown_workers()\n",
      "  File \"/n/home12/binxuwang/.conda/envs/torch2/lib/python3.10/site-packages/torch/utils/data/dataloader.py\", line 1462, in _shutdown_workers\n",
      "    if w.is_alive():\n",
      "  File \"/n/home12/binxuwang/.conda/envs/torch2/lib/python3.10/multiprocessing/process.py\", line 160, in is_alive\n",
      "    assert self._parent_pid == os.getpid(), 'can only test a child process'\n",
      "AssertionError: can only test a child process\n",
      "Exception ignored in: <function _MultiProcessingDataLoaderIter.__del__ at 0x14994a833ac0>\n",
      "Traceback (most recent call last):\n",
      "  File \"/n/home12/binxuwang/.conda/envs/torch2/lib/python3.10/site-packages/torch/utils/data/dataloader.py\", line 1479, in __del__\n",
      "    self._shutdown_workers()\n",
      "  File \"/n/home12/binxuwang/.conda/envs/torch2/lib/python3.10/site-packages/torch/utils/data/dataloader.py\", line 1462, in _shutdown_workers\n",
      "    if w.is_alive():\n",
      "  File \"/n/home12/binxuwang/.conda/envs/torch2/lib/python3.10/multiprocessing/process.py\", line 160, in is_alive\n",
      "    assert self._parent_pid == os.getpid(), 'can only test a child process'\n",
      "AssertionError: can only test a child process\n",
      "Exception ignored in: <function _MultiProcessingDataLoaderIter.__del__ at 0x14994a833ac0>\n",
      "Traceback (most recent call last):\n",
      "  File \"/n/home12/binxuwang/.conda/envs/torch2/lib/python3.10/site-packages/torch/utils/data/dataloader.py\", line 1479, in __del__\n",
      "    self._shutdown_workers()\n",
      "  File \"/n/home12/binxuwang/.conda/envs/torch2/lib/python3.10/site-packages/torch/utils/data/dataloader.py\", line 1462, in _shutdown_workers\n",
      "    if w.is_alive():\n",
      "  File \"/n/home12/binxuwang/.conda/envs/torch2/lib/python3.10/multiprocessing/process.py\", line 160, in is_alive\n",
      "    assert self._parent_pid == os.getpid(), 'can only test a child process'\n",
      "AssertionError: can only test a child process\n",
      "Exception ignored in: <function _MultiProcessingDataLoaderIter.__del__ at 0x14994a833ac0>\n",
      "Traceback (most recent call last):\n",
      "  File \"/n/home12/binxuwang/.conda/envs/torch2/lib/python3.10/site-packages/torch/utils/data/dataloader.py\", line 1479, in __del__\n",
      "    self._shutdown_workers()\n",
      "  File \"/n/home12/binxuwang/.conda/envs/torch2/lib/python3.10/site-packages/torch/utils/data/dataloader.py\", line 1462, in _shutdown_workers\n",
      "    if w.is_alive():\n",
      "  File \"/n/home12/binxuwang/.conda/envs/torch2/lib/python3.10/multiprocessing/process.py\", line 160, in is_alive\n",
      "    assert self._parent_pid == os.getpid(), 'can only test a child process'\n",
      "AssertionError: can only test a child process\n",
      "Exception ignored in: <function _MultiProcessingDataLoaderIter.__del__ at 0x14994a833ac0>\n",
      "Traceback (most recent call last):\n",
      "  File \"/n/home12/binxuwang/.conda/envs/torch2/lib/python3.10/site-packages/torch/utils/data/dataloader.py\", line 1479, in __del__\n",
      "    self._shutdown_workers()\n",
      "  File \"/n/home12/binxuwang/.conda/envs/torch2/lib/python3.10/site-packages/torch/utils/data/dataloader.py\", line 1462, in _shutdown_workers\n",
      "    if w.is_alive():\n",
      "  File \"/n/home12/binxuwang/.conda/envs/torch2/lib/python3.10/multiprocessing/process.py\", line 160, in is_alive\n",
      "    assert self._parent_pid == os.getpid(), 'can only test a child process'\n",
      "AssertionError: can only test a child process\n",
      "Exception ignored in: <function _MultiProcessingDataLoaderIter.__del__ at 0x14994a833ac0>\n",
      "Traceback (most recent call last):\n",
      "  File \"/n/home12/binxuwang/.conda/envs/torch2/lib/python3.10/site-packages/torch/utils/data/dataloader.py\", line 1479, in __del__\n",
      "    self._shutdown_workers()\n",
      "  File \"/n/home12/binxuwang/.conda/envs/torch2/lib/python3.10/site-packages/torch/utils/data/dataloader.py\", line 1462, in _shutdown_workers\n",
      "    if w.is_alive():\n",
      "  File \"/n/home12/binxuwang/.conda/envs/torch2/lib/python3.10/multiprocessing/process.py\", line 160, in is_alive\n",
      "    assert self._parent_pid == os.getpid(), 'can only test a child process'\n",
      "AssertionError: can only test a child process\n",
      "Exception ignored in: <function _MultiProcessingDataLoaderIter.__del__ at 0x14994a833ac0>\n",
      "Traceback (most recent call last):\n",
      "  File \"/n/home12/binxuwang/.conda/envs/torch2/lib/python3.10/site-packages/torch/utils/data/dataloader.py\", line 1479, in __del__\n",
      "    self._shutdown_workers()\n",
      "  File \"/n/home12/binxuwang/.conda/envs/torch2/lib/python3.10/site-packages/torch/utils/data/dataloader.py\", line 1462, in _shutdown_workers\n",
      "    if w.is_alive():\n",
      "  File \"/n/home12/binxuwang/.conda/envs/torch2/lib/python3.10/multiprocessing/process.py\", line 160, in is_alive\n",
      "    assert self._parent_pid == os.getpid(), 'can only test a child process'\n",
      "AssertionError: can only test a child process\n",
      "Exception ignored in: <function _MultiProcessingDataLoaderIter.__del__ at 0x14994a833ac0>\n",
      "Traceback (most recent call last):\n",
      "  File \"/n/home12/binxuwang/.conda/envs/torch2/lib/python3.10/site-packages/torch/utils/data/dataloader.py\", line 1479, in __del__\n",
      "    self._shutdown_workers()\n",
      "  File \"/n/home12/binxuwang/.conda/envs/torch2/lib/python3.10/site-packages/torch/utils/data/dataloader.py\", line 1462, in _shutdown_workers\n",
      "    if w.is_alive():\n",
      "  File \"/n/home12/binxuwang/.conda/envs/torch2/lib/python3.10/multiprocessing/process.py\", line 160, in is_alive\n",
      "    assert self._parent_pid == os.getpid(), 'can only test a child process'\n",
      "AssertionError: can only test a child process\n",
      "Exception ignored in: <function _MultiProcessingDataLoaderIter.__del__ at 0x14994a833ac0>\n",
      "Traceback (most recent call last):\n",
      "  File \"/n/home12/binxuwang/.conda/envs/torch2/lib/python3.10/site-packages/torch/utils/data/dataloader.py\", line 1479, in __del__\n",
      "    self._shutdown_workers()\n",
      "  File \"/n/home12/binxuwang/.conda/envs/torch2/lib/python3.10/site-packages/torch/utils/data/dataloader.py\", line 1462, in _shutdown_workers\n",
      "    if w.is_alive():\n",
      "  File \"/n/home12/binxuwang/.conda/envs/torch2/lib/python3.10/multiprocessing/process.py\", line 160, in is_alive\n",
      "    assert self._parent_pid == os.getpid(), 'can only test a child process'\n",
      "AssertionError: can only test a child process\n",
      "Exception ignored in: <function _MultiProcessingDataLoaderIter.__del__ at 0x14994a833ac0>\n",
      "Traceback (most recent call last):\n",
      "  File \"/n/home12/binxuwang/.conda/envs/torch2/lib/python3.10/site-packages/torch/utils/data/dataloader.py\", line 1479, in __del__\n",
      "    self._shutdown_workers()\n",
      "  File \"/n/home12/binxuwang/.conda/envs/torch2/lib/python3.10/site-packages/torch/utils/data/dataloader.py\", line 1462, in _shutdown_workers\n",
      "    if w.is_alive():\n",
      "  File \"/n/home12/binxuwang/.conda/envs/torch2/lib/python3.10/multiprocessing/process.py\", line 160, in is_alive\n",
      "    assert self._parent_pid == os.getpid(), 'can only test a child process'\n",
      "AssertionError: can only test a child process\n",
      "Exception ignored in: <function _MultiProcessingDataLoaderIter.__del__ at 0x14994a833ac0>\n",
      "Traceback (most recent call last):\n",
      "  File \"/n/home12/binxuwang/.conda/envs/torch2/lib/python3.10/site-packages/torch/utils/data/dataloader.py\", line 1479, in __del__\n",
      "    self._shutdown_workers()\n",
      "  File \"/n/home12/binxuwang/.conda/envs/torch2/lib/python3.10/site-packages/torch/utils/data/dataloader.py\", line 1462, in _shutdown_workers\n",
      "    if w.is_alive():\n",
      "  File \"/n/home12/binxuwang/.conda/envs/torch2/lib/python3.10/multiprocessing/process.py\", line 160, in is_alive\n",
      "    assert self._parent_pid == os.getpid(), 'can only test a child process'\n",
      "AssertionError: can only test a child process\n",
      "Exception ignored in: <function _MultiProcessingDataLoaderIter.__del__ at 0x14994a833ac0>\n",
      "Traceback (most recent call last):\n",
      "  File \"/n/home12/binxuwang/.conda/envs/torch2/lib/python3.10/site-packages/torch/utils/data/dataloader.py\", line 1479, in __del__\n",
      "    self._shutdown_workers()\n",
      "  File \"/n/home12/binxuwang/.conda/envs/torch2/lib/python3.10/site-packages/torch/utils/data/dataloader.py\", line 1462, in _shutdown_workers\n",
      "    if w.is_alive():\n",
      "  File \"/n/home12/binxuwang/.conda/envs/torch2/lib/python3.10/multiprocessing/process.py\", line 160, in is_alive\n",
      "    assert self._parent_pid == os.getpid(), 'can only test a child process'\n",
      "AssertionError: can only test a child process\n",
      "Exception ignored in: <function _MultiProcessingDataLoaderIter.__del__ at 0x14994a833ac0>\n",
      "Traceback (most recent call last):\n",
      "  File \"/n/home12/binxuwang/.conda/envs/torch2/lib/python3.10/site-packages/torch/utils/data/dataloader.py\", line 1479, in __del__\n",
      "    self._shutdown_workers()\n",
      "  File \"/n/home12/binxuwang/.conda/envs/torch2/lib/python3.10/site-packages/torch/utils/data/dataloader.py\", line 1462, in _shutdown_workers\n",
      "    if w.is_alive():\n",
      "  File \"/n/home12/binxuwang/.conda/envs/torch2/lib/python3.10/multiprocessing/process.py\", line 160, in is_alive\n",
      "    assert self._parent_pid == os.getpid(), 'can only test a child process'\n",
      "AssertionError: can only test a child process\n",
      "Exception ignored in: Exception ignored in: <function _MultiProcessingDataLoaderIter.__del__ at 0x14994a833ac0><function _MultiProcessingDataLoaderIter.__del__ at 0x14994a833ac0>\n",
      "\n",
      "Traceback (most recent call last):\n",
      "Traceback (most recent call last):\n",
      "  File \"/n/home12/binxuwang/.conda/envs/torch2/lib/python3.10/site-packages/torch/utils/data/dataloader.py\", line 1479, in __del__\n",
      "  File \"/n/home12/binxuwang/.conda/envs/torch2/lib/python3.10/site-packages/torch/utils/data/dataloader.py\", line 1479, in __del__\n",
      "        self._shutdown_workers()self._shutdown_workers()\n",
      "\n",
      "  File \"/n/home12/binxuwang/.conda/envs/torch2/lib/python3.10/site-packages/torch/utils/data/dataloader.py\", line 1462, in _shutdown_workers\n",
      "  File \"/n/home12/binxuwang/.conda/envs/torch2/lib/python3.10/site-packages/torch/utils/data/dataloader.py\", line 1462, in _shutdown_workers\n",
      "        if w.is_alive():if w.is_alive():\n",
      "\n",
      "  File \"/n/home12/binxuwang/.conda/envs/torch2/lib/python3.10/multiprocessing/process.py\", line 160, in is_alive\n",
      "  File \"/n/home12/binxuwang/.conda/envs/torch2/lib/python3.10/multiprocessing/process.py\", line 160, in is_alive\n",
      "        assert self._parent_pid == os.getpid(), 'can only test a child process'assert self._parent_pid == os.getpid(), 'can only test a child process'\n",
      "\n",
      "AssertionErrorAssertionError: : can only test a child processcan only test a child process\n",
      "\n",
      "Exception ignored in: <function _MultiProcessingDataLoaderIter.__del__ at 0x14994a833ac0>\n",
      "Traceback (most recent call last):\n",
      "  File \"/n/home12/binxuwang/.conda/envs/torch2/lib/python3.10/site-packages/torch/utils/data/dataloader.py\", line 1479, in __del__\n",
      "    self._shutdown_workers()\n",
      "  File \"/n/home12/binxuwang/.conda/envs/torch2/lib/python3.10/site-packages/torch/utils/data/dataloader.py\", line 1462, in _shutdown_workers\n",
      "    if w.is_alive():\n",
      "  File \"/n/home12/binxuwang/.conda/envs/torch2/lib/python3.10/multiprocessing/process.py\", line 160, in is_alive\n",
      "    assert self._parent_pid == os.getpid(), 'can only test a child process'\n",
      "AssertionError: can only test a child process\n",
      "Exception ignored in: <function _MultiProcessingDataLoaderIter.__del__ at 0x14994a833ac0>\n",
      "Traceback (most recent call last):\n",
      "  File \"/n/home12/binxuwang/.conda/envs/torch2/lib/python3.10/site-packages/torch/utils/data/dataloader.py\", line 1479, in __del__\n",
      "    self._shutdown_workers()\n",
      "  File \"/n/home12/binxuwang/.conda/envs/torch2/lib/python3.10/site-packages/torch/utils/data/dataloader.py\", line 1462, in _shutdown_workers\n",
      "    if w.is_alive():\n",
      "  File \"/n/home12/binxuwang/.conda/envs/torch2/lib/python3.10/multiprocessing/process.py\", line 160, in is_alive\n",
      "    assert self._parent_pid == os.getpid(), 'can only test a child process'\n",
      "AssertionError: can only test a child process\n",
      "Exception ignored in: <function _MultiProcessingDataLoaderIter.__del__ at 0x14994a833ac0>\n",
      "Traceback (most recent call last):\n",
      "  File \"/n/home12/binxuwang/.conda/envs/torch2/lib/python3.10/site-packages/torch/utils/data/dataloader.py\", line 1479, in __del__\n",
      "    self._shutdown_workers()\n",
      "  File \"/n/home12/binxuwang/.conda/envs/torch2/lib/python3.10/site-packages/torch/utils/data/dataloader.py\", line 1462, in _shutdown_workers\n",
      "    if w.is_alive():\n",
      "  File \"/n/home12/binxuwang/.conda/envs/torch2/lib/python3.10/multiprocessing/process.py\", line 160, in is_alive\n",
      "    assert self._parent_pid == os.getpid(), 'can only test a child process'\n",
      "AssertionError: can only test a child process\n",
      "Exception ignored in: <function _MultiProcessingDataLoaderIter.__del__ at 0x14994a833ac0>\n",
      "Traceback (most recent call last):\n",
      "  File \"/n/home12/binxuwang/.conda/envs/torch2/lib/python3.10/site-packages/torch/utils/data/dataloader.py\", line 1479, in __del__\n",
      "    self._shutdown_workers()\n",
      "  File \"/n/home12/binxuwang/.conda/envs/torch2/lib/python3.10/site-packages/torch/utils/data/dataloader.py\", line 1462, in _shutdown_workers\n",
      "    if w.is_alive():\n",
      "  File \"/n/home12/binxuwang/.conda/envs/torch2/lib/python3.10/multiprocessing/process.py\", line 160, in is_alive\n",
      "    assert self._parent_pid == os.getpid(), 'can only test a child process'\n",
      "AssertionError: can only test a child process\n",
      "Exception ignored in: <function _MultiProcessingDataLoaderIter.__del__ at 0x14994a833ac0>\n",
      "Traceback (most recent call last):\n",
      "  File \"/n/home12/binxuwang/.conda/envs/torch2/lib/python3.10/site-packages/torch/utils/data/dataloader.py\", line 1479, in __del__\n",
      "    self._shutdown_workers()\n",
      "  File \"/n/home12/binxuwang/.conda/envs/torch2/lib/python3.10/site-packages/torch/utils/data/dataloader.py\", line 1462, in _shutdown_workers\n",
      "    if w.is_alive():\n",
      "  File \"/n/home12/binxuwang/.conda/envs/torch2/lib/python3.10/multiprocessing/process.py\", line 160, in is_alive\n",
      "    assert self._parent_pid == os.getpid(), 'can only test a child process'\n",
      "AssertionError: can only test a child process\n",
      "Exception ignored in: <function _MultiProcessingDataLoaderIter.__del__ at 0x14994a833ac0>\n",
      "Traceback (most recent call last):\n",
      "  File \"/n/home12/binxuwang/.conda/envs/torch2/lib/python3.10/site-packages/torch/utils/data/dataloader.py\", line 1479, in __del__\n",
      "    Exception ignored in: <function _MultiProcessingDataLoaderIter.__del__ at 0x14994a833ac0>self._shutdown_workers()\n",
      "\n",
      "  File \"/n/home12/binxuwang/.conda/envs/torch2/lib/python3.10/site-packages/torch/utils/data/dataloader.py\", line 1462, in _shutdown_workers\n",
      "Traceback (most recent call last):\n",
      "      File \"/n/home12/binxuwang/.conda/envs/torch2/lib/python3.10/site-packages/torch/utils/data/dataloader.py\", line 1479, in __del__\n",
      "if w.is_alive():    \n",
      "self._shutdown_workers()  File \"/n/home12/binxuwang/.conda/envs/torch2/lib/python3.10/multiprocessing/process.py\", line 160, in is_alive\n",
      "\n",
      "      File \"/n/home12/binxuwang/.conda/envs/torch2/lib/python3.10/site-packages/torch/utils/data/dataloader.py\", line 1462, in _shutdown_workers\n",
      "assert self._parent_pid == os.getpid(), 'can only test a child process'    \n",
      "if w.is_alive():AssertionError\n",
      "  File \"/n/home12/binxuwang/.conda/envs/torch2/lib/python3.10/multiprocessing/process.py\", line 160, in is_alive\n",
      ":     can only test a child processassert self._parent_pid == os.getpid(), 'can only test a child process'\n",
      "\n",
      "AssertionError: can only test a child process\n",
      "Exception ignored in: <function _MultiProcessingDataLoaderIter.__del__ at 0x14994a833ac0>\n",
      "Traceback (most recent call last):\n",
      "Exception ignored in:   File \"/n/home12/binxuwang/.conda/envs/torch2/lib/python3.10/site-packages/torch/utils/data/dataloader.py\", line 1479, in __del__\n",
      "<function _MultiProcessingDataLoaderIter.__del__ at 0x14994a833ac0>    \n",
      "self._shutdown_workers()Traceback (most recent call last):\n",
      "\n",
      "  File \"/n/home12/binxuwang/.conda/envs/torch2/lib/python3.10/site-packages/torch/utils/data/dataloader.py\", line 1479, in __del__\n",
      "  File \"/n/home12/binxuwang/.conda/envs/torch2/lib/python3.10/site-packages/torch/utils/data/dataloader.py\", line 1462, in _shutdown_workers\n",
      "        self._shutdown_workers()if w.is_alive():\n",
      "\n",
      "  File \"/n/home12/binxuwang/.conda/envs/torch2/lib/python3.10/multiprocessing/process.py\", line 160, in is_alive\n",
      "  File \"/n/home12/binxuwang/.conda/envs/torch2/lib/python3.10/site-packages/torch/utils/data/dataloader.py\", line 1462, in _shutdown_workers\n",
      "        assert self._parent_pid == os.getpid(), 'can only test a child process'if w.is_alive():\n",
      "\n",
      "  File \"/n/home12/binxuwang/.conda/envs/torch2/lib/python3.10/multiprocessing/process.py\", line 160, in is_alive\n",
      "AssertionError    : assert self._parent_pid == os.getpid(), 'can only test a child process'can only test a child process\n",
      "\n",
      "AssertionError: can only test a child process\n"
     ]
    }
   ],
   "source": [
    "population_pred_day3_RN50_Lasso = get_prediction_responses(pred_fn_RN50_Lasso, transforms_pipeline, data_dict_day3[\"image_fps\"])\n",
    "population_pred_day3_RN50_Ridge = get_prediction_responses(pred_fn_RN50_Ridge, transforms_pipeline, data_dict_day3[\"image_fps\"])\n",
    "population_pred_day3_RN50rbst_Lasso = get_prediction_responses(pred_fn_RN50robust_Lasso, transforms_pipeline_rbst, data_dict_day3[\"image_fps\"])\n",
    "population_pred_day3_RN50rbst_Ridge = get_prediction_responses(pred_fn_RN50robust_Ridge, transforms_pipeline_rbst, data_dict_day3[\"image_fps\"])\n",
    "# ~ 3min43s per run if loading from scratch"
   ]
  },
  {
   "cell_type": "code",
   "execution_count": null,
   "metadata": {},
   "outputs": [
    {
     "name": "stdout",
     "output_type": "stream",
     "text": [
      "The (227, 227) setting is overwritten by the size in custom transform\n"
     ]
    },
    {
     "data": {
      "application/vnd.jupyter.widget-view+json": {
       "model_id": "ce838e62463943b0bfd18298cb0c3bdb",
       "version_major": 2,
       "version_minor": 0
      },
      "text/plain": [
       "  0%|          | 0/11 [00:00<?, ?it/s]"
      ]
     },
     "metadata": {},
     "output_type": "display_data"
    },
    {
     "name": "stdout",
     "output_type": "stream",
     "text": [
      "The (227, 227) setting is overwritten by the size in custom transform\n"
     ]
    },
    {
     "data": {
      "application/vnd.jupyter.widget-view+json": {
       "model_id": "617b34def4654fe29dc1bf366ae8c777",
       "version_major": 2,
       "version_minor": 0
      },
      "text/plain": [
       "  0%|          | 0/11 [00:00<?, ?it/s]"
      ]
     },
     "metadata": {},
     "output_type": "display_data"
    },
    {
     "name": "stdout",
     "output_type": "stream",
     "text": [
      "The (227, 227) setting is overwritten by the size in custom transform\n"
     ]
    },
    {
     "data": {
      "application/vnd.jupyter.widget-view+json": {
       "model_id": "110f6dbff0ee480a946a70bcec09201b",
       "version_major": 2,
       "version_minor": 0
      },
      "text/plain": [
       "  0%|          | 0/11 [00:00<?, ?it/s]"
      ]
     },
     "metadata": {},
     "output_type": "display_data"
    },
    {
     "name": "stdout",
     "output_type": "stream",
     "text": [
      "The (227, 227) setting is overwritten by the size in custom transform\n"
     ]
    },
    {
     "data": {
      "application/vnd.jupyter.widget-view+json": {
       "model_id": "4b6049f26f3e419a8d64c65168cfd5d3",
       "version_major": 2,
       "version_minor": 0
      },
      "text/plain": [
       "  0%|          | 0/11 [00:00<?, ?it/s]"
      ]
     },
     "metadata": {},
     "output_type": "display_data"
    },
    {
     "name": "stderr",
     "output_type": "stream",
     "text": [
      "Exception ignored in: <function _ConnectionBase.__del__ at 0x14994ab384c0>\n",
      "Traceback (most recent call last):\n",
      "  File \"/n/home12/binxuwang/.conda/envs/torch2/lib/python3.10/multiprocessing/connection.py\", line 132, in __del__\n",
      "    self._close()\n",
      "  File \"/n/home12/binxuwang/.conda/envs/torch2/lib/python3.10/multiprocessing/connection.py\", line 361, in _close\n",
      "    _close(self._handle)\n",
      "OSError: [Errno 9] Bad file descriptor\n",
      "Exception in thread QueueFeederThread:\n",
      "Traceback (most recent call last):\n",
      "  File \"/n/home12/binxuwang/.conda/envs/torch2/lib/python3.10/multiprocessing/queues.py\", line 239, in _feed\n",
      "Exception in thread QueueFeederThread:\n",
      "Traceback (most recent call last):\n",
      "  File \"/n/home12/binxuwang/.conda/envs/torch2/lib/python3.10/multiprocessing/queues.py\", line 239, in _feed\n",
      "    reader_close()\n",
      "  File \"/n/home12/binxuwang/.conda/envs/torch2/lib/python3.10/multiprocessing/connection.py\", line 177, in close\n",
      "    reader_close()\n",
      "  File \"/n/home12/binxuwang/.conda/envs/torch2/lib/python3.10/multiprocessing/connection.py\", line 177, in close\n",
      "    self._close()\n",
      "  File \"/n/home12/binxuwang/.conda/envs/torch2/lib/python3.10/multiprocessing/connection.py\", line 361, in _close\n",
      "    self._close()\n",
      "  File \"/n/home12/binxuwang/.conda/envs/torch2/lib/python3.10/multiprocessing/connection.py\", line 361, in _close\n",
      "    _close(self._handle)\n",
      "OSError: [Errno 9] Bad file descriptor\n",
      "\n",
      "During handling of the above exception, another exception occurred:\n",
      "\n",
      "Traceback (most recent call last):\n",
      "  File \"/n/home12/binxuwang/.conda/envs/torch2/lib/python3.10/threading.py\", line 1016, in _bootstrap_inner\n",
      "    _close(self._handle)\n",
      "OSError: [Errno 9] Bad file descriptor\n",
      "\n",
      "During handling of the above exception, another exception occurred:\n",
      "\n",
      "Traceback (most recent call last):\n",
      "  File \"/n/home12/binxuwang/.conda/envs/torch2/lib/python3.10/threading.py\", line 1016, in _bootstrap_inner\n",
      "Exception in thread QueueFeederThread:\n",
      "Traceback (most recent call last):\n",
      "  File \"/n/home12/binxuwang/.conda/envs/torch2/lib/python3.10/multiprocessing/queues.py\", line 239, in _feed\n",
      "    self.run()\n",
      "  File \"/n/home12/binxuwang/.conda/envs/torch2/lib/python3.10/site-packages/ipykernel/ipkernel.py\", line 766, in run_closure\n",
      "    self.run()\n",
      "  File \"/n/home12/binxuwang/.conda/envs/torch2/lib/python3.10/site-packages/ipykernel/ipkernel.py\", line 766, in run_closure\n",
      "    reader_close()\n",
      "  File \"/n/home12/binxuwang/.conda/envs/torch2/lib/python3.10/multiprocessing/connection.py\", line 177, in close\n",
      "    self._close()\n",
      "  File \"/n/home12/binxuwang/.conda/envs/torch2/lib/python3.10/multiprocessing/connection.py\", line 361, in _close\n",
      "    _close(self._handle)\n",
      "OSError: [Errno 9] Bad file descriptor\n",
      "\n",
      "During handling of the above exception, another exception occurred:\n",
      "\n",
      "Traceback (most recent call last):\n",
      "  File \"/n/home12/binxuwang/.conda/envs/torch2/lib/python3.10/threading.py\", line 1016, in _bootstrap_inner\n",
      "    _threading_Thread_run(self)\n",
      "  File \"/n/home12/binxuwang/.conda/envs/torch2/lib/python3.10/threading.py\", line 953, in run\n",
      "    _threading_Thread_run(self)\n",
      "  File \"/n/home12/binxuwang/.conda/envs/torch2/lib/python3.10/threading.py\", line 953, in run\n",
      "    self.run()\n",
      "  File \"/n/home12/binxuwang/.conda/envs/torch2/lib/python3.10/site-packages/ipykernel/ipkernel.py\", line 766, in run_closure\n",
      "    self._target(*self._args, **self._kwargs)\n",
      "  File \"/n/home12/binxuwang/.conda/envs/torch2/lib/python3.10/multiprocessing/queues.py\", line 271, in _feed\n",
      "    self._target(*self._args, **self._kwargs)\n",
      "  File \"/n/home12/binxuwang/.conda/envs/torch2/lib/python3.10/multiprocessing/queues.py\", line 271, in _feed\n",
      "    _threading_Thread_run(self)\n",
      "  File \"/n/home12/binxuwang/.conda/envs/torch2/lib/python3.10/threading.py\", line 953, in run\n",
      "    queue_sem.release()\n",
      "ValueError: semaphore or lock released too many times\n",
      "    queue_sem.release()\n",
      "ValueError: semaphore or lock released too many times\n",
      "    self._target(*self._args, **self._kwargs)\n",
      "  File \"/n/home12/binxuwang/.conda/envs/torch2/lib/python3.10/multiprocessing/queues.py\", line 271, in _feed\n",
      "    queue_sem.release()\n",
      "ValueError: semaphore or lock released too many times\n"
     ]
    }
   ],
   "source": [
    "population_pred_day1_RN50_Lasso = get_prediction_responses(pred_fn_RN50_Lasso, transforms_pipeline, data_dict_day1[\"image_fps\"])\n",
    "population_pred_day1_RN50_Ridge = get_prediction_responses(pred_fn_RN50_Ridge, transforms_pipeline, data_dict_day1[\"image_fps\"])\n",
    "population_pred_day1_RN50rbst_Lasso = get_prediction_responses(pred_fn_RN50robust_Lasso, transforms_pipeline_rbst, data_dict_day1[\"image_fps\"])\n",
    "population_pred_day1_RN50rbst_Ridge = get_prediction_responses(pred_fn_RN50robust_Ridge, transforms_pipeline_rbst, data_dict_day1[\"image_fps\"])"
   ]
  }
 ],
 "metadata": {
  "kernelspec": {
   "display_name": "torch2",
   "language": "python",
   "name": "python3"
  },
  "language_info": {
   "codemirror_mode": {
    "name": "ipython",
    "version": 3
   },
   "file_extension": ".py",
   "mimetype": "text/x-python",
   "name": "python",
   "nbconvert_exporter": "python",
   "pygments_lexer": "ipython3",
   "version": "3.10.14"
  }
 },
 "nbformat": 4,
 "nbformat_minor": 2
}
