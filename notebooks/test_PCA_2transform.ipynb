{
 "cells": [
  {
   "cell_type": "code",
   "execution_count": 1,
   "metadata": {},
   "outputs": [],
   "source": [
    "%load_ext autoreload\n",
    "%autoreload 2\n",
    "\n",
    "import sys\n",
    "sys.path.append(\"/n/home12/binxuwang/Github/Closed-loop-visual-insilico\")"
   ]
  },
  {
   "cell_type": "code",
   "execution_count": 3,
   "metadata": {},
   "outputs": [
    {
     "name": "stdout",
     "output_type": "stream",
     "text": [
      "torch.Size([1000, 500]) torch.Size([1000, 500]) (1000, 500)\n"
     ]
    },
    {
     "ename": "AssertionError",
     "evalue": "",
     "output_type": "error",
     "traceback": [
      "\u001b[0;31m---------------------------------------------------------------------------\u001b[0m",
      "\u001b[0;31mAssertionError\u001b[0m                            Traceback (most recent call last)",
      "Cell \u001b[0;32mIn[3], line 2\u001b[0m\n\u001b[1;32m      1\u001b[0m \u001b[38;5;28;01mfrom\u001b[39;00m \u001b[38;5;21;01mneural_regress\u001b[39;00m\u001b[38;5;21;01m.\u001b[39;00m\u001b[38;5;21;01mPCA_dual_solver_lib\u001b[39;00m \u001b[38;5;28;01mimport\u001b[39;00m pca_dual_fit_transform_sep, test_pca_dual_fit_transform_sep\n\u001b[0;32m----> 2\u001b[0m \u001b[43mtest_pca_dual_fit_transform_sep\u001b[49m\u001b[43m(\u001b[49m\u001b[43m)\u001b[49m\n",
      "File \u001b[0;32m~/Github/Closed-loop-visual-insilico/neural_regress/PCA_dual_solver_lib.py:258\u001b[0m, in \u001b[0;36mtest_pca_dual_fit_transform_sep\u001b[0;34m()\u001b[0m\n\u001b[1;32m    256\u001b[0m X2transform_proj_sklearn \u001b[38;5;241m=\u001b[39m pca\u001b[38;5;241m.\u001b[39mtransform(X2transform)\n\u001b[1;32m    257\u001b[0m \u001b[38;5;28mprint\u001b[39m(X_proj\u001b[38;5;241m.\u001b[39mshape, X2transform_proj\u001b[38;5;241m.\u001b[39mshape, X2transform_proj_sklearn\u001b[38;5;241m.\u001b[39mshape)\n\u001b[0;32m--> 258\u001b[0m \u001b[38;5;28;01massert\u001b[39;00m np\u001b[38;5;241m.\u001b[39mallclose(X2transform_proj, X2transform_proj_sklearn)\n",
      "\u001b[0;31mAssertionError\u001b[0m: "
     ]
    }
   ],
   "source": [
    "from neural_regress.PCA_dual_solver_lib import pca_dual_fit_transform_sep, test_pca_dual_fit_transform_sep\n",
    "test_pca_dual_fit_transform_sep()\n"
   ]
  },
  {
   "cell_type": "code",
   "execution_count": 24,
   "metadata": {},
   "outputs": [
    {
     "name": "stdout",
     "output_type": "stream",
     "text": [
      "torch.Size([1000, 500]) torch.Size([1000, 500]) (1000, 500)\n"
     ]
    }
   ],
   "source": [
    "import numpy as np\n",
    "Xtrain = np.random.randn(1000, 1000)\n",
    "X2transform = np.random.randn(1000, 1000)\n",
    "n_components = 500\n",
    "pca, X_proj, X2transform_proj = pca_dual_fit_transform_sep(Xtrain, X2transform, n_components)\n",
    "X2transform_proj_sklearn = pca.transform(X2transform)\n",
    "print(X_proj.shape, X2transform_proj.shape, X2transform_proj_sklearn.shape)\n",
    "assert np.allclose(X2transform_proj, X2transform_proj_sklearn, rtol=1e-6, atol=1e-6)"
   ]
  },
  {
   "cell_type": "code",
   "execution_count": 6,
   "metadata": {},
   "outputs": [
    {
     "data": {
      "text/plain": [
       "array([[-0.49056029,  0.29869342, -1.13201759, ..., -2.18469555,\n",
       "        -0.41515174,  0.28874926],\n",
       "       [-0.06305505, -0.46494493, -0.59714244, ..., -0.26795907,\n",
       "         0.71598387,  0.0831137 ],\n",
       "       [-1.89103011, -0.96864189,  2.30908995, ..., -0.99726989,\n",
       "         0.98656705,  1.20061261],\n",
       "       ...,\n",
       "       [-0.80486922,  0.21865734, -1.03942121, ...,  1.42050113,\n",
       "         0.21716037,  1.17328429],\n",
       "       [ 0.50593119,  0.39864114,  0.72818562, ...,  1.22119703,\n",
       "         0.08457007, -1.33274869],\n",
       "       [ 0.81396943,  0.56278814, -2.78290831, ..., -0.16646472,\n",
       "         0.82209741,  0.59107487]])"
      ]
     },
     "execution_count": 6,
     "metadata": {},
     "output_type": "execute_result"
    }
   ],
   "source": [
    "X2transform_proj_sklearn"
   ]
  },
  {
   "cell_type": "code",
   "execution_count": 8,
   "metadata": {},
   "outputs": [
    {
     "data": {
      "text/plain": [
       "torch.float32"
      ]
     },
     "execution_count": 8,
     "metadata": {},
     "output_type": "execute_result"
    }
   ],
   "source": [
    "X2transform_proj.dtype"
   ]
  },
  {
   "cell_type": "code",
   "execution_count": 5,
   "metadata": {},
   "outputs": [
    {
     "name": "stdout",
     "output_type": "stream",
     "text": [
      "tensor(-0.0004, dtype=torch.float64)\n"
     ]
    }
   ],
   "source": [
    "print((X2transform_proj - X2transform_proj_sklearn).sum())"
   ]
  },
  {
   "cell_type": "code",
   "execution_count": null,
   "metadata": {},
   "outputs": [],
   "source": []
  }
 ],
 "metadata": {
  "kernelspec": {
   "display_name": "torch2",
   "language": "python",
   "name": "python3"
  },
  "language_info": {
   "codemirror_mode": {
    "name": "ipython",
    "version": 3
   },
   "file_extension": ".py",
   "mimetype": "text/x-python",
   "name": "python",
   "nbconvert_exporter": "python",
   "pygments_lexer": "ipython3",
   "version": "3.10.14"
  }
 },
 "nbformat": 4,
 "nbformat_minor": 2
}
