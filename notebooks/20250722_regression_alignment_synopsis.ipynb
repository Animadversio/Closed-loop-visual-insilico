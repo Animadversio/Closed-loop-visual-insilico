{
 "cells": [
  {
   "cell_type": "code",
   "execution_count": 1,
   "id": "64b2aea4",
   "metadata": {},
   "outputs": [],
   "source": [
    "import os\n",
    "import glob\n",
    "from os.path import join\n",
    "import yaml"
   ]
  },
  {
   "cell_type": "code",
   "execution_count": 4,
   "id": "6c9c3721",
   "metadata": {},
   "outputs": [],
   "source": [
    "acc_stim_root = r\"/n/holylabs/LABS/alvarez_lab/Everyone/Accentuate_VVS/accentuation_outputs\"\n",
    "config_root = r\"/n/holylabs/LABS/alvarez_lab/Everyone/Accentuate_VVS/accentuation_configs\"\n",
    "for subject_id, filename in [\n",
    "    (\"red_20250428-20250430\", \"red_20250428-20250430_vvs-encodingstimuli_z1_rw100-400.h5\"), \n",
    "    (\"paul_20250428-20250430\", \"paul_20250428-20250430_vvs-encodingstimuli_z1_rw100-400.h5\"), \n",
    "    # (\"venus_250426-250429\", \"venus_250426-250429_vvs-encodingstimuli_z1_rw80-250.h5\"),\n",
    "    # (\"three0_250426-250501\", \"three0_250426-250501_vvs-encodingstimuli_z1_rw80-250.h5\"),\n",
    "    # (\"leap_250426-250501\", \"leap_250426-250501_vvs-encodingstimuli_z1_rw80-250.h5\"),\n",
    "]:\n",
    "    posthoc_PCA_dir = f\"/n/holylabs/LABS/alvarez_lab/Lab/VVS_Accentuation/Encoding_models/{subject_id}/posthoc_model_predict_PCA_popul_unit\"\n",
    "    os.makedirs(posthoc_PCA_dir, exist_ok=True)\n",
    "    # config_files\n",
    "    # target_subfolder = glob.glob(join(acc_stim_root, f\"*{subject_id}*_accentuation\"))\n",
    "    os.listdir(posthoc_PCA_dir)"
   ]
  },
  {
   "cell_type": "code",
   "execution_count": 5,
   "id": "6108cde0",
   "metadata": {},
   "outputs": [
    {
     "data": {
      "text/plain": [
       "['df_accentuated_paul_20250428-20250430.pkl']"
      ]
     },
     "execution_count": 5,
     "metadata": {},
     "output_type": "execute_result"
    }
   ],
   "source": [
    "os.listdir(posthoc_PCA_dir)"
   ]
  },
  {
   "cell_type": "code",
   "execution_count": null,
   "id": "25f832d4",
   "metadata": {},
   "outputs": [],
   "source": [
    "/n/holylabs/LABS/alvarez_lab/Lab/VVS_Accentuation/Encoding_models/leap_250426-250501/posthoc_model_predict_PCA_popul_unit"
   ]
  }
 ],
 "metadata": {
  "kernelspec": {
   "display_name": "torch2",
   "language": "python",
   "name": "python3"
  },
  "language_info": {
   "codemirror_mode": {
    "name": "ipython",
    "version": 3
   },
   "file_extension": ".py",
   "mimetype": "text/x-python",
   "name": "python",
   "nbconvert_exporter": "python",
   "pygments_lexer": "ipython3",
   "version": "3.10.14"
  }
 },
 "nbformat": 4,
 "nbformat_minor": 5
}
