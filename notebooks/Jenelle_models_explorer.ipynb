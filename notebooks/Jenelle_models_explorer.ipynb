{
 "cells": [
  {
   "cell_type": "code",
   "execution_count": 10,
   "metadata": {},
   "outputs": [
    {
     "name": "stdout",
     "output_type": "stream",
     "text": [
      "Downloading https://mcdermottlab.mit.edu//jfeather/model_metamers_assets/pytorch_metamers_visual_model_checkpoints.tar to /n/holylfs06/LABS/kempner_fellow_binxuwang/Users/binxuwang/DL_Projects/Feather_metamer_ckpts/visual_networks/pytorch_checkpoints/temp.tar\n",
      "Extracting /n/holylfs06/LABS/kempner_fellow_binxuwang/Users/binxuwang/DL_Projects/Feather_metamer_ckpts/visual_networks/pytorch_checkpoints/temp.tar\n",
      "Removing temp file /n/holylfs06/LABS/kempner_fellow_binxuwang/Users/binxuwang/DL_Projects/Feather_metamer_ckpts/visual_networks/pytorch_checkpoints/temp.tar\n"
     ]
    }
   ],
   "source": [
    "import requests \n",
    "import tarfile\n",
    "import sys\n",
    "import os\n",
    "\n",
    "VISUAL_CHECKPOINTS_LOCATION = '/n/holylfs06/LABS/kempner_fellow_binxuwang/Users/binxuwang/DL_Projects/Feather_metamer_ckpts/visual_networks/pytorch_checkpoints/'\n",
    "AUDIO_CHECKPOINTS_LOCATION = '/n/holylfs06/LABS/kempner_fellow_binxuwang/Users/binxuwang/DL_Projects/Feather_metamer_ckpts/audio_networks/pytorch_checkpoints/'\n",
    "ASSETS_LOCATION = 'assets/' \n",
    "\n",
    "def download_extract_remove(url, extract_location):\n",
    "    temp_file_location = os.path.join(extract_location, 'temp.tar')\n",
    "    print('Downloading %s to %s'%(url, temp_file_location))\n",
    "    with open(temp_file_location, 'wb') as f:\n",
    "        r = requests.get(url, stream=True)\n",
    "        for chunk in r.raw.stream(1024, decode_content=False):\n",
    "            if chunk:\n",
    "                f.write(chunk)\n",
    "                f.flush()\n",
    "    print('Extracting %s'%temp_file_location)\n",
    "    tar = tarfile.open(temp_file_location)\n",
    "    tar.extractall(path=extract_location) # untar file into same directory\n",
    "    tar.close()\n",
    "\n",
    "    print('Removing temp file %s'%temp_file_location)\n",
    "    os.remove(temp_file_location)\n",
    "\n",
    "# Download the visual checkpoints (~5.5GB)\n",
    "url_visual_checkpoints = 'https://mcdermottlab.mit.edu//jfeather/model_metamers_assets/pytorch_metamers_visual_model_checkpoints.tar'\n",
    "download_extract_remove(url_visual_checkpoints, VISUAL_CHECKPOINTS_LOCATION)"
   ]
  },
  {
   "cell_type": "code",
   "execution_count": 2,
   "metadata": {},
   "outputs": [
    {
     "name": "stdout",
     "output_type": "stream",
     "text": [
      "alexnet_rearing\t\t\tGPT-XL_grad_trace\n",
      "BERT_raven_classify\t\tHaimDiffusionRNNProj\n",
      "convrnn_Evol\t\t\tinsilico_exps\n",
      "CorNet-recurrent-evol\t\tLLM_ft\n",
      "DiffusionLowRankNeuron\t\tMamba_raven\n",
      "Diffusion_ObjectRelation\tmini_edm\n",
      "DiffusionSpectralLearningCurve\tPixArt\n",
      "DiT\t\t\t\tresnet-sparsemax-model\n",
      "edm_analy_sample\t\trobust-imagenet-models\n",
      "edm_analy_sampler_benchmark\trobust_models_checkpoints\n",
      "edm_analy_traj_cmp\t\tSiT\n",
      "edm_score_validation\t\tVAR\n",
      "GPT2_raven\n"
     ]
    }
   ],
   "source": [
    "!ls $STORE_DIR/DL_Projects"
   ]
  },
  {
   "cell_type": "code",
   "execution_count": 11,
   "metadata": {},
   "outputs": [
    {
     "name": "stdout",
     "output_type": "stream",
     "text": [
      "alexnet_early_checkpoint_50.pt\n",
      "alexnet_l2_3_random_perturb.pt\n",
      "alexnet_l2_3_robust_training.pt\n",
      "alexnet_linf_4_robust_training.pt\n",
      "alexnet_linf_8_robust_training.pt\n",
      "alexnet_random_linf_8_perturb.pt\n",
      "alexnet_reduced_aliasing_early_checkpoint.pt\n",
      "alexnet_reduced_aliasing.pt\n",
      "gvonealexnet_std4.pt\n",
      "hmax_linear_classification.pt\n",
      "__init__.py\n",
      "ipcl_model_01_alexnet_fc7_ipcl_training_head_ipcl1_fc7_lincls_onecycle.pth.tar\n",
      "README\n",
      "resnet50_byol.pt\n",
      "resnet50_imagenet_l2_3_0_robustness.pt\n",
      "resnet50_imagenet_linf_4_0_robustness.pt\n",
      "resnet50_imagenet_linf_8_0_robustness.pt\n",
      "resnet50_moco_v2.pt\n",
      "resnet50_random_l2_perturb.pt\n",
      "resnet50_random_linf8_perturb.pt\n",
      "resnet50_simclr.pt\n",
      "swsl_resnet50.pt\n"
     ]
    }
   ],
   "source": [
    "!ls $STORE_DIR/DL_Projects/Feather_metamer_ckpts/visual_networks/pytorch_checkpoints"
   ]
  },
  {
   "cell_type": "code",
   "execution_count": 12,
   "metadata": {},
   "outputs": [
    {
     "name": "stdout",
     "output_type": "stream",
     "text": [
      "5.7G\t/n/holylfs06/LABS/kempner_fellow_binxuwang/Users/binxuwang/DL_Projects/Feather_metamer_ckpts/visual_networks/pytorch_checkpoints\n"
     ]
    }
   ],
   "source": [
    "!du -sh $STORE_DIR/DL_Projects/Feather_metamer_ckpts/visual_networks/pytorch_checkpoints"
   ]
  },
  {
   "cell_type": "code",
   "execution_count": 6,
   "metadata": {},
   "outputs": [
    {
     "name": "stdout",
     "output_type": "stream",
     "text": [
      "/n/holylfs06/LABS/kempner_fellow_binxuwang/Users/binxuwang/DL_Projects/Feather_metamer_ckpts/visual_networks/pytorch_checkpoints\n"
     ]
    }
   ],
   "source": [
    "!echo $STORE_DIR/DL_Projects/Feather_metamer_ckpts/visual_networks/pytorch_checkpoints"
   ]
  },
  {
   "cell_type": "code",
   "execution_count": null,
   "metadata": {},
   "outputs": [],
   "source": []
  }
 ],
 "metadata": {
  "kernelspec": {
   "display_name": "torch2",
   "language": "python",
   "name": "python3"
  },
  "language_info": {
   "codemirror_mode": {
    "name": "ipython",
    "version": 3
   },
   "file_extension": ".py",
   "mimetype": "text/x-python",
   "name": "python",
   "nbconvert_exporter": "python",
   "pygments_lexer": "ipython3",
   "version": "3.10.14"
  }
 },
 "nbformat": 4,
 "nbformat_minor": 2
}
